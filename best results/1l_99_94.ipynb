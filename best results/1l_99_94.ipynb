{
 "cells": [
  {
   "cell_type": "code",
   "execution_count": 1,
   "metadata": {
    "colab": {
     "base_uri": "https://localhost:8080/",
     "height": 1000
    },
    "colab_type": "code",
    "id": "6Tzheb9xoLiD",
    "outputId": "2a196451-10bd-491a-fa67-2d3872867c3c"
   },
   "outputs": [
    {
     "name": "stdout",
     "output_type": "stream",
     "text": [
      "Requirement already satisfied: captcha in c:\\users\\karan\\anaconda3\\lib\\site-packages (0.4)\n",
      "Requirement already satisfied: Pillow in c:\\users\\karan\\anaconda3\\lib\\site-packages (from captcha) (9.0.1)\n",
      "Note: you may need to restart the kernel to use updated packages.\n"
     ]
    },
    {
     "name": "stderr",
     "output_type": "stream",
     "text": [
      "WARNING: Ignoring invalid distribution -pencv-python-headless (c:\\users\\karan\\anaconda3\\lib\\site-packages)\n",
      "WARNING: Ignoring invalid distribution -pencv-python-headless (c:\\users\\karan\\anaconda3\\lib\\site-packages)\n",
      "WARNING: Ignoring invalid distribution -pencv-python-headless (c:\\users\\karan\\anaconda3\\lib\\site-packages)\n",
      "WARNING: Ignoring invalid distribution -pencv-python-headless (c:\\users\\karan\\anaconda3\\lib\\site-packages)\n",
      "WARNING: Ignoring invalid distribution -pencv-python-headless (c:\\users\\karan\\anaconda3\\lib\\site-packages)\n",
      "WARNING: Ignoring invalid distribution -pencv-python-headless (c:\\users\\karan\\anaconda3\\lib\\site-packages)\n"
     ]
    },
    {
     "name": "stdout",
     "output_type": "stream",
     "text": [
      "Requirement already satisfied: opencv-python in c:\\users\\karan\\anaconda3\\lib\\site-packages (4.6.0.66)\n",
      "Requirement already satisfied: numpy>=1.19.3 in c:\\users\\karan\\anaconda3\\lib\\site-packages (from opencv-python) (1.23.0)\n",
      "Note: you may need to restart the kernel to use updated packages.\n"
     ]
    },
    {
     "name": "stderr",
     "output_type": "stream",
     "text": [
      "WARNING: Ignoring invalid distribution -pencv-python-headless (c:\\users\\karan\\anaconda3\\lib\\site-packages)\n",
      "WARNING: Ignoring invalid distribution -pencv-python-headless (c:\\users\\karan\\anaconda3\\lib\\site-packages)\n",
      "WARNING: Ignoring invalid distribution -pencv-python-headless (c:\\users\\karan\\anaconda3\\lib\\site-packages)\n",
      "WARNING: Ignoring invalid distribution -pencv-python-headless (c:\\users\\karan\\anaconda3\\lib\\site-packages)\n",
      "WARNING: Ignoring invalid distribution -pencv-python-headless (c:\\users\\karan\\anaconda3\\lib\\site-packages)\n",
      "WARNING: Ignoring invalid distribution -pencv-python-headless (c:\\users\\karan\\anaconda3\\lib\\site-packages)\n",
      "'apt' is not recognized as an internal or external command,\n",
      "operable program or batch file.\n"
     ]
    },
    {
     "name": "stdout",
     "output_type": "stream",
     "text": [
      "Requirement already satisfied: opencv-python-headless in c:\\users\\karan\\anaconda3\\lib\\site-packages (3.4.18.65)\n",
      "Requirement already satisfied: numpy>=1.19.3 in c:\\users\\karan\\anaconda3\\lib\\site-packages (from opencv-python-headless) (1.23.0)\n"
     ]
    },
    {
     "name": "stderr",
     "output_type": "stream",
     "text": [
      "WARNING: Ignoring invalid distribution -pencv-python-headless (c:\\users\\karan\\anaconda3\\lib\\site-packages)\n",
      "WARNING: Ignoring invalid distribution -pencv-python-headless (c:\\users\\karan\\anaconda3\\lib\\site-packages)\n",
      "WARNING: Ignoring invalid distribution -pencv-python-headless (c:\\users\\karan\\anaconda3\\lib\\site-packages)\n",
      "WARNING: Ignoring invalid distribution -pencv-python-headless (c:\\users\\karan\\anaconda3\\lib\\site-packages)\n",
      "WARNING: Ignoring invalid distribution -pencv-python-headless (c:\\users\\karan\\anaconda3\\lib\\site-packages)\n",
      "WARNING: Ignoring invalid distribution -pencv-python-headless (c:\\users\\karan\\anaconda3\\lib\\site-packages)\n"
     ]
    },
    {
     "name": "stdout",
     "output_type": "stream",
     "text": [
      "Requirement already satisfied: opencv-contrib-python-headless in c:\\users\\karan\\anaconda3\\lib\\site-packages (4.6.0.66)\n",
      "Requirement already satisfied: numpy>=1.17.3 in c:\\users\\karan\\anaconda3\\lib\\site-packages (from opencv-contrib-python-headless) (1.23.0)\n"
     ]
    },
    {
     "name": "stderr",
     "output_type": "stream",
     "text": [
      "WARNING: Ignoring invalid distribution -pencv-python-headless (c:\\users\\karan\\anaconda3\\lib\\site-packages)\n",
      "WARNING: Ignoring invalid distribution -pencv-python-headless (c:\\users\\karan\\anaconda3\\lib\\site-packages)\n",
      "WARNING: Ignoring invalid distribution -pencv-python-headless (c:\\users\\karan\\anaconda3\\lib\\site-packages)\n",
      "WARNING: Ignoring invalid distribution -pencv-python-headless (c:\\users\\karan\\anaconda3\\lib\\site-packages)\n",
      "WARNING: Ignoring invalid distribution -pencv-python-headless (c:\\users\\karan\\anaconda3\\lib\\site-packages)\n",
      "WARNING: Ignoring invalid distribution -pencv-python-headless (c:\\users\\karan\\anaconda3\\lib\\site-packages)\n"
     ]
    },
    {
     "name": "stdout",
     "output_type": "stream",
     "text": [
      "Requirement already satisfied: keras in c:\\users\\karan\\anaconda3\\lib\\site-packages (2.9.0)\n",
      "Note: you may need to restart the kernel to use updated packages.\n"
     ]
    },
    {
     "name": "stderr",
     "output_type": "stream",
     "text": [
      "WARNING: Ignoring invalid distribution -pencv-python-headless (c:\\users\\karan\\anaconda3\\lib\\site-packages)\n",
      "WARNING: Ignoring invalid distribution -pencv-python-headless (c:\\users\\karan\\anaconda3\\lib\\site-packages)\n",
      "WARNING: Ignoring invalid distribution -pencv-python-headless (c:\\users\\karan\\anaconda3\\lib\\site-packages)\n",
      "WARNING: Ignoring invalid distribution -pencv-python-headless (c:\\users\\karan\\anaconda3\\lib\\site-packages)\n",
      "WARNING: Ignoring invalid distribution -pencv-python-headless (c:\\users\\karan\\anaconda3\\lib\\site-packages)\n",
      "WARNING: Ignoring invalid distribution -pencv-python-headless (c:\\users\\karan\\anaconda3\\lib\\site-packages)\n",
      "WARNING: Ignoring invalid distribution -pencv-python-headless (c:\\users\\karan\\anaconda3\\lib\\site-packages)\n",
      "WARNING: Ignoring invalid distribution -pencv-python-headless (c:\\users\\karan\\anaconda3\\lib\\site-packages)\n",
      "WARNING: Ignoring invalid distribution -pencv-python-headless (c:\\users\\karan\\anaconda3\\lib\\site-packages)\n",
      "WARNING: Ignoring invalid distribution -pencv-python-headless (c:\\users\\karan\\anaconda3\\lib\\site-packages)\n",
      "WARNING: Ignoring invalid distribution -pencv-python-headless (c:\\users\\karan\\anaconda3\\lib\\site-packages)\n",
      "WARNING: Ignoring invalid distribution -pencv-python-headless (c:\\users\\karan\\anaconda3\\lib\\site-packages)\n"
     ]
    },
    {
     "name": "stdout",
     "output_type": "stream",
     "text": [
      "Requirement already satisfied: opencv-python-headless<4.3 in c:\\users\\karan\\anaconda3\\lib\\site-packages (3.4.18.65)\n",
      "Requirement already satisfied: numpy>=1.14.5 in c:\\users\\karan\\anaconda3\\lib\\site-packages (from opencv-python-headless<4.3) (1.23.0)\n"
     ]
    },
    {
     "name": "stderr",
     "output_type": "stream",
     "text": [
      "C:\\Users\\KARAN\\anaconda3\\lib\\site-packages\\scipy\\__init__.py:146: UserWarning: A NumPy version >=1.16.5 and <1.23.0 is required for this version of SciPy (detected version 1.23.0\n",
      "  warnings.warn(f\"A NumPy version >={np_minversion} and <{np_maxversion}\"\n"
     ]
    }
   ],
   "source": [
    "%pip install captcha \n",
    "%pip install opencv-python\n",
    "!apt update && apt install -y libsm6 libxext6\n",
    "!pip install opencv-python-headless\n",
    "!pip install opencv-contrib-python-headless\n",
    "%pip install keras\n",
    "\n",
    "\n",
    "import argparse\n",
    "import json\n",
    "import string\n",
    "import os\n",
    "import shutil\n",
    "import uuid\n",
    "from captcha.image import ImageCaptcha\n",
    "\n",
    "!pip install \"opencv-python-headless<4.3\"\n",
    "\n",
    "import itertools\n",
    "\n",
    "import os\n",
    "\n",
    "import numpy as np\n",
    "from random import random, randint, choices\n",
    "\n",
    "import keras\n",
    "from keras.models import Sequential, Model\n",
    "from keras.layers import Dense, Dropout, Activation, Flatten\n",
    "from keras.layers import Conv2D, MaxPooling2D, Input\n",
    "import matplotlib.pyplot as plt\n",
    "import cv2"
   ]
  },
  {
   "cell_type": "code",
   "execution_count": 2,
   "metadata": {
    "colab": {},
    "colab_type": "code",
    "id": "yuX06GVdok0-"
   },
   "outputs": [],
   "source": [
    "alphabet_all = list('qwertyuiopasdfghjklzxcvbnm123456789QWERTYUIOPLKJHGFDSAZXCVBNM')\n",
    "alphabet = list('qwertyuiopasdfghjklzxcvbnm123456789')#QWERTYUIOPLKJHGFDSAZXCVBNM')\n",
    "num_alphabet = len(alphabet)\n",
    "def _gen_captcha(img_dir, num_of_letters, num_of_repetition, width, height):\n",
    "    if os.path.exists(img_dir):\n",
    "        shutil.rmtree(img_dir)\n",
    "    if not os.path.exists(img_dir):\n",
    "        os.makedirs(img_dir)\n",
    "\n",
    "    image = ImageCaptcha(width=width, height=height)\n",
    "\n",
    "    for counter in range(num_of_repetition):\n",
    "        i = choices(alphabet_all, k=5)\n",
    "        captcha = ''.join(i)\n",
    "        fn = os.path.join(img_dir, '%s_%s.png' % (captcha, uuid.uuid4()))\n",
    "        image.write(captcha, fn)\n",
    "\n",
    "\n",
    "def gen_dataset(path, num_of_repetition, num_of_letters, width, height):\n",
    "    _gen_captcha(os.path.join(path, 'data'), num_of_letters, num_of_repetition, width, height)\n",
    "    print('Finished Data Generation')"
   ]
  },
  {
   "cell_type": "code",
   "execution_count": 3,
   "metadata": {
    "colab": {},
    "colab_type": "code",
    "id": "MQYOsJyioy5g"
   },
   "outputs": [],
   "source": [
    "BATCH_SIZE = 128\n",
    "NUM_OF_LETTERS = 5\n",
    "EPOCHS = 35\n",
    "IMG_ROW, IMG_COLS = 50, 135\n",
    "\n",
    "# Non-configs\n",
    "PATH = 'C:\\\\Users\\\\KARAN\\\\Desktop\\\\1l'\n",
    "DATA_PATH = os.path.join(PATH, 'train')"
   ]
  },
  {
   "cell_type": "code",
   "execution_count": 4,
   "metadata": {
    "colab": {},
    "colab_type": "code",
    "id": "ItSQ3uTvo5YW"
   },
   "outputs": [],
   "source": [
    "def load_data(path, test_split=0.2):\n",
    "    print ('loading dataset...')\n",
    "    y_train = []\n",
    "    y_test = []\n",
    "    x_train = []\n",
    "    x_test = []\n",
    "\n",
    "    # r=root, d=directories, f = files\n",
    "    counter = 0\n",
    "    for r, d, f in os.walk(path):\n",
    "        for fl in f:\n",
    "            if '.png' in fl:\n",
    "                flr = fl.split('_')[0]\n",
    "                counter += 1\n",
    "                label = np.zeros((NUM_OF_LETTERS, num_alphabet))\n",
    "                for i in range(NUM_OF_LETTERS):\n",
    "                    label[i, alphabet.index(flr[i].lower())] = 1\n",
    "#                 label = np.zeros((50, 1))\n",
    "#                 for i in range(5):\n",
    "#                     label[i*5+int(flr[i])] = 1\n",
    "\n",
    "                img = cv2.imread(os.path.join(r, fl))\n",
    "                img = cv2.cvtColor(img, cv2.COLOR_BGR2GRAY)\n",
    "                img = cv2.resize(img, (int(135/2), int(50/2)), interpolation=cv2.INTER_AREA)\n",
    "                img = np.reshape(img, (img.shape[0], img.shape[1], 1))\n",
    "\n",
    "                if random() < test_split:\n",
    "                    y_test.append(label)\n",
    "                    x_test.append(img)\n",
    "                else:\n",
    "                    y_train.append(label)\n",
    "                    x_train.append(img)\n",
    "\n",
    "    print('dataset size:', counter, '(train=%d, test=%d)' % (len(y_train), len(y_test)))\n",
    "    return np.array(x_train), np.array(y_train), np.array(x_test), np.array(y_test)"
   ]
  },
  {
   "cell_type": "code",
   "execution_count": 5,
   "metadata": {
    "colab": {
     "base_uri": "https://localhost:8080/",
     "height": 52
    },
    "colab_type": "code",
    "id": "bCqtzWWvo798",
    "outputId": "07d26802-aedc-4f24-8ff6-e8458f0c2125"
   },
   "outputs": [
    {
     "name": "stdout",
     "output_type": "stream",
     "text": [
      "Generating Dataset\n",
      "Finished Data Generation\n"
     ]
    }
   ],
   "source": [
    "if not os.path.exists(DATA_PATH):\n",
    "    print('Generating Dataset')\n",
    "    gen_dataset(DATA_PATH,100000, NUM_OF_LETTERS, IMG_COLS, IMG_ROW)\n"
   ]
  },
  {
   "cell_type": "code",
   "execution_count": null,
   "metadata": {},
   "outputs": [],
   "source": []
  },
  {
   "cell_type": "code",
   "execution_count": 6,
   "metadata": {
    "colab": {
     "base_uri": "https://localhost:8080/",
     "height": 52
    },
    "colab_type": "code",
    "id": "AenCMkmco-jv",
    "outputId": "77cd1965-6095-4341-a0c2-3259788fa71a"
   },
   "outputs": [
    {
     "name": "stdout",
     "output_type": "stream",
     "text": [
      "loading dataset...\n",
      "dataset size: 100000 (train=80004, test=19996)\n"
     ]
    }
   ],
   "source": [
    "x_train, y_train, x_test, y_test = load_data(DATA_PATH)\n",
    "x_train[0]\n",
    "x_train = x_train.astype('float32')\n",
    "x_test = x_test.astype('float32')\n",
    "x_train /= 255\n",
    "x_test /= 255"
   ]
  },
  {
   "cell_type": "code",
   "execution_count": null,
   "metadata": {},
   "outputs": [],
   "source": []
  },
  {
   "cell_type": "code",
   "execution_count": 7,
   "metadata": {
    "colab": {
     "base_uri": "https://localhost:8080/",
     "height": 88
    },
    "colab_type": "code",
    "id": "zqV-rssUuhIy",
    "outputId": "cebc9f7e-f5a8-42a8-882d-80e1b7b0b131"
   },
   "outputs": [
    {
     "name": "stdout",
     "output_type": "stream",
     "text": [
      "(80004, 25, 67, 1)\n",
      "(80004, 5, 31)\n",
      "(19996, 25, 67, 1)\n",
      "(19996, 5, 31)\n"
     ]
    }
   ],
   "source": [
    "print(x_train.shape)\n",
    "print(y_train.shape)\n",
    "print(x_test.shape)\n",
    "print(y_test.shape)"
   ]
  },
  {
   "cell_type": "code",
   "execution_count": 8,
   "metadata": {
    "colab": {},
    "colab_type": "code",
    "id": "eASawvTyvMaL"
   },
   "outputs": [],
   "source": [
    "s_train = []\n",
    "s_test = []\n",
    "for i in range(NUM_OF_LETTERS):\n",
    "    s_train.append(y_train[:, i, :])\n",
    "    s_test.append(y_test[:, i, :])"
   ]
  },
  {
   "cell_type": "code",
   "execution_count": 9,
   "metadata": {
    "colab": {},
    "colab_type": "code",
    "id": "DCom2NFKvVF0"
   },
   "outputs": [],
   "source": [
    "save_dir = os.path.join(PATH, 'saved_models')\n",
    "model_name = 'keras_cifar10_trained_model.h5'"
   ]
  },
  {
   "cell_type": "code",
   "execution_count": 10,
   "metadata": {
    "colab": {},
    "colab_type": "code",
    "id": "XS0vWhEuvXgo"
   },
   "outputs": [],
   "source": [
    "input_layer = Input((25, 67, 1))\n",
    "x = Conv2D(filters=32, kernel_size=(5, 5), padding='same', activation='relu')(input_layer)\n",
    "x = Conv2D(filters=32, kernel_size=(5, 5), padding='same', activation='relu')(x)\n",
    "\n",
    "x = MaxPooling2D(pool_size=(2, 2))(x)\n",
    "\n",
    "x = Conv2D(filters=48, kernel_size=(5, 5), padding='same', activation='relu')(x)\n",
    "x = Conv2D(filters=48, kernel_size=(5, 5), padding='same', activation='relu')(x)\n",
    "x = Conv2D(filters=48, kernel_size=(5, 5), padding='same', activation='relu')(x)\n",
    "\n",
    "x = MaxPooling2D(pool_size=(2, 2))(x)\n",
    "\n",
    "x = Conv2D(filters=64, kernel_size=(5, 5), padding='same', activation='relu')(x)\n",
    "x = MaxPooling2D(pool_size=(2, 2))(x)\n",
    "\n",
    "x = Dropout(0.3)(x)\n",
    "x = Flatten()(x)\n",
    "x = Dense(512, activation='relu')(x)\n",
    "x = Dropout(0.3)(x)\n",
    "\n",
    "out = [Dense(num_alphabet, name='digit%d' % i, activation='softmax')(x) for i in range(NUM_OF_LETTERS)]\n",
    "# out = Dense(num_alphabet*5, activation='sigmoid')(x)\n",
    "\n",
    "model = Model(inputs=input_layer, outputs=out)"
   ]
  },
  {
   "cell_type": "code",
   "execution_count": 11,
   "metadata": {
    "colab": {},
    "colab_type": "code",
    "id": "_1aTZ32pvZpl"
   },
   "outputs": [],
   "source": [
    "# model_path = os.path.join(save_dir, model_name)\n",
    "# model = keras.models.load_model(model_path)"
   ]
  },
  {
   "cell_type": "code",
   "execution_count": 12,
   "metadata": {
    "colab": {
     "base_uri": "https://localhost:8080/",
     "height": 728
    },
    "colab_type": "code",
    "id": "mvyFxZTlvfKR",
    "outputId": "e7e68721-8767-4bca-f1fb-7d02e7b68dc0"
   },
   "outputs": [
    {
     "name": "stdout",
     "output_type": "stream",
     "text": [
      "Model: \"model\"\n",
      "__________________________________________________________________________________________________\n",
      " Layer (type)                   Output Shape         Param #     Connected to                     \n",
      "==================================================================================================\n",
      " input_1 (InputLayer)           [(None, 25, 67, 1)]  0           []                               \n",
      "                                                                                                  \n",
      " conv2d (Conv2D)                (None, 25, 67, 32)   832         ['input_1[0][0]']                \n",
      "                                                                                                  \n",
      " conv2d_1 (Conv2D)              (None, 25, 67, 32)   25632       ['conv2d[0][0]']                 \n",
      "                                                                                                  \n",
      " max_pooling2d (MaxPooling2D)   (None, 12, 33, 32)   0           ['conv2d_1[0][0]']               \n",
      "                                                                                                  \n",
      " conv2d_2 (Conv2D)              (None, 12, 33, 48)   38448       ['max_pooling2d[0][0]']          \n",
      "                                                                                                  \n",
      " conv2d_3 (Conv2D)              (None, 12, 33, 48)   57648       ['conv2d_2[0][0]']               \n",
      "                                                                                                  \n",
      " conv2d_4 (Conv2D)              (None, 12, 33, 48)   57648       ['conv2d_3[0][0]']               \n",
      "                                                                                                  \n",
      " max_pooling2d_1 (MaxPooling2D)  (None, 6, 16, 48)   0           ['conv2d_4[0][0]']               \n",
      "                                                                                                  \n",
      " conv2d_5 (Conv2D)              (None, 6, 16, 64)    76864       ['max_pooling2d_1[0][0]']        \n",
      "                                                                                                  \n",
      " max_pooling2d_2 (MaxPooling2D)  (None, 3, 8, 64)    0           ['conv2d_5[0][0]']               \n",
      "                                                                                                  \n",
      " dropout (Dropout)              (None, 3, 8, 64)     0           ['max_pooling2d_2[0][0]']        \n",
      "                                                                                                  \n",
      " flatten (Flatten)              (None, 1536)         0           ['dropout[0][0]']                \n",
      "                                                                                                  \n",
      " dense (Dense)                  (None, 512)          786944      ['flatten[0][0]']                \n",
      "                                                                                                  \n",
      " dropout_1 (Dropout)            (None, 512)          0           ['dense[0][0]']                  \n",
      "                                                                                                  \n",
      " digit0 (Dense)                 (None, 31)           15903       ['dropout_1[0][0]']              \n",
      "                                                                                                  \n",
      " digit1 (Dense)                 (None, 31)           15903       ['dropout_1[0][0]']              \n",
      "                                                                                                  \n",
      " digit2 (Dense)                 (None, 31)           15903       ['dropout_1[0][0]']              \n",
      "                                                                                                  \n",
      " digit3 (Dense)                 (None, 31)           15903       ['dropout_1[0][0]']              \n",
      "                                                                                                  \n",
      " digit4 (Dense)                 (None, 31)           15903       ['dropout_1[0][0]']              \n",
      "                                                                                                  \n",
      "==================================================================================================\n",
      "Total params: 1,123,531\n",
      "Trainable params: 1,123,531\n",
      "Non-trainable params: 0\n",
      "__________________________________________________________________________________________________\n"
     ]
    }
   ],
   "source": [
    "# initiate Adam optimizer\n",
    "\n",
    "model.compile(loss='binary_crossentropy',\n",
    "              optimizer='adam',\n",
    "              metrics=['accuracy'])\n",
    "\n",
    "\n",
    "model.summary() "
   ]
  },
  {
   "cell_type": "code",
   "execution_count": 13,
   "metadata": {
    "colab": {},
    "colab_type": "code",
    "id": "xNW40AXivcK7"
   },
   "outputs": [],
   "source": [
    "hist_train_loss_digit = {i:[] for i in range(5)}\n",
    "hist_test_loss_digit = {i:[] for i in range(5)}\n",
    "\n",
    "hist_train_acc_digit = {i:[] for i in range(5)}\n",
    "hist_test_acc_digit = {i:[] for i in range(5)}\n",
    "\n",
    "hist_train_loss = []\n",
    "hist_test_loss = []\n",
    "\n",
    "hist_train_acc = []\n",
    "hist_test_acc = []"
   ]
  },
  {
   "cell_type": "code",
   "execution_count": 14,
   "metadata": {
    "colab": {},
    "colab_type": "code",
    "id": "VFeIxaatvhap"
   },
   "outputs": [],
   "source": [
    "digit_acc = [[] for _ in range(NUM_OF_LETTERS)]\n",
    "val_digit_acc = [[] for _ in range(NUM_OF_LETTERS)]\n",
    "loss = []\n",
    "val_loss = []"
   ]
  },
  {
   "cell_type": "code",
   "execution_count": 15,
   "metadata": {
    "colab": {
     "base_uri": "https://localhost:8080/",
     "height": 1000
    },
    "colab_type": "code",
    "id": "IQTy-mCRvjIz",
    "outputId": "ed453b3f-f6a8-40f5-932a-50064fbac4cb"
   },
   "outputs": [
    {
     "name": "stdout",
     "output_type": "stream",
     "text": [
      "Epoch 1/35\n",
      "626/626 [==============================] - 362s 576ms/step - loss: 0.7374 - digit0_loss: 0.1473 - digit1_loss: 0.1477 - digit2_loss: 0.1473 - digit3_loss: 0.1479 - digit4_loss: 0.1473 - digit0_accuracy: 0.0376 - digit1_accuracy: 0.0366 - digit2_accuracy: 0.0384 - digit3_accuracy: 0.0365 - digit4_accuracy: 0.0366 - val_loss: 0.7079 - val_digit0_loss: 0.1416 - val_digit1_loss: 0.1414 - val_digit2_loss: 0.1415 - val_digit3_loss: 0.1417 - val_digit4_loss: 0.1417 - val_digit0_accuracy: 0.0373 - val_digit1_accuracy: 0.0372 - val_digit2_accuracy: 0.0382 - val_digit3_accuracy: 0.0360 - val_digit4_accuracy: 0.0385\n",
      "Epoch 2/35\n",
      "626/626 [==============================] - 363s 579ms/step - loss: 0.7131 - digit0_loss: 0.1425 - digit1_loss: 0.1427 - digit2_loss: 0.1426 - digit3_loss: 0.1427 - digit4_loss: 0.1426 - digit0_accuracy: 0.0378 - digit1_accuracy: 0.0363 - digit2_accuracy: 0.0370 - digit3_accuracy: 0.0373 - digit4_accuracy: 0.0376 - val_loss: 0.7077 - val_digit0_loss: 0.1416 - val_digit1_loss: 0.1416 - val_digit2_loss: 0.1415 - val_digit3_loss: 0.1415 - val_digit4_loss: 0.1416 - val_digit0_accuracy: 0.0366 - val_digit1_accuracy: 0.0350 - val_digit2_accuracy: 0.0353 - val_digit3_accuracy: 0.0384 - val_digit4_accuracy: 0.0366\n",
      "Epoch 3/35\n",
      "626/626 [==============================] - 377s 603ms/step - loss: 0.7084 - digit0_loss: 0.1416 - digit1_loss: 0.1419 - digit2_loss: 0.1419 - digit3_loss: 0.1418 - digit4_loss: 0.1413 - digit0_accuracy: 0.0463 - digit1_accuracy: 0.0427 - digit2_accuracy: 0.0435 - digit3_accuracy: 0.0442 - digit4_accuracy: 0.0460 - val_loss: 0.6726 - val_digit0_loss: 0.1328 - val_digit1_loss: 0.1362 - val_digit2_loss: 0.1362 - val_digit3_loss: 0.1355 - val_digit4_loss: 0.1319 - val_digit0_accuracy: 0.1121 - val_digit1_accuracy: 0.0915 - val_digit2_accuracy: 0.0937 - val_digit3_accuracy: 0.0885 - val_digit4_accuracy: 0.1202\n",
      "Epoch 4/35\n",
      "626/626 [==============================] - 446s 712ms/step - loss: 0.5531 - digit0_loss: 0.0987 - digit1_loss: 0.1178 - digit2_loss: 0.1206 - digit3_loss: 0.1167 - digit4_loss: 0.0994 - digit0_accuracy: 0.3828 - digit1_accuracy: 0.2452 - digit2_accuracy: 0.2251 - digit3_accuracy: 0.2547 - digit4_accuracy: 0.3781 - val_loss: 0.3556 - val_digit0_loss: 0.0540 - val_digit1_loss: 0.0826 - val_digit2_loss: 0.0883 - val_digit3_loss: 0.0807 - val_digit4_loss: 0.0501 - val_digit0_accuracy: 0.7419 - val_digit1_accuracy: 0.5348 - val_digit2_accuracy: 0.4933 - val_digit3_accuracy: 0.5555 - val_digit4_accuracy: 0.7532\n",
      "Epoch 5/35\n",
      "626/626 [==============================] - 433s 692ms/step - loss: 0.2888 - digit0_loss: 0.0401 - digit1_loss: 0.0672 - digit2_loss: 0.0768 - digit3_loss: 0.0652 - digit4_loss: 0.0395 - digit0_accuracy: 0.8319 - digit1_accuracy: 0.6575 - digit2_accuracy: 0.5868 - digit3_accuracy: 0.6703 - digit4_accuracy: 0.8384 - val_loss: 0.1677 - val_digit0_loss: 0.0181 - val_digit1_loss: 0.0401 - val_digit2_loss: 0.0517 - val_digit3_loss: 0.0397 - val_digit4_loss: 0.0182 - val_digit0_accuracy: 0.9320 - val_digit1_accuracy: 0.8277 - val_digit2_accuracy: 0.7512 - val_digit3_accuracy: 0.8336 - val_digit4_accuracy: 0.9356\n",
      "Epoch 6/35\n",
      "626/626 [==============================] - 433s 692ms/step - loss: 0.1820 - digit0_loss: 0.0228 - digit1_loss: 0.0426 - digit2_loss: 0.0537 - digit3_loss: 0.0408 - digit4_loss: 0.0221 - digit0_accuracy: 0.9223 - digit1_accuracy: 0.8163 - digit2_accuracy: 0.7441 - digit3_accuracy: 0.8288 - digit4_accuracy: 0.9270 - val_loss: 0.1068 - val_digit0_loss: 0.0104 - val_digit1_loss: 0.0254 - val_digit2_loss: 0.0357 - val_digit3_loss: 0.0247 - val_digit4_loss: 0.0106 - val_digit0_accuracy: 0.9590 - val_digit1_accuracy: 0.8938 - val_digit2_accuracy: 0.8313 - val_digit3_accuracy: 0.8971 - val_digit4_accuracy: 0.9601\n",
      "Epoch 7/35\n",
      "626/626 [==============================] - 425s 679ms/step - loss: 0.1332 - digit0_loss: 0.0162 - digit1_loss: 0.0310 - digit2_loss: 0.0404 - digit3_loss: 0.0298 - digit4_loss: 0.0158 - digit0_accuracy: 0.9493 - digit1_accuracy: 0.8772 - digit2_accuracy: 0.8215 - digit3_accuracy: 0.8831 - digit4_accuracy: 0.9524 - val_loss: 0.0835 - val_digit0_loss: 0.0082 - val_digit1_loss: 0.0194 - val_digit2_loss: 0.0278 - val_digit3_loss: 0.0193 - val_digit4_loss: 0.0088 - val_digit0_accuracy: 0.9688 - val_digit1_accuracy: 0.9239 - val_digit2_accuracy: 0.8773 - val_digit3_accuracy: 0.9193 - val_digit4_accuracy: 0.9665\n",
      "Epoch 8/35\n",
      "626/626 [==============================] - 415s 663ms/step - loss: 0.1042 - digit0_loss: 0.0128 - digit1_loss: 0.0243 - digit2_loss: 0.0315 - digit3_loss: 0.0235 - digit4_loss: 0.0121 - digit0_accuracy: 0.9613 - digit1_accuracy: 0.9092 - digit2_accuracy: 0.8709 - digit3_accuracy: 0.9115 - digit4_accuracy: 0.9648 - val_loss: 0.0543 - val_digit0_loss: 0.0049 - val_digit1_loss: 0.0134 - val_digit2_loss: 0.0186 - val_digit3_loss: 0.0125 - val_digit4_loss: 0.0050 - val_digit0_accuracy: 0.9806 - val_digit1_accuracy: 0.9452 - val_digit2_accuracy: 0.9205 - val_digit3_accuracy: 0.9470 - val_digit4_accuracy: 0.9810\n",
      "Epoch 9/35\n",
      "626/626 [==============================] - 404s 645ms/step - loss: 0.0833 - digit0_loss: 0.0102 - digit1_loss: 0.0196 - digit2_loss: 0.0249 - digit3_loss: 0.0191 - digit4_loss: 0.0096 - digit0_accuracy: 0.9698 - digit1_accuracy: 0.9294 - digit2_accuracy: 0.9039 - digit3_accuracy: 0.9322 - digit4_accuracy: 0.9729 - val_loss: 0.0436 - val_digit0_loss: 0.0042 - val_digit1_loss: 0.0111 - val_digit2_loss: 0.0140 - val_digit3_loss: 0.0101 - val_digit4_loss: 0.0041 - val_digit0_accuracy: 0.9835 - val_digit1_accuracy: 0.9551 - val_digit2_accuracy: 0.9428 - val_digit3_accuracy: 0.9574 - val_digit4_accuracy: 0.9835\n",
      "Epoch 10/35\n",
      "626/626 [==============================] - 407s 650ms/step - loss: 0.0695 - digit0_loss: 0.0085 - digit1_loss: 0.0163 - digit2_loss: 0.0207 - digit3_loss: 0.0158 - digit4_loss: 0.0082 - digit0_accuracy: 0.9756 - digit1_accuracy: 0.9430 - digit2_accuracy: 0.9238 - digit3_accuracy: 0.9448 - digit4_accuracy: 0.9771 - val_loss: 0.0347 - val_digit0_loss: 0.0031 - val_digit1_loss: 0.0090 - val_digit2_loss: 0.0113 - val_digit3_loss: 0.0081 - val_digit4_loss: 0.0031 - val_digit0_accuracy: 0.9867 - val_digit1_accuracy: 0.9624 - val_digit2_accuracy: 0.9541 - val_digit3_accuracy: 0.9657 - val_digit4_accuracy: 0.9873\n",
      "Epoch 11/35\n",
      "626/626 [==============================] - 410s 654ms/step - loss: 0.0593 - digit0_loss: 0.0075 - digit1_loss: 0.0141 - digit2_loss: 0.0173 - digit3_loss: 0.0135 - digit4_loss: 0.0070 - digit0_accuracy: 0.9789 - digit1_accuracy: 0.9512 - digit2_accuracy: 0.9386 - digit3_accuracy: 0.9536 - digit4_accuracy: 0.9805 - val_loss: 0.0357 - val_digit0_loss: 0.0037 - val_digit1_loss: 0.0086 - val_digit2_loss: 0.0110 - val_digit3_loss: 0.0085 - val_digit4_loss: 0.0039 - val_digit0_accuracy: 0.9837 - val_digit1_accuracy: 0.9629 - val_digit2_accuracy: 0.9545 - val_digit3_accuracy: 0.9631 - val_digit4_accuracy: 0.9846\n",
      "Epoch 12/35\n",
      "626/626 [==============================] - 445s 712ms/step - loss: 0.0523 - digit0_loss: 0.0065 - digit1_loss: 0.0126 - digit2_loss: 0.0151 - digit3_loss: 0.0120 - digit4_loss: 0.0061 - digit0_accuracy: 0.9817 - digit1_accuracy: 0.9575 - digit2_accuracy: 0.9479 - digit3_accuracy: 0.9590 - digit4_accuracy: 0.9832 - val_loss: 0.0299 - val_digit0_loss: 0.0031 - val_digit1_loss: 0.0074 - val_digit2_loss: 0.0089 - val_digit3_loss: 0.0073 - val_digit4_loss: 0.0032 - val_digit0_accuracy: 0.9879 - val_digit1_accuracy: 0.9685 - val_digit2_accuracy: 0.9642 - val_digit3_accuracy: 0.9694 - val_digit4_accuracy: 0.9874\n",
      "Epoch 13/35\n",
      "626/626 [==============================] - 414s 662ms/step - loss: 0.0463 - digit0_loss: 0.0058 - digit1_loss: 0.0111 - digit2_loss: 0.0133 - digit3_loss: 0.0106 - digit4_loss: 0.0055 - digit0_accuracy: 0.9839 - digit1_accuracy: 0.9627 - digit2_accuracy: 0.9556 - digit3_accuracy: 0.9646 - digit4_accuracy: 0.9855 - val_loss: 0.0264 - val_digit0_loss: 0.0027 - val_digit1_loss: 0.0068 - val_digit2_loss: 0.0079 - val_digit3_loss: 0.0062 - val_digit4_loss: 0.0028 - val_digit0_accuracy: 0.9888 - val_digit1_accuracy: 0.9715 - val_digit2_accuracy: 0.9680 - val_digit3_accuracy: 0.9727 - val_digit4_accuracy: 0.9891\n",
      "Epoch 14/35\n",
      "626/626 [==============================] - 420s 672ms/step - loss: 0.0422 - digit0_loss: 0.0053 - digit1_loss: 0.0102 - digit2_loss: 0.0122 - digit3_loss: 0.0097 - digit4_loss: 0.0049 - digit0_accuracy: 0.9854 - digit1_accuracy: 0.9667 - digit2_accuracy: 0.9598 - digit3_accuracy: 0.9682 - digit4_accuracy: 0.9869 - val_loss: 0.0256 - val_digit0_loss: 0.0029 - val_digit1_loss: 0.0064 - val_digit2_loss: 0.0073 - val_digit3_loss: 0.0063 - val_digit4_loss: 0.0028 - val_digit0_accuracy: 0.9881 - val_digit1_accuracy: 0.9715 - val_digit2_accuracy: 0.9703 - val_digit3_accuracy: 0.9745 - val_digit4_accuracy: 0.9891\n",
      "Epoch 15/35\n",
      "626/626 [==============================] - 402s 643ms/step - loss: 0.0393 - digit0_loss: 0.0049 - digit1_loss: 0.0095 - digit2_loss: 0.0112 - digit3_loss: 0.0091 - digit4_loss: 0.0046 - digit0_accuracy: 0.9868 - digit1_accuracy: 0.9685 - digit2_accuracy: 0.9640 - digit3_accuracy: 0.9698 - digit4_accuracy: 0.9877 - val_loss: 0.0222 - val_digit0_loss: 0.0024 - val_digit1_loss: 0.0058 - val_digit2_loss: 0.0064 - val_digit3_loss: 0.0053 - val_digit4_loss: 0.0023 - val_digit0_accuracy: 0.9902 - val_digit1_accuracy: 0.9756 - val_digit2_accuracy: 0.9727 - val_digit3_accuracy: 0.9778 - val_digit4_accuracy: 0.9913\n",
      "Epoch 16/35\n",
      "626/626 [==============================] - 407s 651ms/step - loss: 0.0349 - digit0_loss: 0.0043 - digit1_loss: 0.0085 - digit2_loss: 0.0100 - digit3_loss: 0.0080 - digit4_loss: 0.0041 - digit0_accuracy: 0.9884 - digit1_accuracy: 0.9724 - digit2_accuracy: 0.9685 - digit3_accuracy: 0.9740 - digit4_accuracy: 0.9893 - val_loss: 0.0283 - val_digit0_loss: 0.0030 - val_digit1_loss: 0.0073 - val_digit2_loss: 0.0081 - val_digit3_loss: 0.0066 - val_digit4_loss: 0.0033 - val_digit0_accuracy: 0.9875 - val_digit1_accuracy: 0.9692 - val_digit2_accuracy: 0.9647 - val_digit3_accuracy: 0.9715 - val_digit4_accuracy: 0.9876\n",
      "Epoch 17/35\n",
      "626/626 [==============================] - 388s 620ms/step - loss: 0.0326 - digit0_loss: 0.0040 - digit1_loss: 0.0079 - digit2_loss: 0.0094 - digit3_loss: 0.0075 - digit4_loss: 0.0038 - digit0_accuracy: 0.9894 - digit1_accuracy: 0.9745 - digit2_accuracy: 0.9703 - digit3_accuracy: 0.9762 - digit4_accuracy: 0.9901 - val_loss: 0.0204 - val_digit0_loss: 0.0020 - val_digit1_loss: 0.0054 - val_digit2_loss: 0.0059 - val_digit3_loss: 0.0049 - val_digit4_loss: 0.0022 - val_digit0_accuracy: 0.9913 - val_digit1_accuracy: 0.9782 - val_digit2_accuracy: 0.9750 - val_digit3_accuracy: 0.9790 - val_digit4_accuracy: 0.9911\n",
      "Epoch 18/35\n",
      "626/626 [==============================] - 372s 594ms/step - loss: 0.0308 - digit0_loss: 0.0038 - digit1_loss: 0.0074 - digit2_loss: 0.0088 - digit3_loss: 0.0071 - digit4_loss: 0.0036 - digit0_accuracy: 0.9897 - digit1_accuracy: 0.9757 - digit2_accuracy: 0.9728 - digit3_accuracy: 0.9773 - digit4_accuracy: 0.9900 - val_loss: 0.0233 - val_digit0_loss: 0.0025 - val_digit1_loss: 0.0057 - val_digit2_loss: 0.0070 - val_digit3_loss: 0.0056 - val_digit4_loss: 0.0024 - val_digit0_accuracy: 0.9894 - val_digit1_accuracy: 0.9767 - val_digit2_accuracy: 0.9700 - val_digit3_accuracy: 0.9764 - val_digit4_accuracy: 0.9905\n",
      "Epoch 19/35\n",
      "626/626 [==============================] - 365s 582ms/step - loss: 0.0283 - digit0_loss: 0.0035 - digit1_loss: 0.0068 - digit2_loss: 0.0081 - digit3_loss: 0.0066 - digit4_loss: 0.0033 - digit0_accuracy: 0.9908 - digit1_accuracy: 0.9780 - digit2_accuracy: 0.9753 - digit3_accuracy: 0.9793 - digit4_accuracy: 0.9912 - val_loss: 0.0206 - val_digit0_loss: 0.0024 - val_digit1_loss: 0.0054 - val_digit2_loss: 0.0056 - val_digit3_loss: 0.0049 - val_digit4_loss: 0.0021 - val_digit0_accuracy: 0.9895 - val_digit1_accuracy: 0.9774 - val_digit2_accuracy: 0.9777 - val_digit3_accuracy: 0.9795 - val_digit4_accuracy: 0.9915\n",
      "Epoch 20/35\n",
      "626/626 [==============================] - 347s 554ms/step - loss: 0.0279 - digit0_loss: 0.0036 - digit1_loss: 0.0068 - digit2_loss: 0.0081 - digit3_loss: 0.0063 - digit4_loss: 0.0032 - digit0_accuracy: 0.9905 - digit1_accuracy: 0.9781 - digit2_accuracy: 0.9755 - digit3_accuracy: 0.9802 - digit4_accuracy: 0.9918 - val_loss: 0.0212 - val_digit0_loss: 0.0023 - val_digit1_loss: 0.0057 - val_digit2_loss: 0.0061 - val_digit3_loss: 0.0048 - val_digit4_loss: 0.0022 - val_digit0_accuracy: 0.9896 - val_digit1_accuracy: 0.9761 - val_digit2_accuracy: 0.9757 - val_digit3_accuracy: 0.9786 - val_digit4_accuracy: 0.9907\n",
      "Epoch 21/35\n",
      "626/626 [==============================] - 351s 561ms/step - loss: 0.0260 - digit0_loss: 0.0032 - digit1_loss: 0.0064 - digit2_loss: 0.0075 - digit3_loss: 0.0059 - digit4_loss: 0.0031 - digit0_accuracy: 0.9917 - digit1_accuracy: 0.9791 - digit2_accuracy: 0.9771 - digit3_accuracy: 0.9819 - digit4_accuracy: 0.9921 - val_loss: 0.0299 - val_digit0_loss: 0.0035 - val_digit1_loss: 0.0077 - val_digit2_loss: 0.0082 - val_digit3_loss: 0.0071 - val_digit4_loss: 0.0034 - val_digit0_accuracy: 0.9846 - val_digit1_accuracy: 0.9667 - val_digit2_accuracy: 0.9633 - val_digit3_accuracy: 0.9691 - val_digit4_accuracy: 0.9859\n",
      "Epoch 22/35\n",
      "626/626 [==============================] - 346s 552ms/step - loss: 0.0280 - digit0_loss: 0.0035 - digit1_loss: 0.0067 - digit2_loss: 0.0080 - digit3_loss: 0.0064 - digit4_loss: 0.0034 - digit0_accuracy: 0.9896 - digit1_accuracy: 0.9779 - digit2_accuracy: 0.9745 - digit3_accuracy: 0.9795 - digit4_accuracy: 0.9905 - val_loss: 0.0187 - val_digit0_loss: 0.0019 - val_digit1_loss: 0.0052 - val_digit2_loss: 0.0048 - val_digit3_loss: 0.0046 - val_digit4_loss: 0.0021 - val_digit0_accuracy: 0.9920 - val_digit1_accuracy: 0.9797 - val_digit2_accuracy: 0.9802 - val_digit3_accuracy: 0.9810 - val_digit4_accuracy: 0.9925\n",
      "Epoch 23/35\n",
      "626/626 [==============================] - 345s 552ms/step - loss: 0.0224 - digit0_loss: 0.0029 - digit1_loss: 0.0054 - digit2_loss: 0.0064 - digit3_loss: 0.0052 - digit4_loss: 0.0025 - digit0_accuracy: 0.9923 - digit1_accuracy: 0.9831 - digit2_accuracy: 0.9808 - digit3_accuracy: 0.9839 - digit4_accuracy: 0.9935 - val_loss: 0.0172 - val_digit0_loss: 0.0019 - val_digit1_loss: 0.0043 - val_digit2_loss: 0.0048 - val_digit3_loss: 0.0043 - val_digit4_loss: 0.0019 - val_digit0_accuracy: 0.9929 - val_digit1_accuracy: 0.9822 - val_digit2_accuracy: 0.9803 - val_digit3_accuracy: 0.9832 - val_digit4_accuracy: 0.9929\n",
      "Epoch 24/35\n",
      "626/626 [==============================] - 348s 556ms/step - loss: 0.0221 - digit0_loss: 0.0027 - digit1_loss: 0.0053 - digit2_loss: 0.0062 - digit3_loss: 0.0052 - digit4_loss: 0.0026 - digit0_accuracy: 0.9927 - digit1_accuracy: 0.9833 - digit2_accuracy: 0.9818 - digit3_accuracy: 0.9843 - digit4_accuracy: 0.9934 - val_loss: 0.0207 - val_digit0_loss: 0.0025 - val_digit1_loss: 0.0056 - val_digit2_loss: 0.0055 - val_digit3_loss: 0.0050 - val_digit4_loss: 0.0022 - val_digit0_accuracy: 0.9908 - val_digit1_accuracy: 0.9781 - val_digit2_accuracy: 0.9785 - val_digit3_accuracy: 0.9803 - val_digit4_accuracy: 0.9910\n",
      "Epoch 25/35\n",
      "626/626 [==============================] - 345s 551ms/step - loss: 0.0213 - digit0_loss: 0.0025 - digit1_loss: 0.0051 - digit2_loss: 0.0061 - digit3_loss: 0.0050 - digit4_loss: 0.0025 - digit0_accuracy: 0.9933 - digit1_accuracy: 0.9838 - digit2_accuracy: 0.9828 - digit3_accuracy: 0.9846 - digit4_accuracy: 0.9937 - val_loss: 0.0171 - val_digit0_loss: 0.0019 - val_digit1_loss: 0.0046 - val_digit2_loss: 0.0043 - val_digit3_loss: 0.0042 - val_digit4_loss: 0.0021 - val_digit0_accuracy: 0.9929 - val_digit1_accuracy: 0.9836 - val_digit2_accuracy: 0.9827 - val_digit3_accuracy: 0.9842 - val_digit4_accuracy: 0.9928\n",
      "Epoch 26/35\n",
      "626/626 [==============================] - 349s 557ms/step - loss: 0.0206 - digit0_loss: 0.0026 - digit1_loss: 0.0049 - digit2_loss: 0.0059 - digit3_loss: 0.0046 - digit4_loss: 0.0024 - digit0_accuracy: 0.9931 - digit1_accuracy: 0.9844 - digit2_accuracy: 0.9824 - digit3_accuracy: 0.9862 - digit4_accuracy: 0.9938 - val_loss: 0.0183 - val_digit0_loss: 0.0019 - val_digit1_loss: 0.0049 - val_digit2_loss: 0.0049 - val_digit3_loss: 0.0045 - val_digit4_loss: 0.0021 - val_digit0_accuracy: 0.9930 - val_digit1_accuracy: 0.9800 - val_digit2_accuracy: 0.9802 - val_digit3_accuracy: 0.9816 - val_digit4_accuracy: 0.9923\n",
      "Epoch 27/35\n",
      "626/626 [==============================] - 345s 551ms/step - loss: 0.0206 - digit0_loss: 0.0027 - digit1_loss: 0.0050 - digit2_loss: 0.0057 - digit3_loss: 0.0048 - digit4_loss: 0.0024 - digit0_accuracy: 0.9929 - digit1_accuracy: 0.9844 - digit2_accuracy: 0.9830 - digit3_accuracy: 0.9854 - digit4_accuracy: 0.9937 - val_loss: 0.0197 - val_digit0_loss: 0.0023 - val_digit1_loss: 0.0051 - val_digit2_loss: 0.0052 - val_digit3_loss: 0.0046 - val_digit4_loss: 0.0024 - val_digit0_accuracy: 0.9916 - val_digit1_accuracy: 0.9809 - val_digit2_accuracy: 0.9782 - val_digit3_accuracy: 0.9823 - val_digit4_accuracy: 0.9920\n",
      "Epoch 28/35\n",
      "626/626 [==============================] - 346s 552ms/step - loss: 0.0196 - digit0_loss: 0.0024 - digit1_loss: 0.0047 - digit2_loss: 0.0057 - digit3_loss: 0.0044 - digit4_loss: 0.0023 - digit0_accuracy: 0.9935 - digit1_accuracy: 0.9855 - digit2_accuracy: 0.9837 - digit3_accuracy: 0.9863 - digit4_accuracy: 0.9943 - val_loss: 0.0186 - val_digit0_loss: 0.0023 - val_digit1_loss: 0.0047 - val_digit2_loss: 0.0050 - val_digit3_loss: 0.0046 - val_digit4_loss: 0.0021 - val_digit0_accuracy: 0.9914 - val_digit1_accuracy: 0.9815 - val_digit2_accuracy: 0.9793 - val_digit3_accuracy: 0.9829 - val_digit4_accuracy: 0.9919\n",
      "Epoch 29/35\n",
      "626/626 [==============================] - 349s 558ms/step - loss: 0.0197 - digit0_loss: 0.0025 - digit1_loss: 0.0048 - digit2_loss: 0.0055 - digit3_loss: 0.0045 - digit4_loss: 0.0024 - digit0_accuracy: 0.9928 - digit1_accuracy: 0.9844 - digit2_accuracy: 0.9831 - digit3_accuracy: 0.9866 - digit4_accuracy: 0.9941 - val_loss: 0.0180 - val_digit0_loss: 0.0018 - val_digit1_loss: 0.0047 - val_digit2_loss: 0.0045 - val_digit3_loss: 0.0046 - val_digit4_loss: 0.0023 - val_digit0_accuracy: 0.9932 - val_digit1_accuracy: 0.9833 - val_digit2_accuracy: 0.9818 - val_digit3_accuracy: 0.9825 - val_digit4_accuracy: 0.9927\n",
      "Epoch 30/35\n",
      "626/626 [==============================] - 347s 554ms/step - loss: 0.0181 - digit0_loss: 0.0024 - digit1_loss: 0.0044 - digit2_loss: 0.0051 - digit3_loss: 0.0042 - digit4_loss: 0.0021 - digit0_accuracy: 0.9940 - digit1_accuracy: 0.9867 - digit2_accuracy: 0.9852 - digit3_accuracy: 0.9881 - digit4_accuracy: 0.9949 - val_loss: 0.0207 - val_digit0_loss: 0.0025 - val_digit1_loss: 0.0054 - val_digit2_loss: 0.0054 - val_digit3_loss: 0.0047 - val_digit4_loss: 0.0026 - val_digit0_accuracy: 0.9906 - val_digit1_accuracy: 0.9791 - val_digit2_accuracy: 0.9790 - val_digit3_accuracy: 0.9817 - val_digit4_accuracy: 0.9920\n",
      "Epoch 31/35\n",
      "626/626 [==============================] - 348s 557ms/step - loss: 0.0183 - digit0_loss: 0.0023 - digit1_loss: 0.0044 - digit2_loss: 0.0053 - digit3_loss: 0.0041 - digit4_loss: 0.0022 - digit0_accuracy: 0.9937 - digit1_accuracy: 0.9866 - digit2_accuracy: 0.9847 - digit3_accuracy: 0.9873 - digit4_accuracy: 0.9947 - val_loss: 0.0187 - val_digit0_loss: 0.0019 - val_digit1_loss: 0.0048 - val_digit2_loss: 0.0052 - val_digit3_loss: 0.0044 - val_digit4_loss: 0.0024 - val_digit0_accuracy: 0.9932 - val_digit1_accuracy: 0.9835 - val_digit2_accuracy: 0.9801 - val_digit3_accuracy: 0.9838 - val_digit4_accuracy: 0.9927\n",
      "Epoch 32/35\n",
      "626/626 [==============================] - 350s 559ms/step - loss: 0.0175 - digit0_loss: 0.0023 - digit1_loss: 0.0042 - digit2_loss: 0.0048 - digit3_loss: 0.0040 - digit4_loss: 0.0020 - digit0_accuracy: 0.9941 - digit1_accuracy: 0.9872 - digit2_accuracy: 0.9863 - digit3_accuracy: 0.9879 - digit4_accuracy: 0.9949 - val_loss: 0.0171 - val_digit0_loss: 0.0019 - val_digit1_loss: 0.0044 - val_digit2_loss: 0.0045 - val_digit3_loss: 0.0043 - val_digit4_loss: 0.0020 - val_digit0_accuracy: 0.9939 - val_digit1_accuracy: 0.9840 - val_digit2_accuracy: 0.9833 - val_digit3_accuracy: 0.9845 - val_digit4_accuracy: 0.9936\n",
      "Epoch 33/35\n",
      "626/626 [==============================] - 348s 556ms/step - loss: 0.0173 - digit0_loss: 0.0022 - digit1_loss: 0.0042 - digit2_loss: 0.0049 - digit3_loss: 0.0040 - digit4_loss: 0.0020 - digit0_accuracy: 0.9943 - digit1_accuracy: 0.9869 - digit2_accuracy: 0.9863 - digit3_accuracy: 0.9879 - digit4_accuracy: 0.9950 - val_loss: 0.0199 - val_digit0_loss: 0.0022 - val_digit1_loss: 0.0050 - val_digit2_loss: 0.0053 - val_digit3_loss: 0.0048 - val_digit4_loss: 0.0026 - val_digit0_accuracy: 0.9918 - val_digit1_accuracy: 0.9831 - val_digit2_accuracy: 0.9802 - val_digit3_accuracy: 0.9828 - val_digit4_accuracy: 0.9918\n",
      "Epoch 34/35\n",
      "626/626 [==============================] - 347s 554ms/step - loss: 0.0166 - digit0_loss: 0.0021 - digit1_loss: 0.0041 - digit2_loss: 0.0046 - digit3_loss: 0.0038 - digit4_loss: 0.0020 - digit0_accuracy: 0.9947 - digit1_accuracy: 0.9870 - digit2_accuracy: 0.9868 - digit3_accuracy: 0.9889 - digit4_accuracy: 0.9947 - val_loss: 0.0202 - val_digit0_loss: 0.0024 - val_digit1_loss: 0.0052 - val_digit2_loss: 0.0051 - val_digit3_loss: 0.0050 - val_digit4_loss: 0.0023 - val_digit0_accuracy: 0.9924 - val_digit1_accuracy: 0.9815 - val_digit2_accuracy: 0.9805 - val_digit3_accuracy: 0.9810 - val_digit4_accuracy: 0.9919\n",
      "Epoch 35/35\n",
      "626/626 [==============================] - 353s 564ms/step - loss: 0.0170 - digit0_loss: 0.0022 - digit1_loss: 0.0041 - digit2_loss: 0.0048 - digit3_loss: 0.0039 - digit4_loss: 0.0020 - digit0_accuracy: 0.9944 - digit1_accuracy: 0.9876 - digit2_accuracy: 0.9860 - digit3_accuracy: 0.9884 - digit4_accuracy: 0.9948 - val_loss: 0.0171 - val_digit0_loss: 0.0020 - val_digit1_loss: 0.0045 - val_digit2_loss: 0.0045 - val_digit3_loss: 0.0039 - val_digit4_loss: 0.0022 - val_digit0_accuracy: 0.9934 - val_digit1_accuracy: 0.9846 - val_digit2_accuracy: 0.9846 - val_digit3_accuracy: 0.9857 - val_digit4_accuracy: 0.9932\n"
     ]
    }
   ],
   "source": [
    "history = model.fit(x_train, s_train,\n",
    "                    batch_size=BATCH_SIZE,\n",
    "                    epochs=EPOCHS,\n",
    "                    verbose=1,\n",
    "                    validation_data=(x_test, s_test)\n",
    "                   )"
   ]
  },
  {
   "cell_type": "code",
   "execution_count": 16,
   "metadata": {
    "colab": {},
    "colab_type": "code",
    "id": "PK5FjnNp63eL"
   },
   "outputs": [],
   "source": [
    "digit_acc = [[] for _ in range(NUM_OF_LETTERS)]\n",
    "val_digit_acc = [[] for _ in range(NUM_OF_LETTERS)]\n",
    "loss = []\n",
    "val_loss = []\n",
    "\n",
    "\n",
    "def plot_diagram(digit_acc_now, val_digit_acc_now, loss_now, val_loss_now):\n",
    "    global digit_acc, val_digit_acc, loss, val_loss\n",
    "    \n",
    "    \n",
    "    for i in range(NUM_OF_LETTERS):\n",
    "        digit_acc[i].extend(digit_acc_now[i])\n",
    "        val_digit_acc[i].extend(val_digit_acc_now[i])\n",
    "    loss.extend(loss_now)\n",
    "    val_loss.extend(val_loss_now)\n",
    "    \n",
    "    for i in range(NUM_OF_LETTERS):\n",
    "        s = {0:'First', 1:'Second', 2:'Third', 3:'Fourth', 4:'Fifth'}[i]\n",
    "        # plt.plot(val_digit_acc[i], label='%s Digit Train' % s)\n",
    "        plt.plot(digit_acc[i], label='%s Digit Test' % s)\n",
    "\n",
    "    plt.title('Model accuracy')\n",
    "    plt.ylabel('Accuracy')\n",
    "    plt.xlabel('Epoch')\n",
    "    plt.legend()\n",
    "    plt.show()\n",
    "\n",
    "    for i in range(NUM_OF_LETTERS):\n",
    "        s = {0:'First', 1:'Second', 2:'Third', 3:'Fourth', 4:'Fifth'}[i]\n",
    "        plt.plot(val_digit_acc[i], label='%s Digit Train' % s)\n",
    "        # plt.plot(digit_acc[i], label='%s Digit Test' % s)\n",
    "\n",
    "    plt.title('Model accuracy')\n",
    "    plt.ylabel('Accuracy')\n",
    "    plt.xlabel('Epoch')\n",
    "    plt.legend()\n",
    "    plt.show()\n",
    "\n",
    "\n",
    "\n",
    "    # Plot training & validation loss values\n",
    "    \n",
    "    plt.plot(val_loss, label='Train')\n",
    "    plt.plot(loss, label='Test')\n",
    "    plt.title('Model loss')\n",
    "    plt.ylabel('Loss')\n",
    "    plt.xlabel('Epoch')\n",
    "    plt.legend()\n",
    "    plt.show()"
   ]
  },
  {
   "cell_type": "code",
   "execution_count": 17,
   "metadata": {
    "colab": {
     "base_uri": "https://localhost:8080/",
     "height": 851
    },
    "colab_type": "code",
    "id": "gmz3c1Ve8xG1",
    "outputId": "746b74b1-02a1-43eb-d7f5-a094234f55e3"
   },
   "outputs": [
    {
     "data": {
      "image/png": "[encoded data removed]",
      "text/plain": [
       "<Figure size 432x288 with 1 Axes>"
      ]
     },
     "metadata": {
      "needs_background": "light"
     },
     "output_type": "display_data"
    },
    {
     "data": {
      "image/png": "[encoded data removed]",
      "text/plain": [
       "<Figure size 432x288 with 1 Axes>"
      ]
     },
     "metadata": {
      "needs_background": "light"
     },
     "output_type": "display_data"
    },
    {
     "data": {
      "image/png": "[encoded data removed]",
      "text/plain": [
       "<Figure size 432x288 with 1 Axes>"
      ]
     },
     "metadata": {
      "needs_background": "light"
     },
     "output_type": "display_data"
    }
   ],
   "source": [
    "plot_diagram(\n",
    "    \n",
    "    [history.history['digit%d_accuracy' % i] for i in range(NUM_OF_LETTERS)],\n",
    "    [history.history['val_digit%d_accuracy' % i] for i in range(NUM_OF_LETTERS)],\n",
    "    history.history['loss'],\n",
    "    history.history['val_loss'],\n",
    ")"
   ]
  },
  {
   "cell_type": "code",
   "execution_count": 18,
   "metadata": {
    "colab": {
     "base_uri": "https://localhost:8080/",
     "height": 35
    },
    "colab_type": "code",
    "id": "MQIbUVBY6-SG",
    "outputId": "26fe21c3-aeb8-42a5-b5bf-4058be42d516"
   },
   "outputs": [
    {
     "name": "stdout",
     "output_type": "stream",
     "text": [
      "Saved trained model at C:\\Users\\KARAN\\Desktop\\1l\\saved_models\\keras_cifar10_trained_model.h5 \n"
     ]
    }
   ],
   "source": [
    "# Save model and weights\n",
    "if not os.path.isdir(save_dir):\n",
    "    os.makedirs(save_dir)\n",
    "model_path = os.path.join(save_dir, model_name)\n",
    "model.save(model_path)\n",
    "print('Saved trained model at %s ' % model_path)"
   ]
  },
  {
   "cell_type": "code",
   "execution_count": 19,
   "metadata": {
    "colab": {
     "base_uri": "https://localhost:8080/",
     "height": 70
    },
    "colab_type": "code",
    "id": "x8cshRKD7Bak",
    "outputId": "e09d242b-a39f-4d4f-f289-5d5c8e0fe62e"
   },
   "outputs": [
    {
     "name": "stdout",
     "output_type": "stream",
     "text": [
      "2501/2501 [==============================] - 73s 29ms/step - loss: 0.0028 - digit0_loss: 3.1566e-04 - digit1_loss: 7.3148e-04 - digit2_loss: 7.2973e-04 - digit3_loss: 6.8954e-04 - digit4_loss: 3.3648e-04 - digit0_accuracy: 0.9986 - digit1_accuracy: 0.9973 - digit2_accuracy: 0.9975 - digit3_accuracy: 0.9973 - digit4_accuracy: 0.9987\n",
      "Train loss:     0.001054\n",
      "Train accuracy: 98.94\n"
     ]
    }
   ],
   "source": [
    "# Score trained model.\n",
    "scores = model.evaluate(x_train, s_train, verbose=1)\n",
    "print('Train loss:     %f' % np.mean(scores[0:5]))\n",
    "acc = 1.\n",
    "for i in range(5):\n",
    "    acc *= scores[6+i]\n",
    "print('Train accuracy: %.2f' % (acc * 100.))"
   ]
  },
  {
   "cell_type": "code",
   "execution_count": 20,
   "metadata": {
    "colab": {
     "base_uri": "https://localhost:8080/",
     "height": 70
    },
    "colab_type": "code",
    "id": "yfQ_5Ago7EWh",
    "outputId": "19d26d76-4ef6-4d67-f0da-b56442076319"
   },
   "outputs": [
    {
     "name": "stdout",
     "output_type": "stream",
     "text": [
      "625/625 [==============================] - 18s 29ms/step - loss: 0.0171 - digit0_loss: 0.0020 - digit1_loss: 0.0045 - digit2_loss: 0.0045 - digit3_loss: 0.0039 - digit4_loss: 0.0022 - digit0_accuracy: 0.9934 - digit1_accuracy: 0.9846 - digit2_accuracy: 0.9846 - digit3_accuracy: 0.9857 - digit4_accuracy: 0.9932\n",
      "Test loss:     0.006412\n",
      "Test accuracy: 94.29\n"
     ]
    }
   ],
   "source": [
    "scores = model.evaluate(x_test, s_test, verbose=1)\n",
    "print('Test loss:     %f' % np.mean(scores[0:5]))\n",
    "acc = 1.\n",
    "for i in range(5):\n",
    "    acc *= scores[6+i]\n",
    "print('Test accuracy: %.2f' % (acc * 100.))"
   ]
  },
  {
   "cell_type": "code",
   "execution_count": null,
   "metadata": {},
   "outputs": [],
   "source": []
  },
  {
   "cell_type": "code",
   "execution_count": null,
   "metadata": {},
   "outputs": [],
   "source": []
  },
  {
   "cell_type": "code",
   "execution_count": null,
   "metadata": {},
   "outputs": [],
   "source": []
  }
 ],
 "metadata": {
  "accelerator": "GPU",
  "colab": {
   "collapsed_sections": [],
   "name": "Captcha_Solver_Alphanumerical.ipynb",
   "provenance": []
  },
  "kernelspec": {
   "display_name": "Python 3 (ipykernel)",
   "language": "python",
   "name": "python3"
  },
  "language_info": {
   "codemirror_mode": {
    "name": "ipython",
    "version": 3
   },
   "file_extension": ".py",
   "mimetype": "text/x-python",
   "name": "python",
   "nbconvert_exporter": "python",
   "pygments_lexer": "ipython3",
   "version": "3.9.12"
  }
 },
 "nbformat": 4,
 "nbformat_minor": 1
}
