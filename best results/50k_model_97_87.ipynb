{
 "cells": [
  {
   "cell_type": "code",
   "execution_count": 1,
   "metadata": {
    "colab": {
     "base_uri": "https://localhost:8080/",
     "height": 1000
    },
    "colab_type": "code",
    "id": "6Tzheb9xoLiD",
    "outputId": "2a196451-10bd-491a-fa67-2d3872867c3c"
   },
   "outputs": [
    {
     "name": "stdout",
     "output_type": "stream",
     "text": [
      "Requirement already satisfied: captcha in c:\\users\\karan\\anaconda3\\lib\\site-packages (0.4)\n",
      "Requirement already satisfied: Pillow in c:\\users\\karan\\anaconda3\\lib\\site-packages (from captcha) (9.0.1)\n",
      "Note: you may need to restart the kernel to use updated packages.\n"
     ]
    },
    {
     "name": "stderr",
     "output_type": "stream",
     "text": [
      "WARNING: Ignoring invalid distribution -pencv-python-headless (c:\\users\\karan\\anaconda3\\lib\\site-packages)\n",
      "WARNING: Ignoring invalid distribution -pencv-python-headless (c:\\users\\karan\\anaconda3\\lib\\site-packages)\n",
      "WARNING: Ignoring invalid distribution -pencv-python-headless (c:\\users\\karan\\anaconda3\\lib\\site-packages)\n",
      "WARNING: Ignoring invalid distribution -pencv-python-headless (c:\\users\\karan\\anaconda3\\lib\\site-packages)\n",
      "WARNING: Ignoring invalid distribution -pencv-python-headless (c:\\users\\karan\\anaconda3\\lib\\site-packages)\n",
      "WARNING: Ignoring invalid distribution -pencv-python-headless (c:\\users\\karan\\anaconda3\\lib\\site-packages)\n"
     ]
    },
    {
     "name": "stdout",
     "output_type": "stream",
     "text": [
      "Requirement already satisfied: opencv-python in c:\\users\\karan\\anaconda3\\lib\\site-packages (4.6.0.66)\n",
      "Requirement already satisfied: numpy>=1.19.3 in c:\\users\\karan\\anaconda3\\lib\\site-packages (from opencv-python) (1.23.0)\n",
      "Note: you may need to restart the kernel to use updated packages.\n"
     ]
    },
    {
     "name": "stderr",
     "output_type": "stream",
     "text": [
      "WARNING: Ignoring invalid distribution -pencv-python-headless (c:\\users\\karan\\anaconda3\\lib\\site-packages)\n",
      "WARNING: Ignoring invalid distribution -pencv-python-headless (c:\\users\\karan\\anaconda3\\lib\\site-packages)\n",
      "WARNING: Ignoring invalid distribution -pencv-python-headless (c:\\users\\karan\\anaconda3\\lib\\site-packages)\n",
      "WARNING: Ignoring invalid distribution -pencv-python-headless (c:\\users\\karan\\anaconda3\\lib\\site-packages)\n",
      "WARNING: Ignoring invalid distribution -pencv-python-headless (c:\\users\\karan\\anaconda3\\lib\\site-packages)\n",
      "WARNING: Ignoring invalid distribution -pencv-python-headless (c:\\users\\karan\\anaconda3\\lib\\site-packages)\n",
      "'apt' is not recognized as an internal or external command,\n",
      "operable program or batch file.\n"
     ]
    },
    {
     "name": "stdout",
     "output_type": "stream",
     "text": [
      "Requirement already satisfied: opencv-python-headless in c:\\users\\karan\\anaconda3\\lib\\site-packages (3.4.18.65)\n",
      "Requirement already satisfied: numpy>=1.19.3 in c:\\users\\karan\\anaconda3\\lib\\site-packages (from opencv-python-headless) (1.23.0)\n"
     ]
    },
    {
     "name": "stderr",
     "output_type": "stream",
     "text": [
      "WARNING: Ignoring invalid distribution -pencv-python-headless (c:\\users\\karan\\anaconda3\\lib\\site-packages)\n",
      "WARNING: Ignoring invalid distribution -pencv-python-headless (c:\\users\\karan\\anaconda3\\lib\\site-packages)\n",
      "WARNING: Ignoring invalid distribution -pencv-python-headless (c:\\users\\karan\\anaconda3\\lib\\site-packages)\n",
      "WARNING: Ignoring invalid distribution -pencv-python-headless (c:\\users\\karan\\anaconda3\\lib\\site-packages)\n",
      "WARNING: Ignoring invalid distribution -pencv-python-headless (c:\\users\\karan\\anaconda3\\lib\\site-packages)\n",
      "WARNING: Ignoring invalid distribution -pencv-python-headless (c:\\users\\karan\\anaconda3\\lib\\site-packages)\n"
     ]
    },
    {
     "name": "stdout",
     "output_type": "stream",
     "text": [
      "Requirement already satisfied: opencv-contrib-python-headless in c:\\users\\karan\\anaconda3\\lib\\site-packages (4.6.0.66)\n",
      "Requirement already satisfied: numpy>=1.17.3 in c:\\users\\karan\\anaconda3\\lib\\site-packages (from opencv-contrib-python-headless) (1.23.0)\n"
     ]
    },
    {
     "name": "stderr",
     "output_type": "stream",
     "text": [
      "WARNING: Ignoring invalid distribution -pencv-python-headless (c:\\users\\karan\\anaconda3\\lib\\site-packages)\n",
      "WARNING: Ignoring invalid distribution -pencv-python-headless (c:\\users\\karan\\anaconda3\\lib\\site-packages)\n",
      "WARNING: Ignoring invalid distribution -pencv-python-headless (c:\\users\\karan\\anaconda3\\lib\\site-packages)\n",
      "WARNING: Ignoring invalid distribution -pencv-python-headless (c:\\users\\karan\\anaconda3\\lib\\site-packages)\n",
      "WARNING: Ignoring invalid distribution -pencv-python-headless (c:\\users\\karan\\anaconda3\\lib\\site-packages)\n",
      "WARNING: Ignoring invalid distribution -pencv-python-headless (c:\\users\\karan\\anaconda3\\lib\\site-packages)\n"
     ]
    },
    {
     "name": "stdout",
     "output_type": "stream",
     "text": [
      "Requirement already satisfied: keras in c:\\users\\karan\\anaconda3\\lib\\site-packages (2.9.0)\n",
      "Note: you may need to restart the kernel to use updated packages.\n"
     ]
    },
    {
     "name": "stderr",
     "output_type": "stream",
     "text": [
      "WARNING: Ignoring invalid distribution -pencv-python-headless (c:\\users\\karan\\anaconda3\\lib\\site-packages)\n",
      "WARNING: Ignoring invalid distribution -pencv-python-headless (c:\\users\\karan\\anaconda3\\lib\\site-packages)\n",
      "WARNING: Ignoring invalid distribution -pencv-python-headless (c:\\users\\karan\\anaconda3\\lib\\site-packages)\n",
      "WARNING: Ignoring invalid distribution -pencv-python-headless (c:\\users\\karan\\anaconda3\\lib\\site-packages)\n",
      "WARNING: Ignoring invalid distribution -pencv-python-headless (c:\\users\\karan\\anaconda3\\lib\\site-packages)\n",
      "WARNING: Ignoring invalid distribution -pencv-python-headless (c:\\users\\karan\\anaconda3\\lib\\site-packages)\n",
      "WARNING: Ignoring invalid distribution -pencv-python-headless (c:\\users\\karan\\anaconda3\\lib\\site-packages)\n",
      "WARNING: Ignoring invalid distribution -pencv-python-headless (c:\\users\\karan\\anaconda3\\lib\\site-packages)\n",
      "WARNING: Ignoring invalid distribution -pencv-python-headless (c:\\users\\karan\\anaconda3\\lib\\site-packages)\n",
      "WARNING: Ignoring invalid distribution -pencv-python-headless (c:\\users\\karan\\anaconda3\\lib\\site-packages)\n",
      "WARNING: Ignoring invalid distribution -pencv-python-headless (c:\\users\\karan\\anaconda3\\lib\\site-packages)\n",
      "WARNING: Ignoring invalid distribution -pencv-python-headless (c:\\users\\karan\\anaconda3\\lib\\site-packages)\n"
     ]
    },
    {
     "name": "stdout",
     "output_type": "stream",
     "text": [
      "Requirement already satisfied: opencv-python-headless<4.3 in c:\\users\\karan\\anaconda3\\lib\\site-packages (3.4.18.65)\n",
      "Requirement already satisfied: numpy>=1.14.5 in c:\\users\\karan\\anaconda3\\lib\\site-packages (from opencv-python-headless<4.3) (1.23.0)\n"
     ]
    },
    {
     "name": "stderr",
     "output_type": "stream",
     "text": [
      "C:\\Users\\KARAN\\anaconda3\\lib\\site-packages\\scipy\\__init__.py:146: UserWarning: A NumPy version >=1.16.5 and <1.23.0 is required for this version of SciPy (detected version 1.23.0\n",
      "  warnings.warn(f\"A NumPy version >={np_minversion} and <{np_maxversion}\"\n"
     ]
    }
   ],
   "source": [
    "%pip install captcha \n",
    "%pip install opencv-python\n",
    "!apt update && apt install -y libsm6 libxext6\n",
    "!pip install opencv-python-headless\n",
    "!pip install opencv-contrib-python-headless\n",
    "%pip install keras\n",
    "\n",
    "\n",
    "import argparse\n",
    "import json\n",
    "import string\n",
    "import os\n",
    "import shutil\n",
    "import uuid\n",
    "from captcha.image import ImageCaptcha\n",
    "\n",
    "!pip install \"opencv-python-headless<4.3\"\n",
    "\n",
    "import itertools\n",
    "\n",
    "import os\n",
    "\n",
    "import numpy as np\n",
    "from random import random, randint, choices\n",
    "\n",
    "import keras\n",
    "from keras.models import Sequential, Model\n",
    "from keras.layers import Dense, Dropout, Activation, Flatten\n",
    "from keras.layers import Conv2D, MaxPooling2D, Input\n",
    "import matplotlib.pyplot as plt\n",
    "import cv2"
   ]
  },
  {
   "cell_type": "code",
   "execution_count": 2,
   "metadata": {
    "colab": {},
    "colab_type": "code",
    "id": "yuX06GVdok0-"
   },
   "outputs": [],
   "source": [
    "alphabet_all = list('qwertyuiopasdfghjklzxcvbnm123456789QWERTYUIOPLKJHGFDSAZXCVBNM')\n",
    "alphabet = list('qwertyuiopasdfghjklzxcvbnm123456789')#QWERTYUIOPLKJHGFDSAZXCVBNM')\n",
    "num_alphabet = len(alphabet)\n",
    "def _gen_captcha(img_dir, num_of_letters, num_of_repetition, width, height):\n",
    "    if os.path.exists(img_dir):\n",
    "        shutil.rmtree(img_dir)\n",
    "    if not os.path.exists(img_dir):\n",
    "        os.makedirs(img_dir)\n",
    "\n",
    "    image = ImageCaptcha(width=width, height=height)\n",
    "\n",
    "    for counter in range(num_of_repetition):\n",
    "        i = choices(alphabet_all, k=5)\n",
    "        captcha = ''.join(i)\n",
    "        fn = os.path.join(img_dir, '%s_%s.png' % (captcha, uuid.uuid4()))\n",
    "        image.write(captcha, fn)\n",
    "\n",
    "\n",
    "def gen_dataset(path, num_of_repetition, num_of_letters, width, height):\n",
    "    _gen_captcha(os.path.join(path, 'data'), num_of_letters, num_of_repetition, width, height)\n",
    "    print('Finished Data Generation')"
   ]
  },
  {
   "cell_type": "code",
   "execution_count": 3,
   "metadata": {
    "colab": {},
    "colab_type": "code",
    "id": "MQYOsJyioy5g"
   },
   "outputs": [],
   "source": [
    "BATCH_SIZE = 128\n",
    "NUM_OF_LETTERS = 5\n",
    "EPOCHS = 35\n",
    "IMG_ROW, IMG_COLS = 50, 135\n",
    "\n",
    "# Non-configs\n",
    "PATH = 'C:\\\\Users\\\\KARAN\\\\Desktop\\\\1l'\n",
    "DATA_PATH = os.path.join(PATH, 'train')"
   ]
  },
  {
   "cell_type": "code",
   "execution_count": 4,
   "metadata": {
    "colab": {},
    "colab_type": "code",
    "id": "ItSQ3uTvo5YW"
   },
   "outputs": [],
   "source": [
    "def load_data(path, test_split=0.2):\n",
    "    print ('loading dataset...')\n",
    "    y_train = []\n",
    "    y_test = []\n",
    "    x_train = []\n",
    "    x_test = []\n",
    "\n",
    "    # r=root, d=directories, f = files\n",
    "    counter = 0\n",
    "    for r, d, f in os.walk(path):\n",
    "        for fl in f:\n",
    "            if '.png' in fl:\n",
    "                flr = fl.split('_')[0]\n",
    "                counter += 1\n",
    "                label = np.zeros((NUM_OF_LETTERS, num_alphabet))\n",
    "                for i in range(NUM_OF_LETTERS):\n",
    "                    label[i, alphabet.index(flr[i].lower())] = 1\n",
    "#                 label = np.zeros((50, 1))\n",
    "#                 for i in range(5):\n",
    "#                     label[i*5+int(flr[i])] = 1\n",
    "\n",
    "                img = cv2.imread(os.path.join(r, fl))\n",
    "                img = cv2.cvtColor(img, cv2.COLOR_BGR2GRAY)\n",
    "                img = cv2.resize(img, (int(135/2), int(50/2)), interpolation=cv2.INTER_AREA)\n",
    "                img = np.reshape(img, (img.shape[0], img.shape[1], 1))\n",
    "\n",
    "                if random() < test_split:\n",
    "                    y_test.append(label)\n",
    "                    x_test.append(img)\n",
    "                else:\n",
    "                    y_train.append(label)\n",
    "                    x_train.append(img)\n",
    "\n",
    "    print('dataset size:', counter, '(train=%d, test=%d)' % (len(y_train), len(y_test)))\n",
    "    return np.array(x_train), np.array(y_train), np.array(x_test), np.array(y_test)"
   ]
  },
  {
   "cell_type": "code",
   "execution_count": 5,
   "metadata": {
    "colab": {
     "base_uri": "https://localhost:8080/",
     "height": 52
    },
    "colab_type": "code",
    "id": "bCqtzWWvo798",
    "outputId": "07d26802-aedc-4f24-8ff6-e8458f0c2125"
   },
   "outputs": [
    {
     "name": "stdout",
     "output_type": "stream",
     "text": [
      "Generating Dataset\n",
      "Finished Data Generation\n"
     ]
    }
   ],
   "source": [
    "if not os.path.exists(DATA_PATH):\n",
    "    print('Generating Dataset')\n",
    "    gen_dataset(DATA_PATH,100000, NUM_OF_LETTERS, IMG_COLS, IMG_ROW)\n"
   ]
  },
  {
   "cell_type": "code",
   "execution_count": null,
   "metadata": {},
   "outputs": [],
   "source": []
  },
  {
   "cell_type": "code",
   "execution_count": 6,
   "metadata": {
    "colab": {
     "base_uri": "https://localhost:8080/",
     "height": 52
    },
    "colab_type": "code",
    "id": "AenCMkmco-jv",
    "outputId": "77cd1965-6095-4341-a0c2-3259788fa71a"
   },
   "outputs": [
    {
     "name": "stdout",
     "output_type": "stream",
     "text": [
      "loading dataset...\n",
      "dataset size: 100000 (train=80004, test=19996)\n"
     ]
    }
   ],
   "source": [
    "x_train, y_train, x_test, y_test = load_data(DATA_PATH)\n",
    "x_train[0]\n",
    "x_train = x_train.astype('float32')\n",
    "x_test = x_test.astype('float32')\n",
    "x_train /= 255\n",
    "x_test /= 255"
   ]
  },
  {
   "cell_type": "code",
   "execution_count": null,
   "metadata": {},
   "outputs": [],
   "source": []
  },
  {
   "cell_type": "code",
   "execution_count": 7,
   "metadata": {
    "colab": {
     "base_uri": "https://localhost:8080/",
     "height": 88
    },
    "colab_type": "code",
    "id": "zqV-rssUuhIy",
    "outputId": "cebc9f7e-f5a8-42a8-882d-80e1b7b0b131"
   },
   "outputs": [
    {
     "name": "stdout",
     "output_type": "stream",
     "text": [
      "(80004, 25, 67, 1)\n",
      "(80004, 5, 31)\n",
      "(19996, 25, 67, 1)\n",
      "(19996, 5, 31)\n"
     ]
    }
   ],
   "source": [
    "print(x_train.shape)\n",
    "print(y_train.shape)\n",
    "print(x_test.shape)\n",
    "print(y_test.shape)"
   ]
  },
  {
   "cell_type": "code",
   "execution_count": 8,
   "metadata": {
    "colab": {},
    "colab_type": "code",
    "id": "eASawvTyvMaL"
   },
   "outputs": [],
   "source": [
    "s_train = []\n",
    "s_test = []\n",
    "for i in range(NUM_OF_LETTERS):\n",
    "    s_train.append(y_train[:, i, :])\n",
    "    s_test.append(y_test[:, i, :])"
   ]
  },
  {
   "cell_type": "code",
   "execution_count": 9,
   "metadata": {
    "colab": {},
    "colab_type": "code",
    "id": "DCom2NFKvVF0"
   },
   "outputs": [],
   "source": [
    "save_dir = os.path.join(PATH, 'saved_models')\n",
    "model_name = 'keras_cifar10_trained_model.h5'"
   ]
  },
  {
   "cell_type": "code",
   "execution_count": 10,
   "metadata": {
    "colab": {},
    "colab_type": "code",
    "id": "XS0vWhEuvXgo"
   },
   "outputs": [],
   "source": [
    "input_layer = Input((25, 67, 1))\n",
    "x = Conv2D(filters=32, kernel_size=(5, 5), padding='same', activation='relu')(input_layer)\n",
    "x = Conv2D(filters=32, kernel_size=(5, 5), padding='same', activation='relu')(x)\n",
    "\n",
    "x = MaxPooling2D(pool_size=(2, 2))(x)\n",
    "\n",
    "x = Conv2D(filters=48, kernel_size=(5, 5), padding='same', activation='relu')(x)\n",
    "x = Conv2D(filters=48, kernel_size=(5, 5), padding='same', activation='relu')(x)\n",
    "x = Conv2D(filters=48, kernel_size=(5, 5), padding='same', activation='relu')(x)\n",
    "\n",
    "x = MaxPooling2D(pool_size=(2, 2))(x)\n",
    "\n",
    "x = Conv2D(filters=64, kernel_size=(5, 5), padding='same', activation='relu')(x)\n",
    "x = MaxPooling2D(pool_size=(2, 2))(x)\n",
    "\n",
    "x = Dropout(0.3)(x)\n",
    "x = Flatten()(x)\n",
    "x = Dense(512, activation='relu')(x)\n",
    "x = Dropout(0.3)(x)\n",
    "\n",
    "out = [Dense(num_alphabet, name='digit%d' % i, activation='softmax')(x) for i in range(NUM_OF_LETTERS)]\n",
    "# out = Dense(num_alphabet*5, activation='sigmoid')(x)\n",
    "\n",
    "model = Model(inputs=input_layer, outputs=out)"
   ]
  },
  {
   "cell_type": "code",
   "execution_count": 11,
   "metadata": {
    "colab": {},
    "colab_type": "code",
    "id": "_1aTZ32pvZpl"
   },
   "outputs": [],
   "source": [
    "# model_path = os.path.join(save_dir, model_name)\n",
    "# model = keras.models.load_model(model_path)"
   ]
  },
  {
   "cell_type": "code",
   "execution_count": 12,
   "metadata": {
    "colab": {
     "base_uri": "https://localhost:8080/",
     "height": 728
    },
    "colab_type": "code",
    "id": "mvyFxZTlvfKR",
    "outputId": "e7e68721-8767-4bca-f1fb-7d02e7b68dc0"
   },
   "outputs": [
    {
     "name": "stdout",
     "output_type": "stream",
     "text": [
      "Model: \"model\"\n",
      "__________________________________________________________________________________________________\n",
      " Layer (type)                   Output Shape         Param #     Connected to                     \n",
      "==================================================================================================\n",
      " input_1 (InputLayer)           [(None, 25, 67, 1)]  0           []                               \n",
      "                                                                                                  \n",
      " conv2d (Conv2D)                (None, 25, 67, 32)   832         ['input_1[0][0]']                \n",
      "                                                                                                  \n",
      " conv2d_1 (Conv2D)              (None, 25, 67, 32)   25632       ['conv2d[0][0]']                 \n",
      "                                                                                                  \n",
      " max_pooling2d (MaxPooling2D)   (None, 12, 33, 32)   0           ['conv2d_1[0][0]']               \n",
      "                                                                                                  \n",
      " conv2d_2 (Conv2D)              (None, 12, 33, 48)   38448       ['max_pooling2d[0][0]']          \n",
      "                                                                                                  \n",
      " conv2d_3 (Conv2D)              (None, 12, 33, 48)   57648       ['conv2d_2[0][0]']               \n",
      "                                                                                                  \n",
      " conv2d_4 (Conv2D)              (None, 12, 33, 48)   57648       ['conv2d_3[0][0]']               \n",
      "                                                                                                  \n",
      " max_pooling2d_1 (MaxPooling2D)  (None, 6, 16, 48)   0           ['conv2d_4[0][0]']               \n",
      "                                                                                                  \n",
      " conv2d_5 (Conv2D)              (None, 6, 16, 64)    76864       ['max_pooling2d_1[0][0]']        \n",
      "                                                                                                  \n",
      " max_pooling2d_2 (MaxPooling2D)  (None, 3, 8, 64)    0           ['conv2d_5[0][0]']               \n",
      "                                                                                                  \n",
      " dropout (Dropout)              (None, 3, 8, 64)     0           ['max_pooling2d_2[0][0]']        \n",
      "                                                                                                  \n",
      " flatten (Flatten)              (None, 1536)         0           ['dropout[0][0]']                \n",
      "                                                                                                  \n",
      " dense (Dense)                  (None, 512)          786944      ['flatten[0][0]']                \n",
      "                                                                                                  \n",
      " dropout_1 (Dropout)            (None, 512)          0           ['dense[0][0]']                  \n",
      "                                                                                                  \n",
      " digit0 (Dense)                 (None, 31)           15903       ['dropout_1[0][0]']              \n",
      "                                                                                                  \n",
      " digit1 (Dense)                 (None, 31)           15903       ['dropout_1[0][0]']              \n",
      "                                                                                                  \n",
      " digit2 (Dense)                 (None, 31)           15903       ['dropout_1[0][0]']              \n",
      "                                                                                                  \n",
      " digit3 (Dense)                 (None, 31)           15903       ['dropout_1[0][0]']              \n",
      "                                                                                                  \n",
      " digit4 (Dense)                 (None, 31)           15903       ['dropout_1[0][0]']              \n",
      "                                                                                                  \n",
      "==================================================================================================\n",
      "Total params: 1,123,531\n",
      "Trainable params: 1,123,531\n",
      "Non-trainable params: 0\n",
      "__________________________________________________________________________________________________\n"
     ]
    }
   ],
   "source": [
    "# initiate Adam optimizer\n",
    "\n",
    "model.compile(loss='binary_crossentropy',\n",
    "              optimizer='adam',\n",
    "              metrics=['accuracy'])\n",
    "\n",
    "\n",
    "model.summary() "
   ]
  },
  {
   "cell_type": "code",
   "execution_count": 13,
   "metadata": {
    "colab": {},
    "colab_type": "code",
    "id": "xNW40AXivcK7"
   },
   "outputs": [],
   "source": [
    "hist_train_loss_digit = {i:[] for i in range(5)}\n",
    "hist_test_loss_digit = {i:[] for i in range(5)}\n",
    "\n",
    "hist_train_acc_digit = {i:[] for i in range(5)}\n",
    "hist_test_acc_digit = {i:[] for i in range(5)}\n",
    "\n",
    "hist_train_loss = []\n",
    "hist_test_loss = []\n",
    "\n",
    "hist_train_acc = []\n",
    "hist_test_acc = []"
   ]
  },
  {
   "cell_type": "code",
   "execution_count": 14,
   "metadata": {
    "colab": {},
    "colab_type": "code",
    "id": "VFeIxaatvhap"
   },
   "outputs": [],
   "source": [
    "digit_acc = [[] for _ in range(NUM_OF_LETTERS)]\n",
    "val_digit_acc = [[] for _ in range(NUM_OF_LETTERS)]\n",
    "loss = []\n",
    "val_loss = []"
   ]
  },
  {
   "cell_type": "code",
   "execution_count": null,
   "metadata": {
    "colab": {
     "base_uri": "https://localhost:8080/",
     "height": 1000
    },
    "colab_type": "code",
    "id": "IQTy-mCRvjIz",
    "outputId": "ed453b3f-f6a8-40f5-932a-50064fbac4cb"
   },
   "outputs": [
    {
     "name": "stdout",
     "output_type": "stream",
     "text": [
      "Epoch 1/35\n",
      "626/626 [==============================] - 362s 576ms/step - loss: 0.7374 - digit0_loss: 0.1473 - digit1_loss: 0.1477 - digit2_loss: 0.1473 - digit3_loss: 0.1479 - digit4_loss: 0.1473 - digit0_accuracy: 0.0376 - digit1_accuracy: 0.0366 - digit2_accuracy: 0.0384 - digit3_accuracy: 0.0365 - digit4_accuracy: 0.0366 - val_loss: 0.7079 - val_digit0_loss: 0.1416 - val_digit1_loss: 0.1414 - val_digit2_loss: 0.1415 - val_digit3_loss: 0.1417 - val_digit4_loss: 0.1417 - val_digit0_accuracy: 0.0373 - val_digit1_accuracy: 0.0372 - val_digit2_accuracy: 0.0382 - val_digit3_accuracy: 0.0360 - val_digit4_accuracy: 0.0385\n",
      "Epoch 2/35\n",
      "626/626 [==============================] - 363s 579ms/step - loss: 0.7131 - digit0_loss: 0.1425 - digit1_loss: 0.1427 - digit2_loss: 0.1426 - digit3_loss: 0.1427 - digit4_loss: 0.1426 - digit0_accuracy: 0.0378 - digit1_accuracy: 0.0363 - digit2_accuracy: 0.0370 - digit3_accuracy: 0.0373 - digit4_accuracy: 0.0376 - val_loss: 0.7077 - val_digit0_loss: 0.1416 - val_digit1_loss: 0.1416 - val_digit2_loss: 0.1415 - val_digit3_loss: 0.1415 - val_digit4_loss: 0.1416 - val_digit0_accuracy: 0.0366 - val_digit1_accuracy: 0.0350 - val_digit2_accuracy: 0.0353 - val_digit3_accuracy: 0.0384 - val_digit4_accuracy: 0.0366\n",
      "Epoch 3/35\n",
      "626/626 [==============================] - 377s 603ms/step - loss: 0.7084 - digit0_loss: 0.1416 - digit1_loss: 0.1419 - digit2_loss: 0.1419 - digit3_loss: 0.1418 - digit4_loss: 0.1413 - digit0_accuracy: 0.0463 - digit1_accuracy: 0.0427 - digit2_accuracy: 0.0435 - digit3_accuracy: 0.0442 - digit4_accuracy: 0.0460 - val_loss: 0.6726 - val_digit0_loss: 0.1328 - val_digit1_loss: 0.1362 - val_digit2_loss: 0.1362 - val_digit3_loss: 0.1355 - val_digit4_loss: 0.1319 - val_digit0_accuracy: 0.1121 - val_digit1_accuracy: 0.0915 - val_digit2_accuracy: 0.0937 - val_digit3_accuracy: 0.0885 - val_digit4_accuracy: 0.1202\n",
      "Epoch 4/35\n",
      "269/626 [===========>..................] - ETA: 3:46 - loss: 0.6460 - digit0_loss: 0.1234 - digit1_loss: 0.1331 - digit2_loss: 0.1335 - digit3_loss: 0.1322 - digit4_loss: 0.1238 - digit0_accuracy: 0.1849 - digit1_accuracy: 0.1207 - digit2_accuracy: 0.1197 - digit3_accuracy: 0.1263 - digit4_accuracy: 0.1752"
     ]
    }
   ],
   "source": [
    "history = model.fit(x_train, s_train,\n",
    "                    batch_size=BATCH_SIZE,\n",
    "                    epochs=EPOCHS,\n",
    "                    verbose=1,\n",
    "                    validation_data=(x_test, s_test)\n",
    "                   )"
   ]
  },
  {
   "cell_type": "code",
   "execution_count": null,
   "metadata": {
    "colab": {},
    "colab_type": "code",
    "id": "PK5FjnNp63eL"
   },
   "outputs": [],
   "source": [
    "digit_acc = [[] for _ in range(NUM_OF_LETTERS)]\n",
    "val_digit_acc = [[] for _ in range(NUM_OF_LETTERS)]\n",
    "loss = []\n",
    "val_loss = []\n",
    "\n",
    "\n",
    "def plot_diagram(digit_acc_now, val_digit_acc_now, loss_now, val_loss_now):\n",
    "    global digit_acc, val_digit_acc, loss, val_loss\n",
    "    \n",
    "    \n",
    "    for i in range(NUM_OF_LETTERS):\n",
    "        digit_acc[i].extend(digit_acc_now[i])\n",
    "        val_digit_acc[i].extend(val_digit_acc_now[i])\n",
    "    loss.extend(loss_now)\n",
    "    val_loss.extend(val_loss_now)\n",
    "    \n",
    "    for i in range(NUM_OF_LETTERS):\n",
    "        s = {0:'First', 1:'Second', 2:'Third', 3:'Fourth', 4:'Fifth'}[i]\n",
    "        # plt.plot(val_digit_acc[i], label='%s Digit Train' % s)\n",
    "        plt.plot(digit_acc[i], label='%s Digit Test' % s)\n",
    "\n",
    "    plt.title('Model accuracy')\n",
    "    plt.ylabel('Accuracy')\n",
    "    plt.xlabel('Epoch')\n",
    "    plt.legend()\n",
    "    plt.show()\n",
    "\n",
    "    for i in range(NUM_OF_LETTERS):\n",
    "        s = {0:'First', 1:'Second', 2:'Third', 3:'Fourth', 4:'Fifth'}[i]\n",
    "        plt.plot(val_digit_acc[i], label='%s Digit Train' % s)\n",
    "        # plt.plot(digit_acc[i], label='%s Digit Test' % s)\n",
    "\n",
    "    plt.title('Model accuracy')\n",
    "    plt.ylabel('Accuracy')\n",
    "    plt.xlabel('Epoch')\n",
    "    plt.legend()\n",
    "    plt.show()\n",
    "\n",
    "\n",
    "\n",
    "    # Plot training & validation loss values\n",
    "    \n",
    "    plt.plot(val_loss, label='Train')\n",
    "    plt.plot(loss, label='Test')\n",
    "    plt.title('Model loss')\n",
    "    plt.ylabel('Loss')\n",
    "    plt.xlabel('Epoch')\n",
    "    plt.legend()\n",
    "    plt.show()"
   ]
  },
  {
   "cell_type": "code",
   "execution_count": null,
   "metadata": {
    "colab": {
     "base_uri": "https://localhost:8080/",
     "height": 851
    },
    "colab_type": "code",
    "id": "gmz3c1Ve8xG1",
    "outputId": "746b74b1-02a1-43eb-d7f5-a094234f55e3"
   },
   "outputs": [],
   "source": [
    "plot_diagram(\n",
    "    \n",
    "    [history.history['digit%d_accuracy' % i] for i in range(NUM_OF_LETTERS)],\n",
    "    [history.history['val_digit%d_accuracy' % i] for i in range(NUM_OF_LETTERS)],\n",
    "    history.history['loss'],\n",
    "    history.history['val_loss'],\n",
    ")"
   ]
  },
  {
   "cell_type": "code",
   "execution_count": null,
   "metadata": {
    "colab": {
     "base_uri": "https://localhost:8080/",
     "height": 35
    },
    "colab_type": "code",
    "id": "MQIbUVBY6-SG",
    "outputId": "26fe21c3-aeb8-42a5-b5bf-4058be42d516"
   },
   "outputs": [],
   "source": [
    "# Save model and weights\n",
    "if not os.path.isdir(save_dir):\n",
    "    os.makedirs(save_dir)\n",
    "model_path = os.path.join(save_dir, model_name)\n",
    "model.save(model_path)\n",
    "print('Saved trained model at %s ' % model_path)"
   ]
  },
  {
   "cell_type": "code",
   "execution_count": null,
   "metadata": {
    "colab": {
     "base_uri": "https://localhost:8080/",
     "height": 70
    },
    "colab_type": "code",
    "id": "x8cshRKD7Bak",
    "outputId": "e09d242b-a39f-4d4f-f289-5d5c8e0fe62e"
   },
   "outputs": [],
   "source": [
    "# Score trained model.\n",
    "scores = model.evaluate(x_train, s_train, verbose=1)\n",
    "print('Train loss:     %f' % np.mean(scores[0:5]))\n",
    "acc = 1.\n",
    "for i in range(5):\n",
    "    acc *= scores[6+i]\n",
    "print('Train accuracy: %.2f' % (acc * 100.))"
   ]
  },
  {
   "cell_type": "code",
   "execution_count": null,
   "metadata": {
    "colab": {
     "base_uri": "https://localhost:8080/",
     "height": 70
    },
    "colab_type": "code",
    "id": "yfQ_5Ago7EWh",
    "outputId": "19d26d76-4ef6-4d67-f0da-b56442076319"
   },
   "outputs": [],
   "source": [
    "scores = model.evaluate(x_test, s_test, verbose=1)\n",
    "print('Test loss:     %f' % np.mean(scores[0:5]))\n",
    "acc = 1.\n",
    "for i in range(5):\n",
    "    acc *= scores[6+i]\n",
    "print('Test accuracy: %.2f' % (acc * 100.))"
   ]
  },
  {
   "cell_type": "code",
   "execution_count": null,
   "metadata": {},
   "outputs": [],
   "source": []
  },
  {
   "cell_type": "code",
   "execution_count": null,
   "metadata": {},
   "outputs": [],
   "source": []
  },
  {
   "cell_type": "code",
   "execution_count": null,
   "metadata": {},
   "outputs": [],
   "source": []
  }
 ],
 "metadata": {
  "accelerator": "GPU",
  "colab": {
   "collapsed_sections": [],
   "name": "Captcha_Solver_Alphanumerical.ipynb",
   "provenance": []
  },
  "kernelspec": {
   "display_name": "Python 3 (ipykernel)",
   "language": "python",
   "name": "python3"
  },
  "language_info": {
   "codemirror_mode": {
    "name": "ipython",
    "version": 3
   },
   "file_extension": ".py",
   "mimetype": "text/x-python",
   "name": "python",
   "nbconvert_exporter": "python",
   "pygments_lexer": "ipython3",
   "version": "3.9.12"
  }
 },
 "nbformat": 4,
 "nbformat_minor": 1
}
