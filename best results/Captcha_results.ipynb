{
  "cells": [
    {
      "cell_type": "code",
      "execution_count": 1,
      "metadata": {
        "colab": {
          "base_uri": "https://localhost:8080/",
          "height": 0
        },
        "id": "6Tzheb9xoLiD",
        "outputId": "876ea45a-9fe5-404f-b6f7-1018ef908e65"
      },
      "outputs": [
        {
          "output_type": "stream",
          "name": "stdout",
          "text": [
            "Looking in indexes: https://pypi.org/simple, https://us-python.pkg.dev/colab-wheels/public/simple/\n",
            "Collecting captcha\n",
            "  Downloading captcha-0.4-py3-none-any.whl (102 kB)\n",
            "\u001b[?25l\r\u001b[K     |███▏                            | 10 kB 31.6 MB/s eta 0:00:01\r\u001b[K     |██████▍                         | 20 kB 38.8 MB/s eta 0:00:01\r\u001b[K     |█████████▋                      | 30 kB 37.3 MB/s eta 0:00:01\r\u001b[K     |████████████▉                   | 40 kB 27.0 MB/s eta 0:00:01\r\u001b[K     |████████████████                | 51 kB 24.5 MB/s eta 0:00:01\r\u001b[K     |███████████████████▏            | 61 kB 27.5 MB/s eta 0:00:01\r\u001b[K     |██████████████████████▍         | 71 kB 23.5 MB/s eta 0:00:01\r\u001b[K     |█████████████████████████▋      | 81 kB 23.7 MB/s eta 0:00:01\r\u001b[K     |████████████████████████████▊   | 92 kB 25.7 MB/s eta 0:00:01\r\u001b[K     |████████████████████████████████| 102 kB 27.6 MB/s eta 0:00:01\r\u001b[K     |████████████████████████████████| 102 kB 27.6 MB/s \n",
            "\u001b[?25hRequirement already satisfied: Pillow in /usr/local/lib/python3.7/dist-packages (from captcha) (7.1.2)\n",
            "Installing collected packages: captcha\n",
            "Successfully installed captcha-0.4\n",
            "Looking in indexes: https://pypi.org/simple, https://us-python.pkg.dev/colab-wheels/public/simple/\n",
            "Requirement already satisfied: opencv-python in /usr/local/lib/python3.7/dist-packages (4.1.2.30)\n",
            "Requirement already satisfied: numpy>=1.14.5 in /usr/local/lib/python3.7/dist-packages (from opencv-python) (1.21.6)\n",
            "Get:1 http://security.ubuntu.com/ubuntu bionic-security InRelease [88.7 kB]\n",
            "Get:2 https://cloud.r-project.org/bin/linux/ubuntu bionic-cran40/ InRelease [3,626 B]\n",
            "Get:3 https://developer.download.nvidia.com/compute/cuda/repos/ubuntu1804/x86_64  InRelease [1,581 B]\n",
            "Hit:4 http://archive.ubuntu.com/ubuntu bionic InRelease\n",
            "Get:5 http://ppa.launchpad.net/c2d4u.team/c2d4u4.0+/ubuntu bionic InRelease [15.9 kB]\n",
            "Get:6 http://archive.ubuntu.com/ubuntu bionic-updates InRelease [88.7 kB]\n",
            "Ign:7 https://developer.download.nvidia.com/compute/machine-learning/repos/ubuntu1804/x86_64  InRelease\n",
            "Hit:8 https://developer.download.nvidia.com/compute/machine-learning/repos/ubuntu1804/x86_64  Release\n",
            "Hit:9 http://ppa.launchpad.net/cran/libgit2/ubuntu bionic InRelease\n",
            "Get:10 http://archive.ubuntu.com/ubuntu bionic-backports InRelease [74.6 kB]\n",
            "Get:11 http://security.ubuntu.com/ubuntu bionic-security/universe amd64 Packages [1,523 kB]\n",
            "Get:12 http://ppa.launchpad.net/deadsnakes/ppa/ubuntu bionic InRelease [15.9 kB]\n",
            "Get:13 http://security.ubuntu.com/ubuntu bionic-security/restricted amd64 Packages [1,055 kB]\n",
            "Get:14 http://security.ubuntu.com/ubuntu bionic-security/main amd64 Packages [2,890 kB]\n",
            "Hit:15 http://ppa.launchpad.net/graphics-drivers/ppa/ubuntu bionic InRelease\n",
            "Get:16 https://developer.download.nvidia.com/compute/cuda/repos/ubuntu1804/x86_64  Packages [816 kB]\n",
            "Get:17 http://ppa.launchpad.net/c2d4u.team/c2d4u4.0+/ubuntu bionic/main Sources [2,075 kB]\n",
            "Get:19 http://ppa.launchpad.net/c2d4u.team/c2d4u4.0+/ubuntu bionic/main amd64 Packages [1,063 kB]\n",
            "Get:20 http://archive.ubuntu.com/ubuntu bionic-updates/main amd64 Packages [3,326 kB]\n",
            "Get:21 http://archive.ubuntu.com/ubuntu bionic-updates/restricted amd64 Packages [1,101 kB]\n",
            "Get:22 http://archive.ubuntu.com/ubuntu bionic-updates/universe amd64 Packages [2,300 kB]\n",
            "Get:23 http://ppa.launchpad.net/deadsnakes/ppa/ubuntu bionic/main amd64 Packages [45.3 kB]\n",
            "Fetched 16.5 MB in 6s (2,986 kB/s)\n",
            "Reading package lists... Done\n",
            "Building dependency tree       \n",
            "Reading state information... Done\n",
            "73 packages can be upgraded. Run 'apt list --upgradable' to see them.\n",
            "Reading package lists... Done\n",
            "Building dependency tree       \n",
            "Reading state information... Done\n",
            "libsm6 is already the newest version (2:1.2.2-1).\n",
            "libxext6 is already the newest version (2:1.3.3-1).\n",
            "The following package was automatically installed and is no longer required:\n",
            "  libnvidia-common-460\n",
            "Use 'apt autoremove' to remove it.\n",
            "0 upgraded, 0 newly installed, 0 to remove and 73 not upgraded.\n",
            "Looking in indexes: https://pypi.org/simple, https://us-python.pkg.dev/colab-wheels/public/simple/\n",
            "Collecting opencv-python-headless\n",
            "  Downloading opencv_python_headless-4.6.0.66-cp36-abi3-manylinux_2_17_x86_64.manylinux2014_x86_64.whl (48.3 MB)\n",
            "\u001b[K     |████████████████████████████████| 48.3 MB 1.3 MB/s \n",
            "\u001b[?25hRequirement already satisfied: numpy>=1.14.5 in /usr/local/lib/python3.7/dist-packages (from opencv-python-headless) (1.21.6)\n",
            "Installing collected packages: opencv-python-headless\n",
            "Successfully installed opencv-python-headless-4.6.0.66\n",
            "Looking in indexes: https://pypi.org/simple, https://us-python.pkg.dev/colab-wheels/public/simple/\n",
            "Collecting opencv-contrib-python-headless\n",
            "  Downloading opencv_contrib_python_headless-4.6.0.66-cp36-abi3-manylinux_2_17_x86_64.manylinux2014_x86_64.whl (54.5 MB)\n",
            "\u001b[K     |████████████████████████████████| 54.5 MB 37 kB/s \n",
            "\u001b[?25hRequirement already satisfied: numpy>=1.14.5 in /usr/local/lib/python3.7/dist-packages (from opencv-contrib-python-headless) (1.21.6)\n",
            "Installing collected packages: opencv-contrib-python-headless\n",
            "Successfully installed opencv-contrib-python-headless-4.6.0.66\n",
            "Looking in indexes: https://pypi.org/simple, https://us-python.pkg.dev/colab-wheels/public/simple/\n",
            "Requirement already satisfied: keras in /usr/local/lib/python3.7/dist-packages (2.8.0)\n",
            "Looking in indexes: https://pypi.org/simple, https://us-python.pkg.dev/colab-wheels/public/simple/\n",
            "Collecting opencv-python-headless<4.3\n",
            "  Downloading opencv_python_headless-4.2.0.34-cp37-cp37m-manylinux1_x86_64.whl (21.6 MB)\n",
            "\u001b[K     |████████████████████████████████| 21.6 MB 1.3 MB/s \n",
            "\u001b[?25hRequirement already satisfied: numpy>=1.14.5 in /usr/local/lib/python3.7/dist-packages (from opencv-python-headless<4.3) (1.21.6)\n",
            "Installing collected packages: opencv-python-headless\n",
            "  Attempting uninstall: opencv-python-headless\n",
            "    Found existing installation: opencv-python-headless 4.6.0.66\n",
            "    Uninstalling opencv-python-headless-4.6.0.66:\n",
            "      Successfully uninstalled opencv-python-headless-4.6.0.66\n",
            "Successfully installed opencv-python-headless-4.2.0.34\n"
          ]
        }
      ],
      "source": [
        "%pip install captcha \n",
        "%pip install opencv-python\n",
        "!apt update && apt install -y libsm6 libxext6\n",
        "!pip install opencv-python-headless\n",
        "!pip install opencv-contrib-python-headless\n",
        "%pip install keras\n",
        "\n",
        "!pip install \"opencv-python-headless<4.3\"\n",
        "import argparse\n",
        "import json\n",
        "import string\n",
        "import os\n",
        "import shutil\n",
        "import uuid\n",
        "from captcha.image import ImageCaptcha\n",
        "\n",
        "import itertools\n",
        "\n",
        "import os\n",
        "import cv2\n",
        "import numpy as np\n",
        "from random import random, randint, choices\n",
        "\n",
        "import keras\n",
        "from keras.models import Sequential, Model\n",
        "from keras.layers import Dense, Dropout, Activation, Flatten\n",
        "from keras.layers import Conv2D, MaxPooling2D, Input\n",
        "import matplotlib.pyplot as plt"
      ]
    },
    {
      "cell_type": "code",
      "execution_count": 2,
      "metadata": {
        "id": "yuX06GVdok0-"
      },
      "outputs": [],
      "source": [
        "alphabet_all = list('qwertyupasdfghjkzxcvbnm23456789QWERTYUPKJHGFDSAZXCVBNM')\n",
        "alphabet = list('qwertyupasdfghjkzxcvbnm23456789')#QWERTYUIOPLKJHGFDSAZXCVBNM')\n",
        "num_alphabet = len(alphabet)\n",
        "def _gen_captcha(img_dir, num_of_letters, num_of_repetition, width, height):\n",
        "    if os.path.exists(img_dir):\n",
        "        shutil.rmtree(img_dir)\n",
        "    if not os.path.exists(img_dir):\n",
        "        os.makedirs(img_dir)\n",
        "\n",
        "    image = ImageCaptcha(width=width, height=height)\n",
        "\n",
        "    for counter in range(num_of_repetition):\n",
        "        i = choices(alphabet_all, k=5)\n",
        "        captcha = ''.join(i)\n",
        "        fn = os.path.join(img_dir, '%s_%s.png' % (captcha, uuid.uuid4()))\n",
        "        image.write(captcha, fn)\n",
        "\n",
        "\n",
        "def gen_dataset(path, num_of_repetition, num_of_letters, width, height):\n",
        "    _gen_captcha(os.path.join(path, 'data'), num_of_letters, num_of_repetition, width, height)\n",
        "    print('Finished Data Generation')"
      ]
    },
    {
      "cell_type": "code",
      "execution_count": 3,
      "metadata": {
        "id": "MQYOsJyioy5g"
      },
      "outputs": [],
      "source": [
        "BATCH_SIZE = 256\n",
        "NUM_OF_LETTERS = 5\n",
        "EPOCHS = 50\n",
        "IMG_ROW, IMG_COLS = 50, 135\n",
        "\n",
        "# Non-configs\n",
        "PATH = os.getcwd()\n",
        "DATA_PATH = os.path.join(PATH, 'train')"
      ]
    },
    {
      "cell_type": "code",
      "execution_count": 4,
      "metadata": {
        "id": "ItSQ3uTvo5YW"
      },
      "outputs": [],
      "source": [
        "def load_data(path, test_split=0.1):\n",
        "    print ('loading dataset...')\n",
        "    y_train = []\n",
        "    y_test = []\n",
        "    x_train = []\n",
        "    x_test = []\n",
        "\n",
        "    # r=root, d=directories, f = files\n",
        "    counter = 0\n",
        "    for r, d, f in os.walk(path):\n",
        "        for fl in f:\n",
        "            if '.png' in fl:\n",
        "                flr = fl.split('_')[0]\n",
        "                counter += 1\n",
        "                label = np.zeros((NUM_OF_LETTERS, num_alphabet))\n",
        "                for i in range(NUM_OF_LETTERS):\n",
        "                    label[i, alphabet.index(flr[i].lower())] = 1\n",
        "#                 label = np.zeros((50, 1))\n",
        "#                 for i in range(5):\n",
        "#                     label[i*5+int(flr[i])] = 1\n",
        "\n",
        "                img = cv2.imread(os.path.join(r, fl))\n",
        "                img = cv2.cvtColor(img, cv2.COLOR_BGR2GRAY)\n",
        "                img = cv2.resize(img, (int(135/2), int(50/2)), interpolation=cv2.INTER_AREA)\n",
        "                img = np.reshape(img, (img.shape[0], img.shape[1], 1))\n",
        "\n",
        "                if random() < test_split:\n",
        "                    y_test.append(label)\n",
        "                    x_test.append(img)\n",
        "                else:\n",
        "                    y_train.append(label)\n",
        "                    x_train.append(img)\n",
        "\n",
        "    print('dataset size:', counter, '(train=%d, test=%d)' % (len(y_train), len(y_test)))\n",
        "    return np.array(x_train), np.array(y_train), np.array(x_test), np.array(y_test)"
      ]
    },
    {
      "cell_type": "code",
      "execution_count": 5,
      "metadata": {
        "id": "bCqtzWWvo798",
        "colab": {
          "base_uri": "https://localhost:8080/",
          "height": 0
        },
        "outputId": "88ce29e9-94d0-4cf3-e74e-e0be3600d485"
      },
      "outputs": [
        {
          "output_type": "stream",
          "name": "stdout",
          "text": [
            "Generating Dataset\n",
            "Finished Data Generation\n"
          ]
        }
      ],
      "source": [
        "if not os.path.exists(DATA_PATH):\n",
        "    print('Generating Dataset')\n",
        "    gen_dataset(DATA_PATH, 200*1000 , NUM_OF_LETTERS, IMG_COLS, IMG_ROW)"
      ]
    },
    {
      "cell_type": "code",
      "execution_count": 6,
      "metadata": {
        "colab": {
          "base_uri": "https://localhost:8080/",
          "height": 0
        },
        "id": "AenCMkmco-jv",
        "outputId": "a447d7f2-1ddd-4276-fbcc-b8ba728781b5"
      },
      "outputs": [
        {
          "output_type": "stream",
          "name": "stdout",
          "text": [
            "loading dataset...\n",
            "dataset size: 200000 (train=180057, test=19943)\n"
          ]
        }
      ],
      "source": [
        "x_train, y_train, x_test, y_test = load_data(DATA_PATH)\n",
        "\n",
        "x_train = x_train.astype('float32')\n",
        "x_test = x_test.astype('float32')\n",
        "x_train /= 255\n",
        "x_test /= 255"
      ]
    },
    {
      "cell_type": "code",
      "execution_count": 7,
      "metadata": {
        "colab": {
          "base_uri": "https://localhost:8080/",
          "height": 0
        },
        "id": "zqV-rssUuhIy",
        "outputId": "af3156cb-e937-49ed-d2fe-cd29b703ec39"
      },
      "outputs": [
        {
          "output_type": "stream",
          "name": "stdout",
          "text": [
            "(180057, 25, 67, 1)\n",
            "(180057, 5, 31)\n",
            "(19943, 25, 67, 1)\n",
            "(19943, 5, 31)\n"
          ]
        }
      ],
      "source": [
        "print(x_train.shape)\n",
        "print(y_train.shape)\n",
        "print(x_test.shape)\n",
        "print(y_test.shape)"
      ]
    },
    {
      "cell_type": "code",
      "execution_count": 8,
      "metadata": {
        "id": "eASawvTyvMaL"
      },
      "outputs": [],
      "source": [
        "s_train = []\n",
        "s_test = []\n",
        "for i in range(NUM_OF_LETTERS):\n",
        "    s_train.append(y_train[:, i, :])\n",
        "    s_test.append(y_test[:, i, :])"
      ]
    },
    {
      "cell_type": "code",
      "execution_count": 10,
      "metadata": {
        "id": "DCom2NFKvVF0"
      },
      "outputs": [],
      "source": [
        "save_dir = os.path.join(PATH, 'saved_models')\n",
        "model_name = 'keras_cifar10_trained_model.h5'"
      ]
    },
    {
      "cell_type": "code",
      "execution_count": 23,
      "metadata": {
        "id": "XS0vWhEuvXgo"
      },
      "outputs": [],
      "source": [
        "input_layer = Input((25, 67, 1))\n",
        "x = Conv2D(filters=64, kernel_size=(5, 5), padding='same', activation='relu')(input_layer)\n",
        "\n",
        "                                                                        \n",
        "x = MaxPooling2D(pool_size=(2, 2))(x)\n",
        "\n",
        "x = Conv2D(filters=128, kernel_size=(5, 5), padding='same', activation='relu')(x)\n",
        "\n",
        "x = MaxPooling2D(pool_size=(2, 2))(x)\n",
        "\n",
        "x = Conv2D(filters=128, kernel_size=(5, 5), padding='same', activation='relu')(x)\n",
        "\n",
        "x = MaxPooling2D(pool_size=(2, 2))(x)\n",
        "\n",
        "x = Dropout(0.3)(x)\n",
        "x = Flatten()(x)\n",
        "x = Dense(512, activation='relu')(x)\n",
        "x = Dropout(0.3)(x)\n",
        "\n",
        "out = [Dense(num_alphabet, name='digit%d' % i, activation='softmax')(x) for i in range(NUM_OF_LETTERS)]\n",
        "# out = Dense(num_alphabet*5, activation='sigmoid')(x)\n",
        "\n",
        "model = Model(inputs=input_layer, outputs=out)"
      ]
    },
    {
      "cell_type": "code",
      "execution_count": null,
      "metadata": {
        "colab": {
          "background_save": true
        },
        "id": "_1aTZ32pvZpl"
      },
      "outputs": [],
      "source": [
        "# model_path = os.path.join(save_dir, model_name)\n",
        "# model = keras.models.load_model(model_path)"
      ]
    },
    {
      "cell_type": "code",
      "execution_count": 24,
      "metadata": {
        "colab": {
          "base_uri": "https://localhost:8080/",
          "height": 0
        },
        "id": "mvyFxZTlvfKR",
        "outputId": "a72f0fad-e4ae-451d-9bbf-b216d8c46e40"
      },
      "outputs": [
        {
          "output_type": "stream",
          "name": "stdout",
          "text": [
            "Model: \"model_1\"\n",
            "__________________________________________________________________________________________________\n",
            " Layer (type)                   Output Shape         Param #     Connected to                     \n",
            "==================================================================================================\n",
            " input_6 (InputLayer)           [(None, 25, 67, 1)]  0           []                               \n",
            "                                                                                                  \n",
            " conv2d_15 (Conv2D)             (None, 25, 67, 64)   1664        ['input_6[0][0]']                \n",
            "                                                                                                  \n",
            " max_pooling2d_11 (MaxPooling2D  (None, 12, 33, 64)  0           ['conv2d_15[0][0]']              \n",
            " )                                                                                                \n",
            "                                                                                                  \n",
            " conv2d_16 (Conv2D)             (None, 12, 33, 128)  204928      ['max_pooling2d_11[0][0]']       \n",
            "                                                                                                  \n",
            " max_pooling2d_12 (MaxPooling2D  (None, 6, 16, 128)  0           ['conv2d_16[0][0]']              \n",
            " )                                                                                                \n",
            "                                                                                                  \n",
            " conv2d_17 (Conv2D)             (None, 6, 16, 128)   409728      ['max_pooling2d_12[0][0]']       \n",
            "                                                                                                  \n",
            " max_pooling2d_13 (MaxPooling2D  (None, 3, 8, 128)   0           ['conv2d_17[0][0]']              \n",
            " )                                                                                                \n",
            "                                                                                                  \n",
            " dropout_6 (Dropout)            (None, 3, 8, 128)    0           ['max_pooling2d_13[0][0]']       \n",
            "                                                                                                  \n",
            " flatten_3 (Flatten)            (None, 3072)         0           ['dropout_6[0][0]']              \n",
            "                                                                                                  \n",
            " dense_7 (Dense)                (None, 512)          1573376     ['flatten_3[0][0]']              \n",
            "                                                                                                  \n",
            " dropout_7 (Dropout)            (None, 512)          0           ['dense_7[0][0]']                \n",
            "                                                                                                  \n",
            " digit0 (Dense)                 (None, 31)           15903       ['dropout_7[0][0]']              \n",
            "                                                                                                  \n",
            " digit1 (Dense)                 (None, 31)           15903       ['dropout_7[0][0]']              \n",
            "                                                                                                  \n",
            " digit2 (Dense)                 (None, 31)           15903       ['dropout_7[0][0]']              \n",
            "                                                                                                  \n",
            " digit3 (Dense)                 (None, 31)           15903       ['dropout_7[0][0]']              \n",
            "                                                                                                  \n",
            " digit4 (Dense)                 (None, 31)           15903       ['dropout_7[0][0]']              \n",
            "                                                                                                  \n",
            "==================================================================================================\n",
            "Total params: 2,269,211\n",
            "Trainable params: 2,269,211\n",
            "Non-trainable params: 0\n",
            "__________________________________________________________________________________________________\n"
          ]
        }
      ],
      "source": [
        "# initiate Adam optimizer\n",
        "\n",
        "model.compile(loss='BinaryCrossentropy',\n",
        "              optimizer='adam',\n",
        "              metrics=['accuracy'])\n",
        "\n",
        "\n",
        "model.summary() "
      ]
    },
    {
      "cell_type": "code",
      "execution_count": 25,
      "metadata": {
        "id": "xNW40AXivcK7"
      },
      "outputs": [],
      "source": [
        "hist_train_loss_digit = {i:[] for i in range(5)}\n",
        "hist_test_loss_digit = {i:[] for i in range(5)}\n",
        "\n",
        "hist_train_acc_digit = {i:[] for i in range(5)}\n",
        "hist_test_acc_digit = {i:[] for i in range(5)}\n",
        "\n",
        "hist_train_loss = []\n",
        "hist_test_loss = []\n",
        "\n",
        "hist_train_acc = []\n",
        "hist_test_acc = []"
      ]
    },
    {
      "cell_type": "code",
      "execution_count": 26,
      "metadata": {
        "id": "VFeIxaatvhap"
      },
      "outputs": [],
      "source": [
        "digit_acc = [[] for _ in range(NUM_OF_LETTERS)]\n",
        "val_digit_acc = [[] for _ in range(NUM_OF_LETTERS)]\n",
        "loss = []\n",
        "val_loss = []"
      ]
    },
    {
      "cell_type": "code",
      "execution_count": 27,
      "metadata": {
        "id": "IQTy-mCRvjIz",
        "colab": {
          "base_uri": "https://localhost:8080/",
          "height": 0
        },
        "outputId": "13dc3c8d-996d-4e78-cfd6-531c1d14ab69"
      },
      "outputs": [
        {
          "output_type": "stream",
          "name": "stdout",
          "text": [
            "Epoch 1/50\n",
            "704/704 [==============================] - 38s 50ms/step - loss: 0.7336 - digit0_loss: 0.1466 - digit1_loss: 0.1467 - digit2_loss: 0.1469 - digit3_loss: 0.1469 - digit4_loss: 0.1466 - digit0_accuracy: 0.0371 - digit1_accuracy: 0.0373 - digit2_accuracy: 0.0374 - digit3_accuracy: 0.0374 - digit4_accuracy: 0.0371 - val_loss: 0.7073 - val_digit0_loss: 0.1414 - val_digit1_loss: 0.1415 - val_digit2_loss: 0.1415 - val_digit3_loss: 0.1414 - val_digit4_loss: 0.1415 - val_digit0_accuracy: 0.0375 - val_digit1_accuracy: 0.0385 - val_digit2_accuracy: 0.0371 - val_digit3_accuracy: 0.0361 - val_digit4_accuracy: 0.0364\n",
            "Epoch 2/50\n",
            "704/704 [==============================] - 30s 42ms/step - loss: 0.6655 - digit0_loss: 0.1286 - digit1_loss: 0.1358 - digit2_loss: 0.1362 - digit3_loss: 0.1355 - digit4_loss: 0.1294 - digit0_accuracy: 0.1511 - digit1_accuracy: 0.0965 - digit2_accuracy: 0.0950 - digit3_accuracy: 0.1009 - digit4_accuracy: 0.1446 - val_loss: 0.5029 - val_digit0_loss: 0.0856 - val_digit1_loss: 0.1096 - val_digit2_loss: 0.1125 - val_digit3_loss: 0.1087 - val_digit4_loss: 0.0865 - val_digit0_accuracy: 0.5253 - val_digit1_accuracy: 0.3254 - val_digit2_accuracy: 0.2996 - val_digit3_accuracy: 0.3342 - val_digit4_accuracy: 0.5079\n",
            "Epoch 3/50\n",
            "704/704 [==============================] - 31s 43ms/step - loss: 0.4383 - digit0_loss: 0.0707 - digit1_loss: 0.0977 - digit2_loss: 0.1029 - digit3_loss: 0.0966 - digit4_loss: 0.0703 - digit0_accuracy: 0.6198 - digit1_accuracy: 0.4161 - digit2_accuracy: 0.3778 - digit3_accuracy: 0.4254 - digit4_accuracy: 0.6251 - val_loss: 0.2993 - val_digit0_loss: 0.0403 - val_digit1_loss: 0.0712 - val_digit2_loss: 0.0790 - val_digit3_loss: 0.0691 - val_digit4_loss: 0.0397 - val_digit0_accuracy: 0.8446 - val_digit1_accuracy: 0.6592 - val_digit2_accuracy: 0.5951 - val_digit3_accuracy: 0.6681 - val_digit4_accuracy: 0.8490\n",
            "Epoch 4/50\n",
            "704/704 [==============================] - 30s 43ms/step - loss: 0.3214 - digit0_loss: 0.0455 - digit1_loss: 0.0748 - digit2_loss: 0.0829 - digit3_loss: 0.0729 - digit4_loss: 0.0454 - digit0_accuracy: 0.7945 - digit1_accuracy: 0.5978 - digit2_accuracy: 0.5407 - digit3_accuracy: 0.6128 - digit4_accuracy: 0.7964 - val_loss: 0.2122 - val_digit0_loss: 0.0244 - val_digit1_loss: 0.0518 - val_digit2_loss: 0.0619 - val_digit3_loss: 0.0500 - val_digit4_loss: 0.0241 - val_digit0_accuracy: 0.9172 - val_digit1_accuracy: 0.7740 - val_digit2_accuracy: 0.6927 - val_digit3_accuracy: 0.7834 - val_digit4_accuracy: 0.9108\n",
            "Epoch 5/50\n",
            "704/704 [==============================] - 30s 42ms/step - loss: 0.2541 - digit0_loss: 0.0337 - digit1_loss: 0.0603 - digit2_loss: 0.0690 - digit3_loss: 0.0578 - digit4_loss: 0.0333 - digit0_accuracy: 0.8599 - digit1_accuracy: 0.6976 - digit2_accuracy: 0.6365 - digit3_accuracy: 0.7149 - digit4_accuracy: 0.8602 - val_loss: 0.1598 - val_digit0_loss: 0.0172 - val_digit1_loss: 0.0393 - val_digit2_loss: 0.0488 - val_digit3_loss: 0.0376 - val_digit4_loss: 0.0171 - val_digit0_accuracy: 0.9404 - val_digit1_accuracy: 0.8350 - val_digit2_accuracy: 0.7701 - val_digit3_accuracy: 0.8408 - val_digit4_accuracy: 0.9353\n",
            "Epoch 6/50\n",
            "704/704 [==============================] - 30s 42ms/step - loss: 0.2072 - digit0_loss: 0.0263 - digit1_loss: 0.0495 - digit2_loss: 0.0579 - digit3_loss: 0.0474 - digit4_loss: 0.0262 - digit0_accuracy: 0.8947 - digit1_accuracy: 0.7644 - digit2_accuracy: 0.7101 - digit3_accuracy: 0.7749 - digit4_accuracy: 0.8948 - val_loss: 0.1232 - val_digit0_loss: 0.0126 - val_digit1_loss: 0.0307 - val_digit2_loss: 0.0383 - val_digit3_loss: 0.0293 - val_digit4_loss: 0.0123 - val_digit0_accuracy: 0.9523 - val_digit1_accuracy: 0.8721 - val_digit2_accuracy: 0.8262 - val_digit3_accuracy: 0.8788 - val_digit4_accuracy: 0.9519\n",
            "Epoch 7/50\n",
            "704/704 [==============================] - 30s 42ms/step - loss: 0.1726 - digit0_loss: 0.0215 - digit1_loss: 0.0414 - digit2_loss: 0.0488 - digit3_loss: 0.0396 - digit4_loss: 0.0213 - digit0_accuracy: 0.9168 - digit1_accuracy: 0.8097 - digit2_accuracy: 0.7662 - digit3_accuracy: 0.8187 - digit4_accuracy: 0.9158 - val_loss: 0.0968 - val_digit0_loss: 0.0096 - val_digit1_loss: 0.0245 - val_digit2_loss: 0.0295 - val_digit3_loss: 0.0233 - val_digit4_loss: 0.0099 - val_digit0_accuracy: 0.9621 - val_digit1_accuracy: 0.8999 - val_digit2_accuracy: 0.8793 - val_digit3_accuracy: 0.9039 - val_digit4_accuracy: 0.9607\n",
            "Epoch 8/50\n",
            "704/704 [==============================] - 30s 42ms/step - loss: 0.1474 - digit0_loss: 0.0181 - digit1_loss: 0.0356 - digit2_loss: 0.0418 - digit3_loss: 0.0341 - digit4_loss: 0.0179 - digit0_accuracy: 0.9301 - digit1_accuracy: 0.8409 - digit2_accuracy: 0.8087 - digit3_accuracy: 0.8474 - digit4_accuracy: 0.9309 - val_loss: 0.0819 - val_digit0_loss: 0.0082 - val_digit1_loss: 0.0207 - val_digit2_loss: 0.0247 - val_digit3_loss: 0.0201 - val_digit4_loss: 0.0082 - val_digit0_accuracy: 0.9660 - val_digit1_accuracy: 0.9105 - val_digit2_accuracy: 0.8972 - val_digit3_accuracy: 0.9154 - val_digit4_accuracy: 0.9660\n",
            "Epoch 9/50\n",
            "704/704 [==============================] - 30s 43ms/step - loss: 0.1284 - digit0_loss: 0.0156 - digit1_loss: 0.0312 - digit2_loss: 0.0364 - digit3_loss: 0.0299 - digit4_loss: 0.0153 - digit0_accuracy: 0.9403 - digit1_accuracy: 0.8635 - digit2_accuracy: 0.8388 - digit3_accuracy: 0.8706 - digit4_accuracy: 0.9414 - val_loss: 0.0693 - val_digit0_loss: 0.0070 - val_digit1_loss: 0.0178 - val_digit2_loss: 0.0207 - val_digit3_loss: 0.0169 - val_digit4_loss: 0.0069 - val_digit0_accuracy: 0.9711 - val_digit1_accuracy: 0.9234 - val_digit2_accuracy: 0.9159 - val_digit3_accuracy: 0.9299 - val_digit4_accuracy: 0.9711\n",
            "Epoch 10/50\n",
            "704/704 [==============================] - 30s 43ms/step - loss: 0.1144 - digit0_loss: 0.0138 - digit1_loss: 0.0279 - digit2_loss: 0.0327 - digit3_loss: 0.0265 - digit4_loss: 0.0134 - digit0_accuracy: 0.9472 - digit1_accuracy: 0.8793 - digit2_accuracy: 0.8601 - digit3_accuracy: 0.8846 - digit4_accuracy: 0.9488 - val_loss: 0.0615 - val_digit0_loss: 0.0063 - val_digit1_loss: 0.0155 - val_digit2_loss: 0.0184 - val_digit3_loss: 0.0151 - val_digit4_loss: 0.0063 - val_digit0_accuracy: 0.9750 - val_digit1_accuracy: 0.9330 - val_digit2_accuracy: 0.9269 - val_digit3_accuracy: 0.9378 - val_digit4_accuracy: 0.9724\n",
            "Epoch 11/50\n",
            "704/704 [==============================] - 30s 43ms/step - loss: 0.1033 - digit0_loss: 0.0124 - digit1_loss: 0.0254 - digit2_loss: 0.0294 - digit3_loss: 0.0241 - digit4_loss: 0.0120 - digit0_accuracy: 0.9535 - digit1_accuracy: 0.8919 - digit2_accuracy: 0.8756 - digit3_accuracy: 0.8978 - digit4_accuracy: 0.9554 - val_loss: 0.0600 - val_digit0_loss: 0.0065 - val_digit1_loss: 0.0156 - val_digit2_loss: 0.0172 - val_digit3_loss: 0.0146 - val_digit4_loss: 0.0062 - val_digit0_accuracy: 0.9714 - val_digit1_accuracy: 0.9334 - val_digit2_accuracy: 0.9326 - val_digit3_accuracy: 0.9383 - val_digit4_accuracy: 0.9721\n",
            "Epoch 12/50\n",
            "704/704 [==============================] - 30s 43ms/step - loss: 0.0939 - digit0_loss: 0.0113 - digit1_loss: 0.0231 - digit2_loss: 0.0266 - digit3_loss: 0.0221 - digit4_loss: 0.0108 - digit0_accuracy: 0.9580 - digit1_accuracy: 0.9027 - digit2_accuracy: 0.8910 - digit3_accuracy: 0.9073 - digit4_accuracy: 0.9594 - val_loss: 0.0501 - val_digit0_loss: 0.0054 - val_digit1_loss: 0.0129 - val_digit2_loss: 0.0143 - val_digit3_loss: 0.0122 - val_digit4_loss: 0.0053 - val_digit0_accuracy: 0.9778 - val_digit1_accuracy: 0.9436 - val_digit2_accuracy: 0.9433 - val_digit3_accuracy: 0.9477 - val_digit4_accuracy: 0.9767\n",
            "Epoch 13/50\n",
            "704/704 [==============================] - 30s 42ms/step - loss: 0.0862 - digit0_loss: 0.0104 - digit1_loss: 0.0212 - digit2_loss: 0.0243 - digit3_loss: 0.0202 - digit4_loss: 0.0099 - digit0_accuracy: 0.9610 - digit1_accuracy: 0.9117 - digit2_accuracy: 0.9012 - digit3_accuracy: 0.9165 - digit4_accuracy: 0.9622 - val_loss: 0.0445 - val_digit0_loss: 0.0047 - val_digit1_loss: 0.0114 - val_digit2_loss: 0.0129 - val_digit3_loss: 0.0109 - val_digit4_loss: 0.0046 - val_digit0_accuracy: 0.9797 - val_digit1_accuracy: 0.9496 - val_digit2_accuracy: 0.9492 - val_digit3_accuracy: 0.9530 - val_digit4_accuracy: 0.9793\n",
            "Epoch 14/50\n",
            "704/704 [==============================] - 30s 42ms/step - loss: 0.0794 - digit0_loss: 0.0097 - digit1_loss: 0.0197 - digit2_loss: 0.0224 - digit3_loss: 0.0186 - digit4_loss: 0.0091 - digit0_accuracy: 0.9644 - digit1_accuracy: 0.9184 - digit2_accuracy: 0.9111 - digit3_accuracy: 0.9240 - digit4_accuracy: 0.9658 - val_loss: 0.0449 - val_digit0_loss: 0.0046 - val_digit1_loss: 0.0115 - val_digit2_loss: 0.0128 - val_digit3_loss: 0.0110 - val_digit4_loss: 0.0049 - val_digit0_accuracy: 0.9809 - val_digit1_accuracy: 0.9493 - val_digit2_accuracy: 0.9474 - val_digit3_accuracy: 0.9533 - val_digit4_accuracy: 0.9783\n",
            "Epoch 15/50\n",
            "704/704 [==============================] - 30s 42ms/step - loss: 0.0745 - digit0_loss: 0.0091 - digit1_loss: 0.0184 - digit2_loss: 0.0211 - digit3_loss: 0.0175 - digit4_loss: 0.0084 - digit0_accuracy: 0.9669 - digit1_accuracy: 0.9245 - digit2_accuracy: 0.9171 - digit3_accuracy: 0.9289 - digit4_accuracy: 0.9685 - val_loss: 0.0389 - val_digit0_loss: 0.0042 - val_digit1_loss: 0.0100 - val_digit2_loss: 0.0110 - val_digit3_loss: 0.0095 - val_digit4_loss: 0.0042 - val_digit0_accuracy: 0.9805 - val_digit1_accuracy: 0.9579 - val_digit2_accuracy: 0.9568 - val_digit3_accuracy: 0.9603 - val_digit4_accuracy: 0.9814\n",
            "Epoch 16/50\n",
            "704/704 [==============================] - 30s 42ms/step - loss: 0.0698 - digit0_loss: 0.0084 - digit1_loss: 0.0175 - digit2_loss: 0.0196 - digit3_loss: 0.0164 - digit4_loss: 0.0079 - digit0_accuracy: 0.9695 - digit1_accuracy: 0.9287 - digit2_accuracy: 0.9236 - digit3_accuracy: 0.9348 - digit4_accuracy: 0.9703 - val_loss: 0.0393 - val_digit0_loss: 0.0044 - val_digit1_loss: 0.0100 - val_digit2_loss: 0.0112 - val_digit3_loss: 0.0094 - val_digit4_loss: 0.0042 - val_digit0_accuracy: 0.9806 - val_digit1_accuracy: 0.9557 - val_digit2_accuracy: 0.9526 - val_digit3_accuracy: 0.9591 - val_digit4_accuracy: 0.9808\n",
            "Epoch 17/50\n",
            "704/704 [==============================] - 30s 42ms/step - loss: 0.0671 - digit0_loss: 0.0081 - digit1_loss: 0.0167 - digit2_loss: 0.0188 - digit3_loss: 0.0158 - digit4_loss: 0.0076 - digit0_accuracy: 0.9703 - digit1_accuracy: 0.9329 - digit2_accuracy: 0.9273 - digit3_accuracy: 0.9365 - digit4_accuracy: 0.9721 - val_loss: 0.0371 - val_digit0_loss: 0.0041 - val_digit1_loss: 0.0096 - val_digit2_loss: 0.0104 - val_digit3_loss: 0.0088 - val_digit4_loss: 0.0042 - val_digit0_accuracy: 0.9822 - val_digit1_accuracy: 0.9585 - val_digit2_accuracy: 0.9587 - val_digit3_accuracy: 0.9633 - val_digit4_accuracy: 0.9816\n",
            "Epoch 18/50\n",
            "704/704 [==============================] - 30s 42ms/step - loss: 0.0632 - digit0_loss: 0.0077 - digit1_loss: 0.0157 - digit2_loss: 0.0177 - digit3_loss: 0.0148 - digit4_loss: 0.0073 - digit0_accuracy: 0.9723 - digit1_accuracy: 0.9379 - digit2_accuracy: 0.9321 - digit3_accuracy: 0.9410 - digit4_accuracy: 0.9725 - val_loss: 0.0338 - val_digit0_loss: 0.0037 - val_digit1_loss: 0.0087 - val_digit2_loss: 0.0095 - val_digit3_loss: 0.0081 - val_digit4_loss: 0.0037 - val_digit0_accuracy: 0.9833 - val_digit1_accuracy: 0.9631 - val_digit2_accuracy: 0.9639 - val_digit3_accuracy: 0.9660 - val_digit4_accuracy: 0.9836\n",
            "Epoch 19/50\n",
            "704/704 [==============================] - 30s 42ms/step - loss: 0.0601 - digit0_loss: 0.0072 - digit1_loss: 0.0149 - digit2_loss: 0.0169 - digit3_loss: 0.0141 - digit4_loss: 0.0069 - digit0_accuracy: 0.9735 - digit1_accuracy: 0.9410 - digit2_accuracy: 0.9351 - digit3_accuracy: 0.9441 - digit4_accuracy: 0.9745 - val_loss: 0.0347 - val_digit0_loss: 0.0038 - val_digit1_loss: 0.0090 - val_digit2_loss: 0.0096 - val_digit3_loss: 0.0085 - val_digit4_loss: 0.0038 - val_digit0_accuracy: 0.9833 - val_digit1_accuracy: 0.9611 - val_digit2_accuracy: 0.9607 - val_digit3_accuracy: 0.9633 - val_digit4_accuracy: 0.9831\n",
            "Epoch 20/50\n",
            "704/704 [==============================] - 30s 42ms/step - loss: 0.0579 - digit0_loss: 0.0070 - digit1_loss: 0.0145 - digit2_loss: 0.0162 - digit3_loss: 0.0135 - digit4_loss: 0.0067 - digit0_accuracy: 0.9741 - digit1_accuracy: 0.9424 - digit2_accuracy: 0.9390 - digit3_accuracy: 0.9468 - digit4_accuracy: 0.9756 - val_loss: 0.0338 - val_digit0_loss: 0.0037 - val_digit1_loss: 0.0085 - val_digit2_loss: 0.0095 - val_digit3_loss: 0.0083 - val_digit4_loss: 0.0037 - val_digit0_accuracy: 0.9832 - val_digit1_accuracy: 0.9630 - val_digit2_accuracy: 0.9611 - val_digit3_accuracy: 0.9650 - val_digit4_accuracy: 0.9830\n",
            "Epoch 21/50\n",
            "704/704 [==============================] - 30s 42ms/step - loss: 0.0558 - digit0_loss: 0.0068 - digit1_loss: 0.0138 - digit2_loss: 0.0156 - digit3_loss: 0.0130 - digit4_loss: 0.0065 - digit0_accuracy: 0.9752 - digit1_accuracy: 0.9451 - digit2_accuracy: 0.9416 - digit3_accuracy: 0.9491 - digit4_accuracy: 0.9763 - val_loss: 0.0316 - val_digit0_loss: 0.0035 - val_digit1_loss: 0.0082 - val_digit2_loss: 0.0088 - val_digit3_loss: 0.0076 - val_digit4_loss: 0.0035 - val_digit0_accuracy: 0.9846 - val_digit1_accuracy: 0.9632 - val_digit2_accuracy: 0.9648 - val_digit3_accuracy: 0.9681 - val_digit4_accuracy: 0.9843\n",
            "Epoch 22/50\n",
            "704/704 [==============================] - 30s 42ms/step - loss: 0.0535 - digit0_loss: 0.0065 - digit1_loss: 0.0132 - digit2_loss: 0.0150 - digit3_loss: 0.0126 - digit4_loss: 0.0062 - digit0_accuracy: 0.9769 - digit1_accuracy: 0.9479 - digit2_accuracy: 0.9439 - digit3_accuracy: 0.9513 - digit4_accuracy: 0.9775 - val_loss: 0.0301 - val_digit0_loss: 0.0033 - val_digit1_loss: 0.0078 - val_digit2_loss: 0.0084 - val_digit3_loss: 0.0074 - val_digit4_loss: 0.0033 - val_digit0_accuracy: 0.9859 - val_digit1_accuracy: 0.9666 - val_digit2_accuracy: 0.9671 - val_digit3_accuracy: 0.9689 - val_digit4_accuracy: 0.9856\n",
            "Epoch 23/50\n",
            "704/704 [==============================] - 30s 42ms/step - loss: 0.0519 - digit0_loss: 0.0063 - digit1_loss: 0.0129 - digit2_loss: 0.0146 - digit3_loss: 0.0122 - digit4_loss: 0.0060 - digit0_accuracy: 0.9774 - digit1_accuracy: 0.9496 - digit2_accuracy: 0.9462 - digit3_accuracy: 0.9527 - digit4_accuracy: 0.9783 - val_loss: 0.0291 - val_digit0_loss: 0.0033 - val_digit1_loss: 0.0073 - val_digit2_loss: 0.0081 - val_digit3_loss: 0.0071 - val_digit4_loss: 0.0033 - val_digit0_accuracy: 0.9861 - val_digit1_accuracy: 0.9680 - val_digit2_accuracy: 0.9672 - val_digit3_accuracy: 0.9698 - val_digit4_accuracy: 0.9852\n",
            "Epoch 24/50\n",
            "704/704 [==============================] - 30s 42ms/step - loss: 0.0505 - digit0_loss: 0.0061 - digit1_loss: 0.0125 - digit2_loss: 0.0142 - digit3_loss: 0.0118 - digit4_loss: 0.0059 - digit0_accuracy: 0.9779 - digit1_accuracy: 0.9515 - digit2_accuracy: 0.9476 - digit3_accuracy: 0.9540 - digit4_accuracy: 0.9783 - val_loss: 0.0312 - val_digit0_loss: 0.0035 - val_digit1_loss: 0.0079 - val_digit2_loss: 0.0086 - val_digit3_loss: 0.0077 - val_digit4_loss: 0.0037 - val_digit0_accuracy: 0.9852 - val_digit1_accuracy: 0.9667 - val_digit2_accuracy: 0.9669 - val_digit3_accuracy: 0.9673 - val_digit4_accuracy: 0.9840\n",
            "Epoch 25/50\n",
            "704/704 [==============================] - 30s 43ms/step - loss: 0.0487 - digit0_loss: 0.0059 - digit1_loss: 0.0121 - digit2_loss: 0.0136 - digit3_loss: 0.0114 - digit4_loss: 0.0057 - digit0_accuracy: 0.9789 - digit1_accuracy: 0.9535 - digit2_accuracy: 0.9503 - digit3_accuracy: 0.9568 - digit4_accuracy: 0.9793 - val_loss: 0.0279 - val_digit0_loss: 0.0030 - val_digit1_loss: 0.0072 - val_digit2_loss: 0.0077 - val_digit3_loss: 0.0067 - val_digit4_loss: 0.0031 - val_digit0_accuracy: 0.9862 - val_digit1_accuracy: 0.9693 - val_digit2_accuracy: 0.9677 - val_digit3_accuracy: 0.9708 - val_digit4_accuracy: 0.9864\n",
            "Epoch 26/50\n",
            "704/704 [==============================] - 30s 42ms/step - loss: 0.0475 - digit0_loss: 0.0058 - digit1_loss: 0.0117 - digit2_loss: 0.0134 - digit3_loss: 0.0111 - digit4_loss: 0.0055 - digit0_accuracy: 0.9791 - digit1_accuracy: 0.9555 - digit2_accuracy: 0.9513 - digit3_accuracy: 0.9575 - digit4_accuracy: 0.9798 - val_loss: 0.0290 - val_digit0_loss: 0.0033 - val_digit1_loss: 0.0074 - val_digit2_loss: 0.0080 - val_digit3_loss: 0.0071 - val_digit4_loss: 0.0032 - val_digit0_accuracy: 0.9851 - val_digit1_accuracy: 0.9686 - val_digit2_accuracy: 0.9672 - val_digit3_accuracy: 0.9704 - val_digit4_accuracy: 0.9855\n",
            "Epoch 27/50\n",
            "704/704 [==============================] - 30s 42ms/step - loss: 0.0465 - digit0_loss: 0.0057 - digit1_loss: 0.0116 - digit2_loss: 0.0129 - digit3_loss: 0.0110 - digit4_loss: 0.0054 - digit0_accuracy: 0.9794 - digit1_accuracy: 0.9556 - digit2_accuracy: 0.9530 - digit3_accuracy: 0.9583 - digit4_accuracy: 0.9807 - val_loss: 0.0269 - val_digit0_loss: 0.0030 - val_digit1_loss: 0.0069 - val_digit2_loss: 0.0074 - val_digit3_loss: 0.0064 - val_digit4_loss: 0.0031 - val_digit0_accuracy: 0.9867 - val_digit1_accuracy: 0.9712 - val_digit2_accuracy: 0.9693 - val_digit3_accuracy: 0.9716 - val_digit4_accuracy: 0.9865\n",
            "Epoch 28/50\n",
            "704/704 [==============================] - 30s 42ms/step - loss: 0.0452 - digit0_loss: 0.0055 - digit1_loss: 0.0111 - digit2_loss: 0.0127 - digit3_loss: 0.0106 - digit4_loss: 0.0053 - digit0_accuracy: 0.9800 - digit1_accuracy: 0.9573 - digit2_accuracy: 0.9542 - digit3_accuracy: 0.9592 - digit4_accuracy: 0.9806 - val_loss: 0.0265 - val_digit0_loss: 0.0030 - val_digit1_loss: 0.0068 - val_digit2_loss: 0.0073 - val_digit3_loss: 0.0063 - val_digit4_loss: 0.0030 - val_digit0_accuracy: 0.9871 - val_digit1_accuracy: 0.9700 - val_digit2_accuracy: 0.9707 - val_digit3_accuracy: 0.9727 - val_digit4_accuracy: 0.9869\n",
            "Epoch 29/50\n",
            "704/704 [==============================] - 30s 42ms/step - loss: 0.0439 - digit0_loss: 0.0054 - digit1_loss: 0.0108 - digit2_loss: 0.0123 - digit3_loss: 0.0103 - digit4_loss: 0.0052 - digit0_accuracy: 0.9811 - digit1_accuracy: 0.9595 - digit2_accuracy: 0.9563 - digit3_accuracy: 0.9613 - digit4_accuracy: 0.9808 - val_loss: 0.0283 - val_digit0_loss: 0.0032 - val_digit1_loss: 0.0072 - val_digit2_loss: 0.0078 - val_digit3_loss: 0.0068 - val_digit4_loss: 0.0034 - val_digit0_accuracy: 0.9855 - val_digit1_accuracy: 0.9685 - val_digit2_accuracy: 0.9690 - val_digit3_accuracy: 0.9713 - val_digit4_accuracy: 0.9853\n",
            "Epoch 30/50\n",
            "704/704 [==============================] - 30s 42ms/step - loss: 0.0429 - digit0_loss: 0.0052 - digit1_loss: 0.0105 - digit2_loss: 0.0121 - digit3_loss: 0.0100 - digit4_loss: 0.0051 - digit0_accuracy: 0.9814 - digit1_accuracy: 0.9604 - digit2_accuracy: 0.9567 - digit3_accuracy: 0.9629 - digit4_accuracy: 0.9820 - val_loss: 0.0266 - val_digit0_loss: 0.0030 - val_digit1_loss: 0.0067 - val_digit2_loss: 0.0073 - val_digit3_loss: 0.0064 - val_digit4_loss: 0.0031 - val_digit0_accuracy: 0.9872 - val_digit1_accuracy: 0.9705 - val_digit2_accuracy: 0.9693 - val_digit3_accuracy: 0.9714 - val_digit4_accuracy: 0.9865\n",
            "Epoch 31/50\n",
            "704/704 [==============================] - 30s 42ms/step - loss: 0.0425 - digit0_loss: 0.0052 - digit1_loss: 0.0105 - digit2_loss: 0.0119 - digit3_loss: 0.0099 - digit4_loss: 0.0050 - digit0_accuracy: 0.9813 - digit1_accuracy: 0.9603 - digit2_accuracy: 0.9575 - digit3_accuracy: 0.9626 - digit4_accuracy: 0.9821 - val_loss: 0.0257 - val_digit0_loss: 0.0029 - val_digit1_loss: 0.0066 - val_digit2_loss: 0.0070 - val_digit3_loss: 0.0062 - val_digit4_loss: 0.0030 - val_digit0_accuracy: 0.9875 - val_digit1_accuracy: 0.9712 - val_digit2_accuracy: 0.9716 - val_digit3_accuracy: 0.9736 - val_digit4_accuracy: 0.9871\n",
            "Epoch 32/50\n",
            "704/704 [==============================] - 30s 43ms/step - loss: 0.0413 - digit0_loss: 0.0050 - digit1_loss: 0.0102 - digit2_loss: 0.0115 - digit3_loss: 0.0097 - digit4_loss: 0.0049 - digit0_accuracy: 0.9820 - digit1_accuracy: 0.9616 - digit2_accuracy: 0.9594 - digit3_accuracy: 0.9636 - digit4_accuracy: 0.9827 - val_loss: 0.0254 - val_digit0_loss: 0.0028 - val_digit1_loss: 0.0065 - val_digit2_loss: 0.0070 - val_digit3_loss: 0.0061 - val_digit4_loss: 0.0030 - val_digit0_accuracy: 0.9865 - val_digit1_accuracy: 0.9717 - val_digit2_accuracy: 0.9720 - val_digit3_accuracy: 0.9742 - val_digit4_accuracy: 0.9868\n",
            "Epoch 33/50\n",
            "704/704 [==============================] - 30s 43ms/step - loss: 0.0404 - digit0_loss: 0.0049 - digit1_loss: 0.0100 - digit2_loss: 0.0113 - digit3_loss: 0.0094 - digit4_loss: 0.0048 - digit0_accuracy: 0.9826 - digit1_accuracy: 0.9630 - digit2_accuracy: 0.9602 - digit3_accuracy: 0.9647 - digit4_accuracy: 0.9825 - val_loss: 0.0253 - val_digit0_loss: 0.0027 - val_digit1_loss: 0.0065 - val_digit2_loss: 0.0070 - val_digit3_loss: 0.0060 - val_digit4_loss: 0.0030 - val_digit0_accuracy: 0.9875 - val_digit1_accuracy: 0.9717 - val_digit2_accuracy: 0.9717 - val_digit3_accuracy: 0.9744 - val_digit4_accuracy: 0.9873\n",
            "Epoch 34/50\n",
            "704/704 [==============================] - 30s 43ms/step - loss: 0.0398 - digit0_loss: 0.0048 - digit1_loss: 0.0098 - digit2_loss: 0.0112 - digit3_loss: 0.0093 - digit4_loss: 0.0048 - digit0_accuracy: 0.9824 - digit1_accuracy: 0.9639 - digit2_accuracy: 0.9607 - digit3_accuracy: 0.9656 - digit4_accuracy: 0.9826 - val_loss: 0.0258 - val_digit0_loss: 0.0028 - val_digit1_loss: 0.0066 - val_digit2_loss: 0.0073 - val_digit3_loss: 0.0062 - val_digit4_loss: 0.0029 - val_digit0_accuracy: 0.9874 - val_digit1_accuracy: 0.9711 - val_digit2_accuracy: 0.9709 - val_digit3_accuracy: 0.9739 - val_digit4_accuracy: 0.9870\n",
            "Epoch 35/50\n",
            "704/704 [==============================] - 30s 42ms/step - loss: 0.0387 - digit0_loss: 0.0047 - digit1_loss: 0.0095 - digit2_loss: 0.0108 - digit3_loss: 0.0090 - digit4_loss: 0.0047 - digit0_accuracy: 0.9829 - digit1_accuracy: 0.9646 - digit2_accuracy: 0.9623 - digit3_accuracy: 0.9675 - digit4_accuracy: 0.9829 - val_loss: 0.0270 - val_digit0_loss: 0.0030 - val_digit1_loss: 0.0069 - val_digit2_loss: 0.0073 - val_digit3_loss: 0.0066 - val_digit4_loss: 0.0032 - val_digit0_accuracy: 0.9869 - val_digit1_accuracy: 0.9710 - val_digit2_accuracy: 0.9698 - val_digit3_accuracy: 0.9717 - val_digit4_accuracy: 0.9863\n",
            "Epoch 36/50\n",
            "704/704 [==============================] - 30s 42ms/step - loss: 0.0384 - digit0_loss: 0.0046 - digit1_loss: 0.0095 - digit2_loss: 0.0107 - digit3_loss: 0.0091 - digit4_loss: 0.0046 - digit0_accuracy: 0.9836 - digit1_accuracy: 0.9649 - digit2_accuracy: 0.9625 - digit3_accuracy: 0.9662 - digit4_accuracy: 0.9838 - val_loss: 0.0263 - val_digit0_loss: 0.0028 - val_digit1_loss: 0.0069 - val_digit2_loss: 0.0070 - val_digit3_loss: 0.0064 - val_digit4_loss: 0.0031 - val_digit0_accuracy: 0.9876 - val_digit1_accuracy: 0.9713 - val_digit2_accuracy: 0.9711 - val_digit3_accuracy: 0.9730 - val_digit4_accuracy: 0.9858\n",
            "Epoch 37/50\n",
            "704/704 [==============================] - 30s 42ms/step - loss: 0.0380 - digit0_loss: 0.0046 - digit1_loss: 0.0093 - digit2_loss: 0.0106 - digit3_loss: 0.0088 - digit4_loss: 0.0046 - digit0_accuracy: 0.9834 - digit1_accuracy: 0.9658 - digit2_accuracy: 0.9629 - digit3_accuracy: 0.9677 - digit4_accuracy: 0.9842 - val_loss: 0.0267 - val_digit0_loss: 0.0032 - val_digit1_loss: 0.0065 - val_digit2_loss: 0.0074 - val_digit3_loss: 0.0064 - val_digit4_loss: 0.0032 - val_digit0_accuracy: 0.9861 - val_digit1_accuracy: 0.9721 - val_digit2_accuracy: 0.9698 - val_digit3_accuracy: 0.9732 - val_digit4_accuracy: 0.9866\n",
            "Epoch 38/50\n",
            "704/704 [==============================] - 30s 42ms/step - loss: 0.0371 - digit0_loss: 0.0045 - digit1_loss: 0.0091 - digit2_loss: 0.0104 - digit3_loss: 0.0086 - digit4_loss: 0.0044 - digit0_accuracy: 0.9839 - digit1_accuracy: 0.9661 - digit2_accuracy: 0.9636 - digit3_accuracy: 0.9684 - digit4_accuracy: 0.9845 - val_loss: 0.0257 - val_digit0_loss: 0.0027 - val_digit1_loss: 0.0065 - val_digit2_loss: 0.0071 - val_digit3_loss: 0.0063 - val_digit4_loss: 0.0031 - val_digit0_accuracy: 0.9880 - val_digit1_accuracy: 0.9710 - val_digit2_accuracy: 0.9722 - val_digit3_accuracy: 0.9726 - val_digit4_accuracy: 0.9867\n",
            "Epoch 39/50\n",
            "704/704 [==============================] - 30s 43ms/step - loss: 0.0364 - digit0_loss: 0.0044 - digit1_loss: 0.0089 - digit2_loss: 0.0102 - digit3_loss: 0.0085 - digit4_loss: 0.0044 - digit0_accuracy: 0.9843 - digit1_accuracy: 0.9672 - digit2_accuracy: 0.9652 - digit3_accuracy: 0.9689 - digit4_accuracy: 0.9847 - val_loss: 0.0240 - val_digit0_loss: 0.0028 - val_digit1_loss: 0.0063 - val_digit2_loss: 0.0064 - val_digit3_loss: 0.0056 - val_digit4_loss: 0.0029 - val_digit0_accuracy: 0.9877 - val_digit1_accuracy: 0.9726 - val_digit2_accuracy: 0.9748 - val_digit3_accuracy: 0.9754 - val_digit4_accuracy: 0.9872\n",
            "Epoch 40/50\n",
            "704/704 [==============================] - 30s 42ms/step - loss: 0.0361 - digit0_loss: 0.0044 - digit1_loss: 0.0089 - digit2_loss: 0.0100 - digit3_loss: 0.0084 - digit4_loss: 0.0044 - digit0_accuracy: 0.9846 - digit1_accuracy: 0.9675 - digit2_accuracy: 0.9650 - digit3_accuracy: 0.9694 - digit4_accuracy: 0.9846 - val_loss: 0.0227 - val_digit0_loss: 0.0025 - val_digit1_loss: 0.0058 - val_digit2_loss: 0.0062 - val_digit3_loss: 0.0055 - val_digit4_loss: 0.0028 - val_digit0_accuracy: 0.9889 - val_digit1_accuracy: 0.9750 - val_digit2_accuracy: 0.9747 - val_digit3_accuracy: 0.9770 - val_digit4_accuracy: 0.9888\n",
            "Epoch 41/50\n",
            "704/704 [==============================] - 30s 43ms/step - loss: 0.0357 - digit0_loss: 0.0043 - digit1_loss: 0.0088 - digit2_loss: 0.0100 - digit3_loss: 0.0083 - digit4_loss: 0.0043 - digit0_accuracy: 0.9847 - digit1_accuracy: 0.9677 - digit2_accuracy: 0.9657 - digit3_accuracy: 0.9698 - digit4_accuracy: 0.9848 - val_loss: 0.0238 - val_digit0_loss: 0.0029 - val_digit1_loss: 0.0061 - val_digit2_loss: 0.0063 - val_digit3_loss: 0.0057 - val_digit4_loss: 0.0028 - val_digit0_accuracy: 0.9883 - val_digit1_accuracy: 0.9736 - val_digit2_accuracy: 0.9740 - val_digit3_accuracy: 0.9758 - val_digit4_accuracy: 0.9877\n",
            "Epoch 42/50\n",
            "704/704 [==============================] - 30s 42ms/step - loss: 0.0352 - digit0_loss: 0.0044 - digit1_loss: 0.0086 - digit2_loss: 0.0098 - digit3_loss: 0.0081 - digit4_loss: 0.0042 - digit0_accuracy: 0.9843 - digit1_accuracy: 0.9682 - digit2_accuracy: 0.9668 - digit3_accuracy: 0.9705 - digit4_accuracy: 0.9854 - val_loss: 0.0244 - val_digit0_loss: 0.0027 - val_digit1_loss: 0.0063 - val_digit2_loss: 0.0064 - val_digit3_loss: 0.0058 - val_digit4_loss: 0.0032 - val_digit0_accuracy: 0.9890 - val_digit1_accuracy: 0.9722 - val_digit2_accuracy: 0.9742 - val_digit3_accuracy: 0.9755 - val_digit4_accuracy: 0.9869\n",
            "Epoch 43/50\n",
            "704/704 [==============================] - 30s 43ms/step - loss: 0.0345 - digit0_loss: 0.0041 - digit1_loss: 0.0084 - digit2_loss: 0.0096 - digit3_loss: 0.0080 - digit4_loss: 0.0043 - digit0_accuracy: 0.9856 - digit1_accuracy: 0.9692 - digit2_accuracy: 0.9680 - digit3_accuracy: 0.9709 - digit4_accuracy: 0.9849 - val_loss: 0.0244 - val_digit0_loss: 0.0028 - val_digit1_loss: 0.0062 - val_digit2_loss: 0.0064 - val_digit3_loss: 0.0059 - val_digit4_loss: 0.0031 - val_digit0_accuracy: 0.9885 - val_digit1_accuracy: 0.9736 - val_digit2_accuracy: 0.9743 - val_digit3_accuracy: 0.9748 - val_digit4_accuracy: 0.9863\n",
            "Epoch 44/50\n",
            "704/704 [==============================] - 30s 43ms/step - loss: 0.0341 - digit0_loss: 0.0041 - digit1_loss: 0.0083 - digit2_loss: 0.0095 - digit3_loss: 0.0080 - digit4_loss: 0.0042 - digit0_accuracy: 0.9858 - digit1_accuracy: 0.9700 - digit2_accuracy: 0.9675 - digit3_accuracy: 0.9712 - digit4_accuracy: 0.9854 - val_loss: 0.0232 - val_digit0_loss: 0.0027 - val_digit1_loss: 0.0061 - val_digit2_loss: 0.0061 - val_digit3_loss: 0.0055 - val_digit4_loss: 0.0027 - val_digit0_accuracy: 0.9884 - val_digit1_accuracy: 0.9744 - val_digit2_accuracy: 0.9757 - val_digit3_accuracy: 0.9760 - val_digit4_accuracy: 0.9886\n",
            "Epoch 45/50\n",
            "704/704 [==============================] - 30s 43ms/step - loss: 0.0339 - digit0_loss: 0.0042 - digit1_loss: 0.0083 - digit2_loss: 0.0093 - digit3_loss: 0.0079 - digit4_loss: 0.0042 - digit0_accuracy: 0.9852 - digit1_accuracy: 0.9695 - digit2_accuracy: 0.9688 - digit3_accuracy: 0.9715 - digit4_accuracy: 0.9854 - val_loss: 0.0226 - val_digit0_loss: 0.0025 - val_digit1_loss: 0.0058 - val_digit2_loss: 0.0062 - val_digit3_loss: 0.0054 - val_digit4_loss: 0.0027 - val_digit0_accuracy: 0.9897 - val_digit1_accuracy: 0.9753 - val_digit2_accuracy: 0.9758 - val_digit3_accuracy: 0.9770 - val_digit4_accuracy: 0.9885\n",
            "Epoch 46/50\n",
            "704/704 [==============================] - 30s 43ms/step - loss: 0.0335 - digit0_loss: 0.0041 - digit1_loss: 0.0083 - digit2_loss: 0.0093 - digit3_loss: 0.0077 - digit4_loss: 0.0041 - digit0_accuracy: 0.9856 - digit1_accuracy: 0.9702 - digit2_accuracy: 0.9690 - digit3_accuracy: 0.9725 - digit4_accuracy: 0.9856 - val_loss: 0.0229 - val_digit0_loss: 0.0027 - val_digit1_loss: 0.0059 - val_digit2_loss: 0.0061 - val_digit3_loss: 0.0054 - val_digit4_loss: 0.0027 - val_digit0_accuracy: 0.9889 - val_digit1_accuracy: 0.9757 - val_digit2_accuracy: 0.9746 - val_digit3_accuracy: 0.9782 - val_digit4_accuracy: 0.9888\n",
            "Epoch 47/50\n",
            "704/704 [==============================] - 30s 42ms/step - loss: 0.0327 - digit0_loss: 0.0040 - digit1_loss: 0.0081 - digit2_loss: 0.0091 - digit3_loss: 0.0076 - digit4_loss: 0.0040 - digit0_accuracy: 0.9858 - digit1_accuracy: 0.9711 - digit2_accuracy: 0.9693 - digit3_accuracy: 0.9728 - digit4_accuracy: 0.9861 - val_loss: 0.0229 - val_digit0_loss: 0.0026 - val_digit1_loss: 0.0060 - val_digit2_loss: 0.0060 - val_digit3_loss: 0.0054 - val_digit4_loss: 0.0028 - val_digit0_accuracy: 0.9893 - val_digit1_accuracy: 0.9753 - val_digit2_accuracy: 0.9753 - val_digit3_accuracy: 0.9775 - val_digit4_accuracy: 0.9880\n",
            "Epoch 48/50\n",
            "704/704 [==============================] - 30s 43ms/step - loss: 0.0329 - digit0_loss: 0.0040 - digit1_loss: 0.0080 - digit2_loss: 0.0091 - digit3_loss: 0.0076 - digit4_loss: 0.0041 - digit0_accuracy: 0.9857 - digit1_accuracy: 0.9715 - digit2_accuracy: 0.9690 - digit3_accuracy: 0.9733 - digit4_accuracy: 0.9862 - val_loss: 0.0225 - val_digit0_loss: 0.0025 - val_digit1_loss: 0.0058 - val_digit2_loss: 0.0060 - val_digit3_loss: 0.0053 - val_digit4_loss: 0.0029 - val_digit0_accuracy: 0.9889 - val_digit1_accuracy: 0.9754 - val_digit2_accuracy: 0.9758 - val_digit3_accuracy: 0.9771 - val_digit4_accuracy: 0.9880\n",
            "Epoch 49/50\n",
            "704/704 [==============================] - 30s 43ms/step - loss: 0.0323 - digit0_loss: 0.0039 - digit1_loss: 0.0079 - digit2_loss: 0.0089 - digit3_loss: 0.0075 - digit4_loss: 0.0040 - digit0_accuracy: 0.9864 - digit1_accuracy: 0.9715 - digit2_accuracy: 0.9700 - digit3_accuracy: 0.9732 - digit4_accuracy: 0.9860 - val_loss: 0.0214 - val_digit0_loss: 0.0022 - val_digit1_loss: 0.0056 - val_digit2_loss: 0.0057 - val_digit3_loss: 0.0052 - val_digit4_loss: 0.0027 - val_digit0_accuracy: 0.9904 - val_digit1_accuracy: 0.9776 - val_digit2_accuracy: 0.9773 - val_digit3_accuracy: 0.9780 - val_digit4_accuracy: 0.9888\n",
            "Epoch 50/50\n",
            "704/704 [==============================] - 30s 43ms/step - loss: 0.0317 - digit0_loss: 0.0039 - digit1_loss: 0.0077 - digit2_loss: 0.0088 - digit3_loss: 0.0074 - digit4_loss: 0.0039 - digit0_accuracy: 0.9866 - digit1_accuracy: 0.9719 - digit2_accuracy: 0.9707 - digit3_accuracy: 0.9739 - digit4_accuracy: 0.9867 - val_loss: 0.0221 - val_digit0_loss: 0.0025 - val_digit1_loss: 0.0058 - val_digit2_loss: 0.0060 - val_digit3_loss: 0.0052 - val_digit4_loss: 0.0027 - val_digit0_accuracy: 0.9889 - val_digit1_accuracy: 0.9760 - val_digit2_accuracy: 0.9751 - val_digit3_accuracy: 0.9785 - val_digit4_accuracy: 0.9888\n"
          ]
        }
      ],
      "source": [
        "history = model.fit(x_train, s_train,\n",
        "                    batch_size=BATCH_SIZE,\n",
        "                    epochs=EPOCHS,\n",
        "                    verbose=1,\n",
        "                    validation_data=(x_test, s_test)\n",
        "                   )"
      ]
    },
    {
      "cell_type": "code",
      "execution_count": 28,
      "metadata": {
        "id": "PK5FjnNp63eL"
      },
      "outputs": [],
      "source": [
        "digit_acc = [[] for _ in range(NUM_OF_LETTERS)]\n",
        "val_digit_acc = [[] for _ in range(NUM_OF_LETTERS)]\n",
        "loss = []\n",
        "val_loss = []\n",
        "\n",
        "\n",
        "def plot_diagram(digit_acc_now, val_digit_acc_now, loss_now, val_loss_now):\n",
        "    global digit_acc, val_digit_acc, loss, val_loss\n",
        "    \n",
        "    \n",
        "    for i in range(NUM_OF_LETTERS):\n",
        "        digit_acc[i].extend(digit_acc_now[i])\n",
        "        val_digit_acc[i].extend(val_digit_acc_now[i])\n",
        "    loss.extend(loss_now)\n",
        "    val_loss.extend(val_loss_now)\n",
        "    \n",
        "    for i in range(NUM_OF_LETTERS):\n",
        "        s = {0:'First', 1:'Second', 2:'Third', 3:'Fourth', 4:'Fifth'}[i]\n",
        "        # plt.plot(val_digit_acc[i], label='%s Digit Train' % s)\n",
        "        plt.plot(digit_acc[i], label='%s Digit Test' % s)\n",
        "\n",
        "    plt.title('Model accuracy')\n",
        "    plt.ylabel('Accuracy')\n",
        "    plt.xlabel('Epoch')\n",
        "    plt.legend()\n",
        "    plt.show()\n",
        "\n",
        "    for i in range(NUM_OF_LETTERS):\n",
        "        s = {0:'First', 1:'Second', 2:'Third', 3:'Fourth', 4:'Fifth'}[i]\n",
        "        plt.plot(val_digit_acc[i], label='%s Digit Train' % s)\n",
        "        # plt.plot(digit_acc[i], label='%s Digit Test' % s)\n",
        "\n",
        "    plt.title('Model accuracy')\n",
        "    plt.ylabel('Accuracy')\n",
        "    plt.xlabel('Epoch')\n",
        "    plt.legend()\n",
        "    plt.show()\n",
        "\n",
        "\n",
        "\n",
        "    # Plot training & validation loss values\n",
        "    \n",
        "    plt.plot(val_loss, label='Train')\n",
        "    plt.plot(loss, label='Test')\n",
        "    plt.title('Model loss')\n",
        "    plt.ylabel('Loss')\n",
        "    plt.xlabel('Epoch')\n",
        "    plt.legend()\n",
        "    plt.show()"
      ]
    },
    {
      "cell_type": "code",
      "execution_count": 29,
      "metadata": {
        "id": "gmz3c1Ve8xG1",
        "colab": {
          "base_uri": "https://localhost:8080/",
          "height": 851
        },
        "outputId": "ab23775b-141f-4d95-b830-ab9f5646c27a"
      },
      "outputs": [
        {
          "output_type": "display_data",
          "data": {
            "text/plain": [
              "<Figure size 432x288 with 1 Axes>"
            ],
            "image/png": "[encoded data removed]"
          },
          "metadata": {
            "needs_background": "light"
          }
        },
        {
          "output_type": "display_data",
          "data": {
            "text/plain": [
              "<Figure size 432x288 with 1 Axes>"
            ],
            "image/png": "[encoded data removed]"
          },
          "metadata": {
            "needs_background": "light"
          }
        },
        {
          "output_type": "display_data",
          "data": {
            "text/plain": [
              "<Figure size 432x288 with 1 Axes>"
            ],
            "image/png": "[encoded data removed]"
          },
          "metadata": {
            "needs_background": "light"
          }
        }
      ],
      "source": [
        "plot_diagram(\n",
        "    \n",
        "    [history.history['digit%d_accuracy' % i] for i in range(NUM_OF_LETTERS)],\n",
        "    [history.history['val_digit%d_accuracy' % i] for i in range(NUM_OF_LETTERS)],\n",
        "    history.history['loss'],\n",
        "    history.history['val_loss'],\n",
        ")"
      ]
    },
    {
      "cell_type": "code",
      "execution_count": 30,
      "metadata": {
        "id": "MQIbUVBY6-SG",
        "colab": {
          "base_uri": "https://localhost:8080/",
          "height": 0
        },
        "outputId": "39958ab9-ade4-4e66-9e52-2ba637ef2eb3"
      },
      "outputs": [
        {
          "output_type": "stream",
          "name": "stdout",
          "text": [
            "Saved trained model at /content/saved_models/keras_cifar10_trained_model.h5 \n"
          ]
        }
      ],
      "source": [
        "# Save model and weights\n",
        "if not os.path.isdir(save_dir):\n",
        "    os.makedirs(save_dir)\n",
        "model_path = os.path.join(save_dir, model_name)\n",
        "model.save(model_path)\n",
        "print('Saved trained model at %s ' % model_path)"
      ]
    },
    {
      "cell_type": "code",
      "execution_count": 31,
      "metadata": {
        "id": "x8cshRKD7Bak",
        "colab": {
          "base_uri": "https://localhost:8080/",
          "height": 0
        },
        "outputId": "56056a00-f904-470d-fe63-4451fe1a779e"
      },
      "outputs": [
        {
          "output_type": "stream",
          "name": "stdout",
          "text": [
            "5627/5627 [==============================] - 35s 6ms/step - loss: 0.0070 - digit0_loss: 7.2610e-04 - digit1_loss: 0.0018 - digit2_loss: 0.0020 - digit3_loss: 0.0017 - digit4_loss: 7.5364e-04 - digit0_accuracy: 0.9973 - digit1_accuracy: 0.9944 - digit2_accuracy: 0.9943 - digit3_accuracy: 0.9945 - digit4_accuracy: 0.9973\n",
            "Train loss:     0.002653\n",
            "Train accuracy: 97.80\n"
          ]
        }
      ],
      "source": [
        "# Score trained model.\n",
        "scores = model.evaluate(x_train, s_train, verbose=1)\n",
        "print('Train loss:     %f' % np.mean(scores[0:5]))\n",
        "acc = 1.\n",
        "for i in range(5):\n",
        "    acc *= scores[6+i]\n",
        "print('Train accuracy: %.2f' % (acc * 100.))"
      ]
    },
    {
      "cell_type": "code",
      "execution_count": 32,
      "metadata": {
        "id": "yfQ_5Ago7EWh",
        "colab": {
          "base_uri": "https://localhost:8080/",
          "height": 0
        },
        "outputId": "0b64c485-40b8-4ebf-8ffc-3d3449184306"
      },
      "outputs": [
        {
          "output_type": "stream",
          "name": "stdout",
          "text": [
            "624/624 [==============================] - 4s 6ms/step - loss: 0.0221 - digit0_loss: 0.0025 - digit1_loss: 0.0058 - digit2_loss: 0.0060 - digit3_loss: 0.0052 - digit4_loss: 0.0027 - digit0_accuracy: 0.9889 - digit1_accuracy: 0.9760 - digit2_accuracy: 0.9751 - digit3_accuracy: 0.9785 - digit4_accuracy: 0.9888\n",
            "Test loss:     0.008321\n",
            "Test accuracy: 91.06\n"
          ]
        }
      ],
      "source": [
        "scores = model.evaluate(x_test, s_test, verbose=1)\n",
        "print('Test loss:     %f' % np.mean(scores[0:5]))\n",
        "acc = 1.\n",
        "for i in range(5):\n",
        "    acc *= scores[6+i]\n",
        "print('Test accuracy: %.2f' % (acc * 100.))"
      ]
    }
  ],
  "metadata": {
    "colab": {
      "collapsed_sections": [],
      "name": "Captcha_Solver_Alphanumerical.ipynb",
      "provenance": []
    },
    "gpuClass": "standard",
    "kernelspec": {
      "display_name": "Python 3",
      "name": "python3"
    },
    "accelerator": "GPU"
  },
  "nbformat": 4,
  "nbformat_minor": 0
}