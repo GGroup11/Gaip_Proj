{
 "cells": [
  {
   "cell_type": "code",
   "execution_count": 1,
   "id": "313e410d",
   "metadata": {},
   "outputs": [
    {
     "name": "stdout",
     "output_type": "stream",
     "text": [
      "Requirement already satisfied: captcha in c:\\users\\aishwaryakopika\\anaconda3\\lib\\site-packages (0.4)\n",
      "Requirement already satisfied: Pillow in c:\\users\\aishwaryakopika\\anaconda3\\lib\\site-packages (from captcha) (9.0.1)\n",
      "Note: you may need to restart the kernel to use updated packages.\n",
      "Requirement already satisfied: opencv-python in c:\\users\\aishwaryakopika\\anaconda3\\lib\\site-packages (4.6.0.66)\n",
      "Requirement already satisfied: numpy>=1.14.5 in c:\\users\\aishwaryakopika\\anaconda3\\lib\\site-packages (from opencv-python) (1.21.5)\n",
      "Note: you may need to restart the kernel to use updated packages.\n"
     ]
    },
    {
     "name": "stderr",
     "output_type": "stream",
     "text": [
      "'apt' is not recognized as an internal or external command,\n",
      "operable program or batch file.\n"
     ]
    },
    {
     "name": "stdout",
     "output_type": "stream",
     "text": [
      "Requirement already satisfied: opencv-python-headless in c:\\users\\aishwaryakopika\\anaconda3\\lib\\site-packages (3.4.18.65)\n",
      "Requirement already satisfied: numpy>=1.14.5 in c:\\users\\aishwaryakopika\\anaconda3\\lib\\site-packages (from opencv-python-headless) (1.21.5)\n",
      "Requirement already satisfied: opencv-contrib-python-headless in c:\\users\\aishwaryakopika\\anaconda3\\lib\\site-packages (4.6.0.66)\n",
      "Requirement already satisfied: numpy>=1.17.3 in c:\\users\\aishwaryakopika\\anaconda3\\lib\\site-packages (from opencv-contrib-python-headless) (1.21.5)\n",
      "Requirement already satisfied: keras in c:\\users\\aishwaryakopika\\anaconda3\\lib\\site-packages (2.9.0)\n",
      "Note: you may need to restart the kernel to use updated packages.\n"
     ]
    }
   ],
   "source": [
    "%pip install captcha \n",
    "%pip install opencv-python\n",
    "!apt update && apt install -y libsm6 libxext6\n",
    "!pip install opencv-python-headless\n",
    "!pip install opencv-contrib-python-headless\n",
    "%pip install keras\n",
    "\n",
    "\n",
    "import argparse\n",
    "import json\n",
    "import string\n",
    "import os\n",
    "import shutil\n",
    "import uuid\n",
    "from captcha.image import ImageCaptcha\n",
    "\n",
    "import itertools\n",
    "\n",
    "import os\n",
    "import cv2\n",
    "import numpy as np\n",
    "from random import random, randint, choices\n",
    "\n",
    "import keras\n",
    "from keras.models import Sequential, Model\n",
    "from keras.layers import Dense, Dropout, Activation, Flatten\n",
    "from keras.layers import Conv2D, MaxPooling2D, Input\n",
    "import matplotlib.pyplot as plt"
   ]
  },
  {
   "cell_type": "code",
   "execution_count": 2,
   "id": "13febaff",
   "metadata": {},
   "outputs": [],
   "source": [
    "alphabet_all = list('qwertyupasdfghjkzxcvbnm23456789QWERTYUPKJHGFDSAZXCVBNM')\n",
    "alphabet = list('qwertyupasdfghjkzxcvbnm23456789')#QWERTYUIOPLKJHGFDSAZXCVBNM')\n",
    "num_alphabet = len(alphabet)\n",
    "def _gen_captcha(img_dir, num_of_letters, num_of_repetition, width, height):\n",
    "    if os.path.exists(img_dir):\n",
    "        shutil.rmtree(img_dir)\n",
    "    if not os.path.exists(img_dir):\n",
    "        os.makedirs(img_dir)\n",
    "\n",
    "    image = ImageCaptcha(width=width, height=height)\n",
    "\n",
    "    for counter in range(num_of_repetition):\n",
    "        i = choices(alphabet_all, k=5)\n",
    "        captcha = ''.join(i)\n",
    "        fn = os.path.join(img_dir, '%s_%s.png' % (captcha, uuid.uuid4()))\n",
    "        image.write(captcha, fn)\n",
    "\n",
    "\n",
    "def gen_dataset(path, num_of_repetition, num_of_letters, width, height):\n",
    "    _gen_captcha(os.path.join(path, 'data'), num_of_letters, num_of_repetition, width, height)\n",
    "    print('Finished Data Generation')"
   ]
  },
  {
   "cell_type": "code",
   "execution_count": 3,
   "id": "8fca27b1",
   "metadata": {},
   "outputs": [],
   "source": [
    "BATCH_SIZE =50\n",
    "NUM_OF_LETTERS = 5\n",
    "EPOCHS = 40\n",
    "IMG_ROW, IMG_COLS = 50, 135\n",
    "\n",
    "# Non-configs\n",
    "PATH = \"C:\\\\Users\\\\Aishwaryakopika\\\\Desktop\\\\GAIP_1L\"\n",
    "DATA_PATH = os.path.join(PATH, 'train')"
   ]
  },
  {
   "cell_type": "code",
   "execution_count": 4,
   "id": "c71f6ebc",
   "metadata": {},
   "outputs": [],
   "source": [
    "def load_data(path, test_split=0.3):\n",
    "    print ('loading dataset...')\n",
    "    y_train = []\n",
    "    y_test = []\n",
    "    x_train = []\n",
    "    x_test = []\n",
    "\n",
    "    # r=root, d=directories, f = files\n",
    "    counter = 0\n",
    "    for r, d, f in os.walk(path):\n",
    "        for fl in f:\n",
    "            if '.png' in fl:\n",
    "                flr = fl.split('_')[0]\n",
    "                counter += 1\n",
    "                label = np.zeros((NUM_OF_LETTERS, num_alphabet))\n",
    "                for i in range(NUM_OF_LETTERS):\n",
    "                    label[i, alphabet.index(flr[i].lower())] = 1\n",
    "#                 label = np.zeros((50, 1))\n",
    "#                 for i in range(5):\n",
    "#                     label[i*5+int(flr[i])] = 1\n",
    "\n",
    "                img = cv2.imread(os.path.join(r, fl))\n",
    "                img = cv2.cvtColor(img, cv2.COLOR_BGR2GRAY)\n",
    "                img = cv2.resize(img, (int(135/2), int(50/2)), interpolation=cv2.INTER_AREA)\n",
    "                img = np.reshape(img, (img.shape[0], img.shape[1], 1))\n",
    "\n",
    "                if random() < test_split:\n",
    "                    y_test.append(label)\n",
    "                    x_test.append(img)\n",
    "                else:\n",
    "                    y_train.append(label)\n",
    "                    x_train.append(img)\n",
    "\n",
    "    print('dataset size:', counter, '(train=%d, test=%d)' % (len(y_train), len(y_test)))\n",
    "    return np.array(x_train), np.array(y_train), np.array(x_test), np.array(y_test)"
   ]
  },
  {
   "cell_type": "code",
   "execution_count": 5,
   "id": "b2acbf5b",
   "metadata": {},
   "outputs": [
    {
     "name": "stdout",
     "output_type": "stream",
     "text": [
      "Generating Dataset\n",
      "Finished Data Generation\n"
     ]
    }
   ],
   "source": [
    "if not os.path.exists(DATA_PATH):\n",
    "    print('Generating Dataset')\n",
    "    gen_dataset(DATA_PATH,100000, NUM_OF_LETTERS, IMG_COLS, IMG_ROW)"
   ]
  },
  {
   "cell_type": "code",
   "execution_count": 6,
   "id": "468640cd",
   "metadata": {},
   "outputs": [
    {
     "name": "stdout",
     "output_type": "stream",
     "text": [
      "loading dataset...\n",
      "dataset size: 100000 (train=69890, test=30110)\n"
     ]
    }
   ],
   "source": [
    "x_train, y_train, x_test, y_test = load_data(DATA_PATH)\n",
    "\n",
    "x_train = x_train.astype('float32')\n",
    "x_test = x_test.astype('float32')\n",
    "x_train /= 255\n",
    "x_test /= 255"
   ]
  },
  {
   "cell_type": "code",
   "execution_count": 7,
   "id": "16e6a188",
   "metadata": {},
   "outputs": [
    {
     "name": "stdout",
     "output_type": "stream",
     "text": [
      "(69890, 25, 67, 1)\n",
      "(69890, 5, 31)\n",
      "(30110, 25, 67, 1)\n",
      "(30110, 5, 31)\n"
     ]
    }
   ],
   "source": [
    "print(x_train.shape)\n",
    "print(y_train.shape)\n",
    "print(x_test.shape)\n",
    "print(y_test.shape)\n"
   ]
  },
  {
   "cell_type": "code",
   "execution_count": 8,
   "id": "f230661d",
   "metadata": {},
   "outputs": [],
   "source": [
    "s_train = []\n",
    "s_test = []\n",
    "for i in range(NUM_OF_LETTERS):\n",
    "    s_train.append(y_train[:, i, :])\n",
    "    s_test.append(y_test[:, i, :])"
   ]
  },
  {
   "cell_type": "code",
   "execution_count": 9,
   "id": "5d178d20",
   "metadata": {},
   "outputs": [],
   "source": [
    "save_dir = os.path.join(PATH, 'saved_models')\n",
    "model_name = 'keras_cifar10_trained_model.h5'"
   ]
  },
  {
   "cell_type": "code",
   "execution_count": 10,
   "id": "4b38c22f",
   "metadata": {},
   "outputs": [],
   "source": [
    "input_layer = Input((25, 67, 1))\n",
    "x = Conv2D(filters=32, kernel_size=(5, 5), padding='same', activation='relu')(input_layer)\n",
    "x = MaxPooling2D(pool_size=(2, 2))(x)\n",
    "\n",
    "x = Conv2D(filters=48, kernel_size=(5, 5), padding='same', activation='relu')(x)\n",
    "x = MaxPooling2D(pool_size=(2, 2))(x)\n",
    "\n",
    "x = Conv2D(filters=64, kernel_size=(5, 5), padding='same', activation='relu')(x)\n",
    "x = MaxPooling2D(pool_size=(2, 2))(x)\n",
    "\n",
    "x = Dropout(0.3)(x)\n",
    "x = Flatten()(x)\n",
    "x = Dense(512, activation='relu')(x)\n",
    "x = Dropout(0.3)(x)\n",
    "\n",
    "out = [Dense(num_alphabet, name='digit%d' % i, activation='softmax')(x) for i in range(NUM_OF_LETTERS)]\n",
    "# out = Dense(num_alphabet*5, activation='sigmoid')(x)\n",
    "\n",
    "model = Model(inputs=input_layer, outputs=out)"
   ]
  },
  {
   "cell_type": "code",
   "execution_count": 11,
   "id": "52165e36",
   "metadata": {},
   "outputs": [
    {
     "name": "stdout",
     "output_type": "stream",
     "text": [
      "Model: \"model\"\n",
      "__________________________________________________________________________________________________\n",
      " Layer (type)                   Output Shape         Param #     Connected to                     \n",
      "==================================================================================================\n",
      " input_1 (InputLayer)           [(None, 25, 67, 1)]  0           []                               \n",
      "                                                                                                  \n",
      " conv2d (Conv2D)                (None, 25, 67, 32)   832         ['input_1[0][0]']                \n",
      "                                                                                                  \n",
      " max_pooling2d (MaxPooling2D)   (None, 12, 33, 32)   0           ['conv2d[0][0]']                 \n",
      "                                                                                                  \n",
      " conv2d_1 (Conv2D)              (None, 12, 33, 48)   38448       ['max_pooling2d[0][0]']          \n",
      "                                                                                                  \n",
      " max_pooling2d_1 (MaxPooling2D)  (None, 6, 16, 48)   0           ['conv2d_1[0][0]']               \n",
      "                                                                                                  \n",
      " conv2d_2 (Conv2D)              (None, 6, 16, 64)    76864       ['max_pooling2d_1[0][0]']        \n",
      "                                                                                                  \n",
      " max_pooling2d_2 (MaxPooling2D)  (None, 3, 8, 64)    0           ['conv2d_2[0][0]']               \n",
      "                                                                                                  \n",
      " dropout (Dropout)              (None, 3, 8, 64)     0           ['max_pooling2d_2[0][0]']        \n",
      "                                                                                                  \n",
      " flatten (Flatten)              (None, 1536)         0           ['dropout[0][0]']                \n",
      "                                                                                                  \n",
      " dense (Dense)                  (None, 512)          786944      ['flatten[0][0]']                \n",
      "                                                                                                  \n",
      " dropout_1 (Dropout)            (None, 512)          0           ['dense[0][0]']                  \n",
      "                                                                                                  \n",
      " digit0 (Dense)                 (None, 31)           15903       ['dropout_1[0][0]']              \n",
      "                                                                                                  \n",
      " digit1 (Dense)                 (None, 31)           15903       ['dropout_1[0][0]']              \n",
      "                                                                                                  \n",
      " digit2 (Dense)                 (None, 31)           15903       ['dropout_1[0][0]']              \n",
      "                                                                                                  \n",
      " digit3 (Dense)                 (None, 31)           15903       ['dropout_1[0][0]']              \n",
      "                                                                                                  \n",
      " digit4 (Dense)                 (None, 31)           15903       ['dropout_1[0][0]']              \n",
      "                                                                                                  \n",
      "==================================================================================================\n",
      "Total params: 982,603\n",
      "Trainable params: 982,603\n",
      "Non-trainable params: 0\n",
      "__________________________________________________________________________________________________\n"
     ]
    }
   ],
   "source": [
    "# initiate Adam optimizer\n",
    "\n",
    "model.compile(loss='binary_crossentropy',\n",
    "              optimizer='adam',\n",
    "              metrics=['accuracy'])\n",
    "\n",
    "\n",
    "model.summary()"
   ]
  },
  {
   "cell_type": "code",
   "execution_count": 12,
   "id": "7231fb71",
   "metadata": {},
   "outputs": [],
   "source": [
    "hist_train_loss_digit = {i:[] for i in range(5)}\n",
    "hist_test_loss_digit = {i:[] for i in range(5)}\n",
    "\n",
    "hist_train_acc_digit = {i:[] for i in range(5)}\n",
    "hist_test_acc_digit = {i:[] for i in range(5)}\n",
    "\n",
    "hist_train_loss = []\n",
    "hist_test_loss = []\n",
    "\n",
    "hist_train_acc = []\n",
    "hist_test_acc = []"
   ]
  },
  {
   "cell_type": "code",
   "execution_count": 13,
   "id": "bfbd8155",
   "metadata": {},
   "outputs": [],
   "source": [
    "digit_acc = [[] for _ in range(NUM_OF_LETTERS)]\n",
    "val_digit_acc = [[] for _ in range(NUM_OF_LETTERS)]\n",
    "loss = []\n",
    "val_loss = []\n"
   ]
  },
  {
   "cell_type": "code",
   "execution_count": 14,
   "id": "4074613c",
   "metadata": {},
   "outputs": [
    {
     "name": "stdout",
     "output_type": "stream",
     "text": [
      "Epoch 1/40\n",
      "1398/1398 [==============================] - 139s 97ms/step - loss: 0.7277 - digit0_loss: 0.1450 - digit1_loss: 0.1456 - digit2_loss: 0.1457 - digit3_loss: 0.1456 - digit4_loss: 0.1457 - digit0_accuracy: 0.0404 - digit1_accuracy: 0.0383 - digit2_accuracy: 0.0386 - digit3_accuracy: 0.0371 - digit4_accuracy: 0.0372 - val_loss: 0.7001 - val_digit0_loss: 0.1372 - val_digit1_loss: 0.1409 - val_digit2_loss: 0.1407 - val_digit3_loss: 0.1408 - val_digit4_loss: 0.1406 - val_digit0_accuracy: 0.0671 - val_digit1_accuracy: 0.0617 - val_digit2_accuracy: 0.0591 - val_digit3_accuracy: 0.0538 - val_digit4_accuracy: 0.0631\n",
      "Epoch 2/40\n",
      "1398/1398 [==============================] - 130s 93ms/step - loss: 0.5880 - digit0_loss: 0.1060 - digit1_loss: 0.1243 - digit2_loss: 0.1257 - digit3_loss: 0.1229 - digit4_loss: 0.1091 - digit0_accuracy: 0.3243 - digit1_accuracy: 0.1883 - digit2_accuracy: 0.1819 - digit3_accuracy: 0.1990 - digit4_accuracy: 0.3052 - val_loss: 0.4305 - val_digit0_loss: 0.0677 - val_digit1_loss: 0.0969 - val_digit2_loss: 0.1020 - val_digit3_loss: 0.0955 - val_digit4_loss: 0.0685 - val_digit0_accuracy: 0.6680 - val_digit1_accuracy: 0.4402 - val_digit2_accuracy: 0.3865 - val_digit3_accuracy: 0.4429 - val_digit4_accuracy: 0.6635\n",
      "Epoch 3/40\n",
      "1398/1398 [==============================] - 135s 97ms/step - loss: 0.4234 - digit0_loss: 0.0661 - digit1_loss: 0.0960 - digit2_loss: 0.1014 - digit3_loss: 0.0940 - digit4_loss: 0.0661 - digit0_accuracy: 0.6459 - digit1_accuracy: 0.4272 - digit2_accuracy: 0.3882 - digit3_accuracy: 0.4453 - digit4_accuracy: 0.6508 - val_loss: 0.3198 - val_digit0_loss: 0.0423 - val_digit1_loss: 0.0759 - val_digit2_loss: 0.0839 - val_digit3_loss: 0.0740 - val_digit4_loss: 0.0436 - val_digit0_accuracy: 0.8053 - val_digit1_accuracy: 0.6046 - val_digit2_accuracy: 0.5413 - val_digit3_accuracy: 0.6262 - val_digit4_accuracy: 0.8144\n",
      "Epoch 4/40\n",
      "1398/1398 [==============================] - 137s 98ms/step - loss: 0.3464 - digit0_loss: 0.0496 - digit1_loss: 0.0803 - digit2_loss: 0.0885 - digit3_loss: 0.0794 - digit4_loss: 0.0486 - digit0_accuracy: 0.7575 - digit1_accuracy: 0.5488 - digit2_accuracy: 0.4907 - digit3_accuracy: 0.5617 - digit4_accuracy: 0.7672 - val_loss: 0.2509 - val_digit0_loss: 0.0296 - val_digit1_loss: 0.0607 - val_digit2_loss: 0.0708 - val_digit3_loss: 0.0601 - val_digit4_loss: 0.0297 - val_digit0_accuracy: 0.8832 - val_digit1_accuracy: 0.7100 - val_digit2_accuracy: 0.6372 - val_digit3_accuracy: 0.7147 - val_digit4_accuracy: 0.8753\n",
      "Epoch 5/40\n",
      "1398/1398 [==============================] - 131s 94ms/step - loss: 0.2980 - digit0_loss: 0.0402 - digit1_loss: 0.0701 - digit2_loss: 0.0792 - digit3_loss: 0.0693 - digit4_loss: 0.0393 - digit0_accuracy: 0.8135 - digit1_accuracy: 0.6228 - digit2_accuracy: 0.5579 - digit3_accuracy: 0.6313 - digit4_accuracy: 0.8199 - val_loss: 0.2132 - val_digit0_loss: 0.0233 - val_digit1_loss: 0.0525 - val_digit2_loss: 0.0621 - val_digit3_loss: 0.0513 - val_digit4_loss: 0.0241 - val_digit0_accuracy: 0.9093 - val_digit1_accuracy: 0.7629 - val_digit2_accuracy: 0.6915 - val_digit3_accuracy: 0.7647 - val_digit4_accuracy: 0.9039\n",
      "Epoch 6/40\n",
      "1398/1398 [==============================] - 139s 99ms/step - loss: 0.2639 - digit0_loss: 0.0345 - digit1_loss: 0.0626 - digit2_loss: 0.0716 - digit3_loss: 0.0622 - digit4_loss: 0.0330 - digit0_accuracy: 0.8433 - digit1_accuracy: 0.6703 - digit2_accuracy: 0.6105 - digit3_accuracy: 0.6778 - digit4_accuracy: 0.8529 - val_loss: 0.1845 - val_digit0_loss: 0.0197 - val_digit1_loss: 0.0454 - val_digit2_loss: 0.0551 - val_digit3_loss: 0.0451 - val_digit4_loss: 0.0192 - val_digit0_accuracy: 0.9200 - val_digit1_accuracy: 0.7878 - val_digit2_accuracy: 0.7252 - val_digit3_accuracy: 0.7928 - val_digit4_accuracy: 0.9175\n",
      "Epoch 7/40\n",
      "1398/1398 [==============================] - 135s 97ms/step - loss: 0.2368 - digit0_loss: 0.0301 - digit1_loss: 0.0568 - digit2_loss: 0.0648 - digit3_loss: 0.0562 - digit4_loss: 0.0289 - digit0_accuracy: 0.8653 - digit1_accuracy: 0.7091 - digit2_accuracy: 0.6560 - digit3_accuracy: 0.7146 - digit4_accuracy: 0.8720 - val_loss: 0.1567 - val_digit0_loss: 0.0163 - val_digit1_loss: 0.0388 - val_digit2_loss: 0.0471 - val_digit3_loss: 0.0390 - val_digit4_loss: 0.0155 - val_digit0_accuracy: 0.9318 - val_digit1_accuracy: 0.8266 - val_digit2_accuracy: 0.7757 - val_digit3_accuracy: 0.8160 - val_digit4_accuracy: 0.9325\n",
      "Epoch 8/40\n",
      "1398/1398 [==============================] - 144s 103ms/step - loss: 0.2159 - digit0_loss: 0.0270 - digit1_loss: 0.0519 - digit2_loss: 0.0595 - digit3_loss: 0.0515 - digit4_loss: 0.0260 - digit0_accuracy: 0.8816 - digit1_accuracy: 0.7389 - digit2_accuracy: 0.6932 - digit3_accuracy: 0.7440 - digit4_accuracy: 0.8863 - val_loss: 0.1399 - val_digit0_loss: 0.0139 - val_digit1_loss: 0.0349 - val_digit2_loss: 0.0419 - val_digit3_loss: 0.0351 - val_digit4_loss: 0.0142 - val_digit0_accuracy: 0.9405 - val_digit1_accuracy: 0.8441 - val_digit2_accuracy: 0.8062 - val_digit3_accuracy: 0.8420 - val_digit4_accuracy: 0.9377\n",
      "Epoch 9/40\n",
      "1398/1398 [==============================] - 133s 95ms/step - loss: 0.1988 - digit0_loss: 0.0245 - digit1_loss: 0.0481 - digit2_loss: 0.0547 - digit3_loss: 0.0478 - digit4_loss: 0.0237 - digit0_accuracy: 0.8939 - digit1_accuracy: 0.7619 - digit2_accuracy: 0.7236 - digit3_accuracy: 0.7660 - digit4_accuracy: 0.8972 - val_loss: 0.1342 - val_digit0_loss: 0.0132 - val_digit1_loss: 0.0339 - val_digit2_loss: 0.0397 - val_digit3_loss: 0.0336 - val_digit4_loss: 0.0137 - val_digit0_accuracy: 0.9421 - val_digit1_accuracy: 0.8483 - val_digit2_accuracy: 0.8196 - val_digit3_accuracy: 0.8461 - val_digit4_accuracy: 0.9382\n",
      "Epoch 10/40\n",
      "1398/1398 [==============================] - 124s 88ms/step - loss: 0.1849 - digit0_loss: 0.0224 - digit1_loss: 0.0450 - digit2_loss: 0.0511 - digit3_loss: 0.0445 - digit4_loss: 0.0220 - digit0_accuracy: 0.9024 - digit1_accuracy: 0.7807 - digit2_accuracy: 0.7479 - digit3_accuracy: 0.7828 - digit4_accuracy: 0.9053 - val_loss: 0.1172 - val_digit0_loss: 0.0113 - val_digit1_loss: 0.0295 - val_digit2_loss: 0.0351 - val_digit3_loss: 0.0294 - val_digit4_loss: 0.0118 - val_digit0_accuracy: 0.9501 - val_digit1_accuracy: 0.8703 - val_digit2_accuracy: 0.8431 - val_digit3_accuracy: 0.8662 - val_digit4_accuracy: 0.9461\n",
      "Epoch 11/40\n",
      "1398/1398 [==============================] - 122s 87ms/step - loss: 0.1730 - digit0_loss: 0.0208 - digit1_loss: 0.0422 - digit2_loss: 0.0477 - digit3_loss: 0.0417 - digit4_loss: 0.0207 - digit0_accuracy: 0.9095 - digit1_accuracy: 0.7959 - digit2_accuracy: 0.7688 - digit3_accuracy: 0.8010 - digit4_accuracy: 0.9122 - val_loss: 0.1137 - val_digit0_loss: 0.0116 - val_digit1_loss: 0.0285 - val_digit2_loss: 0.0339 - val_digit3_loss: 0.0283 - val_digit4_loss: 0.0113 - val_digit0_accuracy: 0.9490 - val_digit1_accuracy: 0.8755 - val_digit2_accuracy: 0.8516 - val_digit3_accuracy: 0.8724 - val_digit4_accuracy: 0.9486\n",
      "Epoch 12/40\n",
      "1398/1398 [==============================] - 127s 91ms/step - loss: 0.1633 - digit0_loss: 0.0196 - digit1_loss: 0.0401 - digit2_loss: 0.0449 - digit3_loss: 0.0394 - digit4_loss: 0.0193 - digit0_accuracy: 0.9144 - digit1_accuracy: 0.8090 - digit2_accuracy: 0.7858 - digit3_accuracy: 0.8124 - digit4_accuracy: 0.9175 - val_loss: 0.1039 - val_digit0_loss: 0.0104 - val_digit1_loss: 0.0262 - val_digit2_loss: 0.0306 - val_digit3_loss: 0.0261 - val_digit4_loss: 0.0106 - val_digit0_accuracy: 0.9525 - val_digit1_accuracy: 0.8843 - val_digit2_accuracy: 0.8651 - val_digit3_accuracy: 0.8824 - val_digit4_accuracy: 0.9498\n",
      "Epoch 13/40\n",
      "1398/1398 [==============================] - 130s 93ms/step - loss: 0.1555 - digit0_loss: 0.0186 - digit1_loss: 0.0381 - digit2_loss: 0.0428 - digit3_loss: 0.0375 - digit4_loss: 0.0185 - digit0_accuracy: 0.9197 - digit1_accuracy: 0.8190 - digit2_accuracy: 0.7961 - digit3_accuracy: 0.8238 - digit4_accuracy: 0.9223 - val_loss: 0.1015 - val_digit0_loss: 0.0104 - val_digit1_loss: 0.0253 - val_digit2_loss: 0.0298 - val_digit3_loss: 0.0251 - val_digit4_loss: 0.0108 - val_digit0_accuracy: 0.9514 - val_digit1_accuracy: 0.8873 - val_digit2_accuracy: 0.8671 - val_digit3_accuracy: 0.8880 - val_digit4_accuracy: 0.9492\n",
      "Epoch 14/40\n",
      "1398/1398 [==============================] - 129s 92ms/step - loss: 0.1476 - digit0_loss: 0.0175 - digit1_loss: 0.0365 - digit2_loss: 0.0408 - digit3_loss: 0.0353 - digit4_loss: 0.0176 - digit0_accuracy: 0.9247 - digit1_accuracy: 0.8293 - digit2_accuracy: 0.8081 - digit3_accuracy: 0.8352 - digit4_accuracy: 0.9266 - val_loss: 0.0923 - val_digit0_loss: 0.0090 - val_digit1_loss: 0.0235 - val_digit2_loss: 0.0273 - val_digit3_loss: 0.0234 - val_digit4_loss: 0.0092 - val_digit0_accuracy: 0.9579 - val_digit1_accuracy: 0.8950 - val_digit2_accuracy: 0.8799 - val_digit3_accuracy: 0.8956 - val_digit4_accuracy: 0.9590\n",
      "Epoch 15/40\n",
      "1398/1398 [==============================] - 149s 106ms/step - loss: 0.1416 - digit0_loss: 0.0168 - digit1_loss: 0.0351 - digit2_loss: 0.0390 - digit3_loss: 0.0340 - digit4_loss: 0.0167 - digit0_accuracy: 0.9273 - digit1_accuracy: 0.8363 - digit2_accuracy: 0.8195 - digit3_accuracy: 0.8404 - digit4_accuracy: 0.9306 - val_loss: 0.0895 - val_digit0_loss: 0.0090 - val_digit1_loss: 0.0226 - val_digit2_loss: 0.0265 - val_digit3_loss: 0.0224 - val_digit4_loss: 0.0090 - val_digit0_accuracy: 0.9580 - val_digit1_accuracy: 0.9001 - val_digit2_accuracy: 0.8867 - val_digit3_accuracy: 0.8993 - val_digit4_accuracy: 0.9570\n",
      "Epoch 16/40\n",
      "1398/1398 [==============================] - 125s 89ms/step - loss: 0.1370 - digit0_loss: 0.0163 - digit1_loss: 0.0338 - digit2_loss: 0.0375 - digit3_loss: 0.0329 - digit4_loss: 0.0164 - digit0_accuracy: 0.9302 - digit1_accuracy: 0.8433 - digit2_accuracy: 0.8278 - digit3_accuracy: 0.8476 - digit4_accuracy: 0.9315 - val_loss: 0.0846 - val_digit0_loss: 0.0085 - val_digit1_loss: 0.0214 - val_digit2_loss: 0.0249 - val_digit3_loss: 0.0210 - val_digit4_loss: 0.0087 - val_digit0_accuracy: 0.9618 - val_digit1_accuracy: 0.9026 - val_digit2_accuracy: 0.8915 - val_digit3_accuracy: 0.9062 - val_digit4_accuracy: 0.9600\n",
      "Epoch 17/40\n",
      "1398/1398 [==============================] - 122s 87ms/step - loss: 0.1320 - digit0_loss: 0.0157 - digit1_loss: 0.0324 - digit2_loss: 0.0362 - digit3_loss: 0.0320 - digit4_loss: 0.0157 - digit0_accuracy: 0.9330 - digit1_accuracy: 0.8506 - digit2_accuracy: 0.8336 - digit3_accuracy: 0.8530 - digit4_accuracy: 0.9343 - val_loss: 0.0826 - val_digit0_loss: 0.0084 - val_digit1_loss: 0.0209 - val_digit2_loss: 0.0243 - val_digit3_loss: 0.0205 - val_digit4_loss: 0.0084 - val_digit0_accuracy: 0.9602 - val_digit1_accuracy: 0.9068 - val_digit2_accuracy: 0.8938 - val_digit3_accuracy: 0.9061 - val_digit4_accuracy: 0.9604\n",
      "Epoch 18/40\n",
      "1398/1398 [==============================] - 127s 91ms/step - loss: 0.1281 - digit0_loss: 0.0152 - digit1_loss: 0.0317 - digit2_loss: 0.0350 - digit3_loss: 0.0309 - digit4_loss: 0.0155 - digit0_accuracy: 0.9359 - digit1_accuracy: 0.8555 - digit2_accuracy: 0.8408 - digit3_accuracy: 0.8583 - digit4_accuracy: 0.9349 - val_loss: 0.0827 - val_digit0_loss: 0.0085 - val_digit1_loss: 0.0210 - val_digit2_loss: 0.0243 - val_digit3_loss: 0.0205 - val_digit4_loss: 0.0084 - val_digit0_accuracy: 0.9602 - val_digit1_accuracy: 0.9068 - val_digit2_accuracy: 0.8950 - val_digit3_accuracy: 0.9072 - val_digit4_accuracy: 0.9601\n",
      "Epoch 19/40\n",
      "1398/1398 [==============================] - 126s 90ms/step - loss: 0.1245 - digit0_loss: 0.0148 - digit1_loss: 0.0308 - digit2_loss: 0.0340 - digit3_loss: 0.0299 - digit4_loss: 0.0150 - digit0_accuracy: 0.9368 - digit1_accuracy: 0.8606 - digit2_accuracy: 0.8464 - digit3_accuracy: 0.8643 - digit4_accuracy: 0.9370 - val_loss: 0.0787 - val_digit0_loss: 0.0081 - val_digit1_loss: 0.0198 - val_digit2_loss: 0.0231 - val_digit3_loss: 0.0196 - val_digit4_loss: 0.0081 - val_digit0_accuracy: 0.9620 - val_digit1_accuracy: 0.9102 - val_digit2_accuracy: 0.9007 - val_digit3_accuracy: 0.9126 - val_digit4_accuracy: 0.9632\n",
      "Epoch 20/40\n",
      "1398/1398 [==============================] - 127s 91ms/step - loss: 0.1209 - digit0_loss: 0.0143 - digit1_loss: 0.0300 - digit2_loss: 0.0332 - digit3_loss: 0.0289 - digit4_loss: 0.0144 - digit0_accuracy: 0.9381 - digit1_accuracy: 0.8637 - digit2_accuracy: 0.8525 - digit3_accuracy: 0.8689 - digit4_accuracy: 0.9404 - val_loss: 0.0760 - val_digit0_loss: 0.0075 - val_digit1_loss: 0.0195 - val_digit2_loss: 0.0223 - val_digit3_loss: 0.0191 - val_digit4_loss: 0.0075 - val_digit0_accuracy: 0.9649 - val_digit1_accuracy: 0.9110 - val_digit2_accuracy: 0.9042 - val_digit3_accuracy: 0.9126 - val_digit4_accuracy: 0.9638\n",
      "Epoch 21/40\n",
      "1398/1398 [==============================] - 148s 106ms/step - loss: 0.1180 - digit0_loss: 0.0139 - digit1_loss: 0.0294 - digit2_loss: 0.0322 - digit3_loss: 0.0282 - digit4_loss: 0.0142 - digit0_accuracy: 0.9410 - digit1_accuracy: 0.8659 - digit2_accuracy: 0.8553 - digit3_accuracy: 0.8741 - digit4_accuracy: 0.9403 - val_loss: 0.0746 - val_digit0_loss: 0.0076 - val_digit1_loss: 0.0191 - val_digit2_loss: 0.0219 - val_digit3_loss: 0.0183 - val_digit4_loss: 0.0077 - val_digit0_accuracy: 0.9646 - val_digit1_accuracy: 0.9158 - val_digit2_accuracy: 0.9061 - val_digit3_accuracy: 0.9168 - val_digit4_accuracy: 0.9636\n",
      "Epoch 22/40\n",
      "1398/1398 [==============================] - 145s 104ms/step - loss: 0.1158 - digit0_loss: 0.0138 - digit1_loss: 0.0287 - digit2_loss: 0.0316 - digit3_loss: 0.0280 - digit4_loss: 0.0137 - digit0_accuracy: 0.9415 - digit1_accuracy: 0.8711 - digit2_accuracy: 0.8583 - digit3_accuracy: 0.8729 - digit4_accuracy: 0.9438 - val_loss: 0.0750 - val_digit0_loss: 0.0078 - val_digit1_loss: 0.0191 - val_digit2_loss: 0.0218 - val_digit3_loss: 0.0186 - val_digit4_loss: 0.0078 - val_digit0_accuracy: 0.9631 - val_digit1_accuracy: 0.9156 - val_digit2_accuracy: 0.9081 - val_digit3_accuracy: 0.9163 - val_digit4_accuracy: 0.9639\n",
      "Epoch 23/40\n",
      "1398/1398 [==============================] - 141s 101ms/step - loss: 0.1135 - digit0_loss: 0.0136 - digit1_loss: 0.0279 - digit2_loss: 0.0312 - digit3_loss: 0.0272 - digit4_loss: 0.0136 - digit0_accuracy: 0.9422 - digit1_accuracy: 0.8725 - digit2_accuracy: 0.8636 - digit3_accuracy: 0.8787 - digit4_accuracy: 0.9432 - val_loss: 0.0805 - val_digit0_loss: 0.0087 - val_digit1_loss: 0.0203 - val_digit2_loss: 0.0230 - val_digit3_loss: 0.0199 - val_digit4_loss: 0.0086 - val_digit0_accuracy: 0.9584 - val_digit1_accuracy: 0.9082 - val_digit2_accuracy: 0.8991 - val_digit3_accuracy: 0.9078 - val_digit4_accuracy: 0.9596\n",
      "Epoch 24/40\n",
      "1398/1398 [==============================] - 135s 97ms/step - loss: 0.1104 - digit0_loss: 0.0132 - digit1_loss: 0.0272 - digit2_loss: 0.0302 - digit3_loss: 0.0266 - digit4_loss: 0.0132 - digit0_accuracy: 0.9444 - digit1_accuracy: 0.8786 - digit2_accuracy: 0.8672 - digit3_accuracy: 0.8809 - digit4_accuracy: 0.9454 - val_loss: 0.0736 - val_digit0_loss: 0.0075 - val_digit1_loss: 0.0186 - val_digit2_loss: 0.0213 - val_digit3_loss: 0.0184 - val_digit4_loss: 0.0078 - val_digit0_accuracy: 0.9647 - val_digit1_accuracy: 0.9173 - val_digit2_accuracy: 0.9076 - val_digit3_accuracy: 0.9174 - val_digit4_accuracy: 0.9630\n",
      "Epoch 25/40\n",
      "1398/1398 [==============================] - 131s 94ms/step - loss: 0.1086 - digit0_loss: 0.0128 - digit1_loss: 0.0269 - digit2_loss: 0.0295 - digit3_loss: 0.0261 - digit4_loss: 0.0132 - digit0_accuracy: 0.9461 - digit1_accuracy: 0.8797 - digit2_accuracy: 0.8702 - digit3_accuracy: 0.8831 - digit4_accuracy: 0.9454 - val_loss: 0.0749 - val_digit0_loss: 0.0077 - val_digit1_loss: 0.0187 - val_digit2_loss: 0.0220 - val_digit3_loss: 0.0187 - val_digit4_loss: 0.0078 - val_digit0_accuracy: 0.9633 - val_digit1_accuracy: 0.9157 - val_digit2_accuracy: 0.9004 - val_digit3_accuracy: 0.9138 - val_digit4_accuracy: 0.9626\n",
      "Epoch 26/40\n",
      "1398/1398 [==============================] - 128s 92ms/step - loss: 0.1073 - digit0_loss: 0.0128 - digit1_loss: 0.0265 - digit2_loss: 0.0292 - digit3_loss: 0.0258 - digit4_loss: 0.0130 - digit0_accuracy: 0.9466 - digit1_accuracy: 0.8818 - digit2_accuracy: 0.8724 - digit3_accuracy: 0.8855 - digit4_accuracy: 0.9467 - val_loss: 0.0729 - val_digit0_loss: 0.0078 - val_digit1_loss: 0.0183 - val_digit2_loss: 0.0211 - val_digit3_loss: 0.0180 - val_digit4_loss: 0.0077 - val_digit0_accuracy: 0.9631 - val_digit1_accuracy: 0.9194 - val_digit2_accuracy: 0.9082 - val_digit3_accuracy: 0.9184 - val_digit4_accuracy: 0.9648\n",
      "Epoch 27/40\n",
      "1398/1398 [==============================] - 142s 102ms/step - loss: 0.1053 - digit0_loss: 0.0127 - digit1_loss: 0.0262 - digit2_loss: 0.0288 - digit3_loss: 0.0249 - digit4_loss: 0.0127 - digit0_accuracy: 0.9459 - digit1_accuracy: 0.8830 - digit2_accuracy: 0.8748 - digit3_accuracy: 0.8893 - digit4_accuracy: 0.9472 - val_loss: 0.0706 - val_digit0_loss: 0.0077 - val_digit1_loss: 0.0177 - val_digit2_loss: 0.0203 - val_digit3_loss: 0.0173 - val_digit4_loss: 0.0075 - val_digit0_accuracy: 0.9626 - val_digit1_accuracy: 0.9171 - val_digit2_accuracy: 0.9105 - val_digit3_accuracy: 0.9205 - val_digit4_accuracy: 0.9641\n",
      "Epoch 28/40\n",
      "1398/1398 [==============================] - 147s 105ms/step - loss: 0.1038 - digit0_loss: 0.0125 - digit1_loss: 0.0255 - digit2_loss: 0.0283 - digit3_loss: 0.0248 - digit4_loss: 0.0126 - digit0_accuracy: 0.9473 - digit1_accuracy: 0.8861 - digit2_accuracy: 0.8769 - digit3_accuracy: 0.8920 - digit4_accuracy: 0.9482 - val_loss: 0.0700 - val_digit0_loss: 0.0073 - val_digit1_loss: 0.0175 - val_digit2_loss: 0.0203 - val_digit3_loss: 0.0173 - val_digit4_loss: 0.0076 - val_digit0_accuracy: 0.9663 - val_digit1_accuracy: 0.9198 - val_digit2_accuracy: 0.9125 - val_digit3_accuracy: 0.9222 - val_digit4_accuracy: 0.9642\n",
      "Epoch 29/40\n",
      "1398/1398 [==============================] - 143s 102ms/step - loss: 0.1023 - digit0_loss: 0.0123 - digit1_loss: 0.0252 - digit2_loss: 0.0279 - digit3_loss: 0.0245 - digit4_loss: 0.0125 - digit0_accuracy: 0.9480 - digit1_accuracy: 0.8881 - digit2_accuracy: 0.8788 - digit3_accuracy: 0.8916 - digit4_accuracy: 0.9482 - val_loss: 0.0671 - val_digit0_loss: 0.0071 - val_digit1_loss: 0.0171 - val_digit2_loss: 0.0194 - val_digit3_loss: 0.0164 - val_digit4_loss: 0.0071 - val_digit0_accuracy: 0.9656 - val_digit1_accuracy: 0.9234 - val_digit2_accuracy: 0.9171 - val_digit3_accuracy: 0.9257 - val_digit4_accuracy: 0.9680\n",
      "Epoch 30/40\n",
      "1398/1398 [==============================] - 133s 95ms/step - loss: 0.1007 - digit0_loss: 0.0122 - digit1_loss: 0.0249 - digit2_loss: 0.0273 - digit3_loss: 0.0242 - digit4_loss: 0.0122 - digit0_accuracy: 0.9481 - digit1_accuracy: 0.8897 - digit2_accuracy: 0.8821 - digit3_accuracy: 0.8942 - digit4_accuracy: 0.9501 - val_loss: 0.0683 - val_digit0_loss: 0.0074 - val_digit1_loss: 0.0170 - val_digit2_loss: 0.0198 - val_digit3_loss: 0.0166 - val_digit4_loss: 0.0076 - val_digit0_accuracy: 0.9653 - val_digit1_accuracy: 0.9225 - val_digit2_accuracy: 0.9131 - val_digit3_accuracy: 0.9245 - val_digit4_accuracy: 0.9653\n",
      "Epoch 31/40\n",
      "1398/1398 [==============================] - 135s 96ms/step - loss: 0.0992 - digit0_loss: 0.0120 - digit1_loss: 0.0245 - digit2_loss: 0.0270 - digit3_loss: 0.0236 - digit4_loss: 0.0121 - digit0_accuracy: 0.9505 - digit1_accuracy: 0.8921 - digit2_accuracy: 0.8828 - digit3_accuracy: 0.8962 - digit4_accuracy: 0.9501 - val_loss: 0.0666 - val_digit0_loss: 0.0069 - val_digit1_loss: 0.0171 - val_digit2_loss: 0.0191 - val_digit3_loss: 0.0163 - val_digit4_loss: 0.0072 - val_digit0_accuracy: 0.9679 - val_digit1_accuracy: 0.9215 - val_digit2_accuracy: 0.9150 - val_digit3_accuracy: 0.9246 - val_digit4_accuracy: 0.9660\n",
      "Epoch 32/40\n",
      "1398/1398 [==============================] - 130s 93ms/step - loss: 0.0987 - digit0_loss: 0.0121 - digit1_loss: 0.0241 - digit2_loss: 0.0266 - digit3_loss: 0.0238 - digit4_loss: 0.0121 - digit0_accuracy: 0.9493 - digit1_accuracy: 0.8945 - digit2_accuracy: 0.8855 - digit3_accuracy: 0.8957 - digit4_accuracy: 0.9513 - val_loss: 0.0680 - val_digit0_loss: 0.0073 - val_digit1_loss: 0.0170 - val_digit2_loss: 0.0197 - val_digit3_loss: 0.0169 - val_digit4_loss: 0.0071 - val_digit0_accuracy: 0.9665 - val_digit1_accuracy: 0.9228 - val_digit2_accuracy: 0.9132 - val_digit3_accuracy: 0.9229 - val_digit4_accuracy: 0.9674\n",
      "Epoch 33/40\n",
      "1398/1398 [==============================] - 135s 97ms/step - loss: 0.0971 - digit0_loss: 0.0119 - digit1_loss: 0.0237 - digit2_loss: 0.0265 - digit3_loss: 0.0229 - digit4_loss: 0.0122 - digit0_accuracy: 0.9499 - digit1_accuracy: 0.8960 - digit2_accuracy: 0.8857 - digit3_accuracy: 0.9007 - digit4_accuracy: 0.9497 - val_loss: 0.0633 - val_digit0_loss: 0.0068 - val_digit1_loss: 0.0160 - val_digit2_loss: 0.0183 - val_digit3_loss: 0.0154 - val_digit4_loss: 0.0068 - val_digit0_accuracy: 0.9679 - val_digit1_accuracy: 0.9276 - val_digit2_accuracy: 0.9211 - val_digit3_accuracy: 0.9318 - val_digit4_accuracy: 0.9681\n",
      "Epoch 34/40\n",
      "1398/1398 [==============================] - 146s 104ms/step - loss: 0.0965 - digit0_loss: 0.0117 - digit1_loss: 0.0237 - digit2_loss: 0.0263 - digit3_loss: 0.0230 - digit4_loss: 0.0119 - digit0_accuracy: 0.9513 - digit1_accuracy: 0.8976 - digit2_accuracy: 0.8877 - digit3_accuracy: 0.8997 - digit4_accuracy: 0.9511 - val_loss: 0.0620 - val_digit0_loss: 0.0067 - val_digit1_loss: 0.0158 - val_digit2_loss: 0.0178 - val_digit3_loss: 0.0152 - val_digit4_loss: 0.0065 - val_digit0_accuracy: 0.9685 - val_digit1_accuracy: 0.9292 - val_digit2_accuracy: 0.9216 - val_digit3_accuracy: 0.9305 - val_digit4_accuracy: 0.9699\n",
      "Epoch 35/40\n",
      "1398/1398 [==============================] - 148s 106ms/step - loss: 0.0946 - digit0_loss: 0.0114 - digit1_loss: 0.0232 - digit2_loss: 0.0258 - digit3_loss: 0.0224 - digit4_loss: 0.0118 - digit0_accuracy: 0.9516 - digit1_accuracy: 0.9001 - digit2_accuracy: 0.8889 - digit3_accuracy: 0.9023 - digit4_accuracy: 0.9519 - val_loss: 0.0634 - val_digit0_loss: 0.0068 - val_digit1_loss: 0.0158 - val_digit2_loss: 0.0184 - val_digit3_loss: 0.0155 - val_digit4_loss: 0.0070 - val_digit0_accuracy: 0.9676 - val_digit1_accuracy: 0.9276 - val_digit2_accuracy: 0.9192 - val_digit3_accuracy: 0.9296 - val_digit4_accuracy: 0.9675\n",
      "Epoch 36/40\n",
      "1398/1398 [==============================] - 142s 102ms/step - loss: 0.0937 - digit0_loss: 0.0114 - digit1_loss: 0.0230 - digit2_loss: 0.0255 - digit3_loss: 0.0224 - digit4_loss: 0.0114 - digit0_accuracy: 0.9520 - digit1_accuracy: 0.8990 - digit2_accuracy: 0.8919 - digit3_accuracy: 0.9032 - digit4_accuracy: 0.9535 - val_loss: 0.0643 - val_digit0_loss: 0.0071 - val_digit1_loss: 0.0164 - val_digit2_loss: 0.0185 - val_digit3_loss: 0.0156 - val_digit4_loss: 0.0068 - val_digit0_accuracy: 0.9675 - val_digit1_accuracy: 0.9269 - val_digit2_accuracy: 0.9190 - val_digit3_accuracy: 0.9308 - val_digit4_accuracy: 0.9676\n",
      "Epoch 37/40\n",
      "1398/1398 [==============================] - 142s 102ms/step - loss: 0.0933 - digit0_loss: 0.0114 - digit1_loss: 0.0226 - digit2_loss: 0.0255 - digit3_loss: 0.0221 - digit4_loss: 0.0116 - digit0_accuracy: 0.9534 - digit1_accuracy: 0.9025 - digit2_accuracy: 0.8913 - digit3_accuracy: 0.9032 - digit4_accuracy: 0.9526 - val_loss: 0.0634 - val_digit0_loss: 0.0067 - val_digit1_loss: 0.0160 - val_digit2_loss: 0.0184 - val_digit3_loss: 0.0155 - val_digit4_loss: 0.0067 - val_digit0_accuracy: 0.9685 - val_digit1_accuracy: 0.9281 - val_digit2_accuracy: 0.9209 - val_digit3_accuracy: 0.9309 - val_digit4_accuracy: 0.9685\n",
      "Epoch 38/40\n",
      "1398/1398 [==============================] - 136s 97ms/step - loss: 0.0924 - digit0_loss: 0.0113 - digit1_loss: 0.0227 - digit2_loss: 0.0252 - digit3_loss: 0.0218 - digit4_loss: 0.0114 - digit0_accuracy: 0.9525 - digit1_accuracy: 0.9006 - digit2_accuracy: 0.8922 - digit3_accuracy: 0.9056 - digit4_accuracy: 0.9536 - val_loss: 0.0611 - val_digit0_loss: 0.0066 - val_digit1_loss: 0.0155 - val_digit2_loss: 0.0177 - val_digit3_loss: 0.0150 - val_digit4_loss: 0.0064 - val_digit0_accuracy: 0.9687 - val_digit1_accuracy: 0.9302 - val_digit2_accuracy: 0.9221 - val_digit3_accuracy: 0.9344 - val_digit4_accuracy: 0.9702\n",
      "Epoch 39/40\n",
      "1398/1398 [==============================] - 135s 97ms/step - loss: 0.0905 - digit0_loss: 0.0109 - digit1_loss: 0.0222 - digit2_loss: 0.0246 - digit3_loss: 0.0216 - digit4_loss: 0.0111 - digit0_accuracy: 0.9551 - digit1_accuracy: 0.9044 - digit2_accuracy: 0.8948 - digit3_accuracy: 0.9065 - digit4_accuracy: 0.9541 - val_loss: 0.0647 - val_digit0_loss: 0.0070 - val_digit1_loss: 0.0162 - val_digit2_loss: 0.0186 - val_digit3_loss: 0.0158 - val_digit4_loss: 0.0071 - val_digit0_accuracy: 0.9671 - val_digit1_accuracy: 0.9273 - val_digit2_accuracy: 0.9183 - val_digit3_accuracy: 0.9278 - val_digit4_accuracy: 0.9663\n",
      "Epoch 40/40\n",
      "1398/1398 [==============================] - 130s 93ms/step - loss: 0.0902 - digit0_loss: 0.0110 - digit1_loss: 0.0220 - digit2_loss: 0.0246 - digit3_loss: 0.0215 - digit4_loss: 0.0110 - digit0_accuracy: 0.9533 - digit1_accuracy: 0.9042 - digit2_accuracy: 0.8937 - digit3_accuracy: 0.9077 - digit4_accuracy: 0.9560 - val_loss: 0.0614 - val_digit0_loss: 0.0065 - val_digit1_loss: 0.0154 - val_digit2_loss: 0.0180 - val_digit3_loss: 0.0148 - val_digit4_loss: 0.0067 - val_digit0_accuracy: 0.9682 - val_digit1_accuracy: 0.9299 - val_digit2_accuracy: 0.9210 - val_digit3_accuracy: 0.9330 - val_digit4_accuracy: 0.9682\n"
     ]
    }
   ],
   "source": [
    "history = model.fit(x_train, s_train,\n",
    "                    batch_size=BATCH_SIZE,\n",
    "                    epochs=EPOCHS,\n",
    "                    verbose=1,\n",
    "                    validation_data=(x_test, s_test)\n",
    "                   )"
   ]
  },
  {
   "cell_type": "code",
   "execution_count": 15,
   "id": "fdc8c032",
   "metadata": {},
   "outputs": [],
   "source": [
    "digit_acc = [[] for _ in range(NUM_OF_LETTERS)]\n",
    "val_digit_acc = [[] for _ in range(NUM_OF_LETTERS)]\n",
    "loss = []\n",
    "val_loss = []\n",
    "\n",
    "\n",
    "def plot_diagram(digit_acc_now, val_digit_acc_now, loss_now, val_loss_now):\n",
    "    global digit_acc, val_digit_acc, loss, val_loss\n",
    "    \n",
    "    \n",
    "    for i in range(NUM_OF_LETTERS):\n",
    "        digit_acc[i].extend(digit_acc_now[i])\n",
    "        val_digit_acc[i].extend(val_digit_acc_now[i])\n",
    "    loss.extend(loss_now)\n",
    "    val_loss.extend(val_loss_now)\n",
    "    \n",
    "    for i in range(NUM_OF_LETTERS):\n",
    "        s = {0:'First', 1:'Second', 2:'Third', 3:'Fourth', 4:'Fifth'}[i]\n",
    "        # plt.plot(val_digit_acc[i], label='%s Digit Train' % s)\n",
    "        plt.plot(digit_acc[i], label='%s Digit Test' % s)\n",
    "\n",
    "    plt.title('Model accuracy')\n",
    "    plt.ylabel('Accuracy')\n",
    "    plt.xlabel('Epoch')\n",
    "    plt.legend()\n",
    "    plt.show()\n",
    "\n",
    "    for i in range(NUM_OF_LETTERS):\n",
    "        s = {0:'First', 1:'Second', 2:'Third', 3:'Fourth', 4:'Fifth'}[i]\n",
    "        plt.plot(val_digit_acc[i], label='%s Digit Train' % s)\n",
    "        # plt.plot(digit_acc[i], label='%s Digit Test' % s)\n",
    "\n",
    "    plt.title('Model accuracy')\n",
    "    plt.ylabel('Accuracy')\n",
    "    plt.xlabel('Epoch')\n",
    "    plt.legend()\n",
    "    plt.show()\n",
    "\n",
    "\n",
    "\n",
    "    # Plot training & validation loss values\n",
    "    \n",
    "    plt.plot(val_loss, label='Train')\n",
    "    plt.plot(loss, label='Test')\n",
    "    plt.title('Model loss')\n",
    "    plt.ylabel('Loss')\n",
    "    plt.xlabel('Epoch')\n",
    "    plt.legend()\n",
    "    plt.show()"
   ]
  },
  {
   "cell_type": "code",
   "execution_count": 16,
   "id": "59dae2cf",
   "metadata": {},
   "outputs": [
    {
     "data": {
      "image/png": "[encoded data removed]",
      "text/plain": [
       "<Figure size 432x288 with 1 Axes>"
      ]
     },
     "metadata": {
      "needs_background": "light"
     },
     "output_type": "display_data"
    },
    {
     "data": {
      "image/png": "[encoded data removed]",
      "text/plain": [
       "<Figure size 432x288 with 1 Axes>"
      ]
     },
     "metadata": {
      "needs_background": "light"
     },
     "output_type": "display_data"
    },
    {
     "data": {
      "image/png": "[encoded data removed]",
      "text/plain": [
       "<Figure size 432x288 with 1 Axes>"
      ]
     },
     "metadata": {
      "needs_background": "light"
     },
     "output_type": "display_data"
    }
   ],
   "source": [
    "plot_diagram(\n",
    "    \n",
    "    [history.history['digit%d_accuracy' % i] for i in range(NUM_OF_LETTERS)],\n",
    "    [history.history['val_digit%d_accuracy' % i] for i in range(NUM_OF_LETTERS)],\n",
    "    history.history['loss'],\n",
    "    history.history['val_loss'],\n",
    ")"
   ]
  },
  {
   "cell_type": "code",
   "execution_count": 17,
   "id": "f8fd4ce7",
   "metadata": {},
   "outputs": [
    {
     "name": "stdout",
     "output_type": "stream",
     "text": [
      "Saved trained model at C:\\Users\\Aishwaryakopika\\Desktop\\GAIP_1L\\saved_models\\keras_cifar10_trained_model.h5 \n"
     ]
    }
   ],
   "source": [
    "# Save model and weights\n",
    "if not os.path.isdir(save_dir):\n",
    "    os.makedirs(save_dir)\n",
    "model_path = os.path.join(save_dir, model_name)\n",
    "model.save(model_path)\n",
    "print('Saved trained model at %s ' % model_path)"
   ]
  },
  {
   "cell_type": "code",
   "execution_count": 18,
   "id": "28431f2a",
   "metadata": {},
   "outputs": [
    {
     "name": "stdout",
     "output_type": "stream",
     "text": [
      "2185/2185 [==============================] - 34s 15ms/step - loss: 0.0311 - digit0_loss: 0.0029 - digit1_loss: 0.0080 - digit2_loss: 0.0094 - digit3_loss: 0.0077 - digit4_loss: 0.0031 - digit0_accuracy: 0.9885 - digit1_accuracy: 0.9711 - digit2_accuracy: 0.9676 - digit3_accuracy: 0.9731 - digit4_accuracy: 0.9880\n",
      "Train loss:     0.011823\n",
      "Train accuracy: 89.30\n"
     ]
    }
   ],
   "source": [
    "# Score trained model.\n",
    "scores = model.evaluate(x_train, s_train, verbose=1)\n",
    "print('Train loss:     %f' % np.mean(scores[0:5]))\n",
    "acc = 1.\n",
    "for i in range(5):\n",
    "    acc *= scores[6+i]\n",
    "print('Train accuracy: %.2f' % (acc * 100.))"
   ]
  },
  {
   "cell_type": "code",
   "execution_count": 19,
   "id": "a277c54a",
   "metadata": {},
   "outputs": [
    {
     "name": "stdout",
     "output_type": "stream",
     "text": [
      "941/941 [==============================] - 14s 15ms/step - loss: 0.0614 - digit0_loss: 0.0065 - digit1_loss: 0.0154 - digit2_loss: 0.0180 - digit3_loss: 0.0148 - digit4_loss: 0.0067 - digit0_accuracy: 0.9682 - digit1_accuracy: 0.9299 - digit2_accuracy: 0.9210 - digit3_accuracy: 0.9330 - digit4_accuracy: 0.9682\n",
      "Test loss:     0.023237\n",
      "Test accuracy: 74.90\n"
     ]
    }
   ],
   "source": [
    "scores = model.evaluate(x_test, s_test, verbose=1)\n",
    "print('Test loss:     %f' % np.mean(scores[0:5]))\n",
    "acc = 1.\n",
    "for i in range(5):\n",
    "    acc *= scores[6+i]\n",
    "print('Test accuracy: %.2f' % (acc * 100.))"
   ]
  },
  {
   "cell_type": "code",
   "execution_count": null,
   "id": "c8ca3898",
   "metadata": {},
   "outputs": [],
   "source": []
  }
 ],
 "metadata": {
  "kernelspec": {
   "display_name": "Python 3 (ipykernel)",
   "language": "python",
   "name": "python3"
  },
  "language_info": {
   "codemirror_mode": {
    "name": "ipython",
    "version": 3
   },
   "file_extension": ".py",
   "mimetype": "text/x-python",
   "name": "python",
   "nbconvert_exporter": "python",
   "pygments_lexer": "ipython3",
   "version": "3.9.12"
  }
 },
 "nbformat": 4,
 "nbformat_minor": 5
}
